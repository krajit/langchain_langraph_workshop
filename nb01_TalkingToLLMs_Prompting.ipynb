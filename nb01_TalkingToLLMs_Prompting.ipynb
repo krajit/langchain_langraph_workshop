{
 "cells": [
  {
   "cell_type": "markdown",
   "id": "acaa284b",
   "metadata": {},
   "source": [
    "Source: https://python.langchain.com/docs/tutorials/llm_chain/"
   ]
  },
  {
   "cell_type": "code",
   "execution_count": 18,
   "id": "7cf4edb2",
   "metadata": {},
   "outputs": [
    {
     "data": {
      "text/plain": [
       "True"
      ]
     },
     "execution_count": 18,
     "metadata": {},
     "output_type": "execute_result"
    }
   ],
   "source": [
    "import os\n",
    "from dotenv import load_dotenv\n",
    "load_dotenv()"
   ]
  },
  {
   "cell_type": "code",
   "execution_count": 2,
   "id": "d288a31b",
   "metadata": {},
   "outputs": [],
   "source": [
    "from langchain.chat_models import init_chat_model\n",
    "model = init_chat_model(\"gpt-4o-mini\", model_provider=\"openai\")"
   ]
  },
  {
   "cell_type": "code",
   "execution_count": 2,
   "id": "34f9200d",
   "metadata": {},
   "outputs": [],
   "source": [
    "#exercise: try replacing with other models"
   ]
  },
  {
   "cell_type": "code",
   "execution_count": 3,
   "id": "2c21035e",
   "metadata": {},
   "outputs": [
    {
     "data": {
      "text/plain": [
       "AIMessage(content='Ciao!', additional_kwargs={'refusal': None}, response_metadata={'token_usage': {'completion_tokens': 4, 'prompt_tokens': 20, 'total_tokens': 24, 'completion_tokens_details': {'accepted_prediction_tokens': 0, 'audio_tokens': 0, 'reasoning_tokens': 0, 'rejected_prediction_tokens': 0}, 'prompt_tokens_details': {'audio_tokens': 0, 'cached_tokens': 0}}, 'model_name': 'gpt-4o-mini-2024-07-18', 'system_fingerprint': 'fp_0392822090', 'id': 'chatcmpl-BRDUKDht04QO5LyBxp6hfseEtYRS2', 'finish_reason': 'stop', 'logprobs': None}, id='run-e86d4a85-02ca-48fe-b677-eae0f055b81c-0', usage_metadata={'input_tokens': 20, 'output_tokens': 4, 'total_tokens': 24, 'input_token_details': {'audio': 0, 'cache_read': 0}, 'output_token_details': {'audio': 0, 'reasoning': 0}})"
      ]
     },
     "execution_count": 3,
     "metadata": {},
     "output_type": "execute_result"
    }
   ],
   "source": [
    "from langchain_core.messages import HumanMessage, SystemMessage\n",
    "\n",
    "messages = [\n",
    "    SystemMessage(\"Translate the following from English into Italian\"),\n",
    "    HumanMessage(\"hi!\"),\n",
    "]\n",
    "\n",
    "model.invoke(messages)"
   ]
  },
  {
   "cell_type": "code",
   "execution_count": 4,
   "id": "3ed0be30",
   "metadata": {},
   "outputs": [
    {
     "data": {
      "text/plain": [
       "AIMessage(content='मुझे यह केक पसंद है।', additional_kwargs={'refusal': None}, response_metadata={'token_usage': {'completion_tokens': 9, 'prompt_tokens': 23, 'total_tokens': 32, 'completion_tokens_details': {'accepted_prediction_tokens': 0, 'audio_tokens': 0, 'reasoning_tokens': 0, 'rejected_prediction_tokens': 0}, 'prompt_tokens_details': {'audio_tokens': 0, 'cached_tokens': 0}}, 'model_name': 'gpt-4o-mini-2024-07-18', 'system_fingerprint': 'fp_dbaca60df0', 'id': 'chatcmpl-BRDUN9tDpF1zCBu0cd3mmLnSelauI', 'finish_reason': 'stop', 'logprobs': None}, id='run-25429213-76ce-4f13-8919-3045b5f77563-0', usage_metadata={'input_tokens': 23, 'output_tokens': 9, 'total_tokens': 32, 'input_token_details': {'audio': 0, 'cache_read': 0}, 'output_token_details': {'audio': 0, 'reasoning': 0}})"
      ]
     },
     "execution_count": 4,
     "metadata": {},
     "output_type": "execute_result"
    }
   ],
   "source": [
    "messages = [\n",
    "    SystemMessage(\"Translate the following from English into Hindi\"),\n",
    "    HumanMessage(\"I like this cake.\"),\n",
    "]\n",
    "\n",
    "model.invoke(messages)"
   ]
  },
  {
   "cell_type": "code",
   "execution_count": 5,
   "id": "a28192a1",
   "metadata": {},
   "outputs": [
    {
     "data": {
      "text/plain": [
       "AIMessage(content='Based on the information provided, DPS school is preferred by 10 kids, while nobody likes Infinity school. Therefore, DPS school is considered the best option among the two.', additional_kwargs={'refusal': None}, response_metadata={'token_usage': {'completion_tokens': 35, 'prompt_tokens': 43, 'total_tokens': 78, 'completion_tokens_details': {'accepted_prediction_tokens': 0, 'audio_tokens': 0, 'reasoning_tokens': 0, 'rejected_prediction_tokens': 0}, 'prompt_tokens_details': {'audio_tokens': 0, 'cached_tokens': 0}}, 'model_name': 'gpt-4o-mini-2024-07-18', 'system_fingerprint': 'fp_0392822090', 'id': 'chatcmpl-BRDUYIM13BxajiqxXTpLjQOZtop8S', 'finish_reason': 'stop', 'logprobs': None}, id='run-a6bce119-68c0-4fc7-b0c8-d86577e737fe-0', usage_metadata={'input_tokens': 43, 'output_tokens': 35, 'total_tokens': 78, 'input_token_details': {'audio': 0, 'cache_read': 0}, 'output_token_details': {'audio': 0, 'reasoning': 0}})"
      ]
     },
     "execution_count": 5,
     "metadata": {},
     "output_type": "execute_result"
    }
   ],
   "source": [
    "messages = [\n",
    "    SystemMessage(\"Given the information about the school, tell me which schools is best. 10 kids like to go to DPS school. Nobody likes Infinity\"),\n",
    "    HumanMessage(\"Which school is best.\"),\n",
    "]\n",
    "\n",
    "model.invoke(messages)"
   ]
  },
  {
   "cell_type": "markdown",
   "id": "0f358305",
   "metadata": {},
   "source": [
    "# Streaming Message"
   ]
  },
  {
   "cell_type": "code",
   "execution_count": 6,
   "id": "0c682adb",
   "metadata": {},
   "outputs": [
    {
     "name": "stdout",
     "output_type": "stream",
     "text": [
      "|Based| on| the| information| provided|,| DPS| school| is| preferred| by| |10| kids|,| while| nobody| likes| Infinity| school|.| Therefore|,| DPS| school| is| the| best| option| among| the| two|.||"
     ]
    }
   ],
   "source": [
    "for token in model.stream(messages):\n",
    "    print(token.content, end=\"|\")"
   ]
  },
  {
   "cell_type": "code",
   "execution_count": 20,
   "id": "36087549",
   "metadata": {},
   "outputs": [],
   "source": [
    "# Prompt templates"
   ]
  },
  {
   "cell_type": "code",
   "execution_count": 8,
   "id": "767eb0d2",
   "metadata": {},
   "outputs": [],
   "source": [
    "from langchain_core.prompts import ChatPromptTemplate\n",
    "\n",
    "system_template = \"Translate the following from English into {language}\"\n",
    "\n",
    "prompt_template = ChatPromptTemplate.from_messages(\n",
    "    [(\"system\", system_template), (\"user\", \"{text}\")]\n",
    ")"
   ]
  },
  {
   "cell_type": "code",
   "execution_count": 9,
   "id": "563db791",
   "metadata": {},
   "outputs": [
    {
     "data": {
      "text/plain": [
       "ChatPromptValue(messages=[SystemMessage(content='Translate the following from English into Italian', additional_kwargs={}, response_metadata={}), HumanMessage(content='hi!', additional_kwargs={}, response_metadata={})])"
      ]
     },
     "execution_count": 9,
     "metadata": {},
     "output_type": "execute_result"
    }
   ],
   "source": [
    "prompt = prompt_template.invoke({\"language\": \"Italian\", \"text\": \"hi!\"})\n",
    "\n",
    "prompt"
   ]
  },
  {
   "cell_type": "code",
   "execution_count": 10,
   "id": "4b0cdb11",
   "metadata": {},
   "outputs": [
    {
     "data": {
      "text/plain": [
       "[SystemMessage(content='Translate the following from English into Italian', additional_kwargs={}, response_metadata={}),\n",
       " HumanMessage(content='hi!', additional_kwargs={}, response_metadata={})]"
      ]
     },
     "execution_count": 10,
     "metadata": {},
     "output_type": "execute_result"
    }
   ],
   "source": [
    "prompt.to_messages()"
   ]
  },
  {
   "cell_type": "code",
   "execution_count": 11,
   "id": "dae59198",
   "metadata": {},
   "outputs": [
    {
     "name": "stdout",
     "output_type": "stream",
     "text": [
      "Ciao!\n"
     ]
    }
   ],
   "source": [
    "response = model.invoke(prompt)\n",
    "print(response.content)"
   ]
  },
  {
   "cell_type": "markdown",
   "id": "a1778f56",
   "metadata": {},
   "source": [
    "# Structured Output\n",
    "\n",
    "https://python.langchain.com/docs/how_to/structured_output/"
   ]
  },
  {
   "cell_type": "code",
   "execution_count": 33,
   "id": "8a409e26",
   "metadata": {},
   "outputs": [],
   "source": [
    "from langchain.chat_models import init_chat_model\n",
    "llm = init_chat_model(\"gpt-4o-mini\", model_provider=\"openai\")\n",
    "\n",
    "# exercise: play around with different models"
   ]
  },
  {
   "cell_type": "code",
   "execution_count": 34,
   "id": "83944031",
   "metadata": {},
   "outputs": [
    {
     "name": "stdout",
     "output_type": "stream",
     "text": [
      "setup='Why was the cat sitting on the computer?' punchline='Because it wanted to keep an eye on the mouse!' rating=8\n"
     ]
    }
   ],
   "source": [
    "from typing import Optional\n",
    "\n",
    "from pydantic import BaseModel, Field\n",
    "\n",
    "\n",
    "# Pydantic outout structure\n",
    "class Joke(BaseModel):\n",
    "    \"\"\"Joke to tell user.\"\"\"\n",
    "\n",
    "    setup: str = Field(description=\"The setup of the joke\")\n",
    "    punchline: str = Field(description=\"The punchline to the joke\")\n",
    "    rating: Optional[int] = Field(\n",
    "        default=None, description=\"How funny the joke is, from 1 to 10\"\n",
    "    )\n",
    "\n",
    "\n",
    "structured_llm = llm.with_structured_output(Joke)\n",
    "\n",
    "joke = structured_llm.invoke(\"Tell me a joke about cats\")\n",
    "print(joke)"
   ]
  },
  {
   "cell_type": "code",
   "execution_count": 46,
   "id": "129d5966",
   "metadata": {},
   "outputs": [
    {
     "name": "stdout",
     "output_type": "stream",
     "text": [
      "weight=70 lifeExpectancy=79\n"
     ]
    }
   ],
   "source": [
    "#example\n",
    "\n",
    "from typing import Optional\n",
    "\n",
    "from pydantic import BaseModel, Field\n",
    "\n",
    "\n",
    "# Pydantic\n",
    "class Animal(BaseModel):\n",
    "    \"\"\"General description about a typical animal\"\"\"\n",
    "    weight: int = Field(description=\"average weight of the animal in kg\")\n",
    "    lifeExpectancy: int = Field(description=\"Average Life expectancy of the animal in years\")\n",
    "\n",
    "\n",
    "structured_llm = llm.with_structured_output(Animal)\n",
    "\n",
    "output = structured_llm.invoke(\"Tell me about human\")\n",
    "print(output)"
   ]
  },
  {
   "cell_type": "code",
   "execution_count": null,
   "id": "b3bed832",
   "metadata": {},
   "outputs": [
    {
     "name": "stdout",
     "output_type": "stream",
     "text": [
      "summary=\"Indian Fairy Tales is a collection of traditional folk tales edited by Joseph Jacobs. The stories feature moral lessons and include elements of magic, adventure, and humor, showcasing the rich cultural heritage of India. The tales often revolve around themes of kindness, gratitude, and the consequences of one's actions, making them engaging for both children and adults.\" listOfCharacters=['Joseph Jacobs', 'Princess Labam', 'Raja Salabhan', 'The Tiger', 'The Crow', 'The Brahman', 'The Demon with the Matted Hair', 'King Sarkap', 'The White Hind', 'Raja Rasalu']\n"
     ]
    }
   ],
   "source": [
    "# exercise: rag query\n",
    "\n",
    "# Exercise: TOY RAG prompts\n",
    "\n",
    "prompt_template = \"\"\"You are an assistant for question-answering tasks. Use the following pieces of retrieved context to answer the question. If you don't know the answer, just say that you don't know. Use three sentences maximum and keep the answer concise.\n",
    "Question: {question} \n",
    "Context: {context} \n",
    "Answer:\"\"\"\n",
    "\n",
    "# RAG external text\n",
    "file = open(\".\\data\\indianTales.txt\")\n",
    "text = file.read()\n",
    "#text = text[-len(text)//10:]\n",
    "#print(text)\n",
    "\n",
    "# Pydantic\n",
    "class BookSummary(BaseModel):\n",
    "    \"\"\"A model to summarize a story book\"\"\"\n",
    "    summary: str = Field(description=\"A short summary of the book\")\n",
    "    listOfCharacters: list[str] = Field(description=\"List of characters in the book\")\n",
    "\n",
    "\n",
    "\n",
    "# example toy RAG\n",
    "prompt = ChatPromptTemplate([prompt_template])\n",
    "msg = prompt.invoke({\"question\":\"Summerize the book and give a list of main characters in the story.\", \"context\":text})\n",
    "\n",
    "\n",
    "structured_model = model.with_structured_output(BookSummary)\n",
    "\n",
    "output = structured_model.invoke(msg)\n",
    "print(output)"
   ]
  },
  {
   "cell_type": "code",
   "execution_count": 56,
   "id": "572b8fda",
   "metadata": {},
   "outputs": [],
   "source": [
    "# Exercise: Generate a list of question and answers based on a given text\n",
    "\n",
    "prompt_template = \"\"\"You are an assistant for a research scholar. Based on the given article, list major points of the article. Don't user prior knowledge.\n",
    "Artile: {article} \n",
    "Major Points:\"\"\"\n",
    "\n",
    "# RAG external text\n",
    "file = open(\".\\data\\\\animalResearch.txt\")\n",
    "text = file.read()\n",
    "\n",
    "# example toy RAG\n",
    "prompt = ChatPromptTemplate([prompt_template])\n",
    "msg = prompt.invoke({\"article\":text})\n",
    "\n",
    "output = llm.invoke(msg)"
   ]
  },
  {
   "cell_type": "code",
   "execution_count": 57,
   "id": "0f5078d5",
   "metadata": {},
   "outputs": [
    {
     "name": "stdout",
     "output_type": "stream",
     "text": [
      "1. **Prevalence of Animal Testing**: Over 110 million animals are killed annually in U.S. laboratories, including a wide range of species such as mice, rats, and primates, primarily for research, education, and testing purposes.\n",
      "\n",
      "2. **Cruelty and Suffering**: Animals subjected to experimentation endure severe forms of pain and distress, including inhalation of toxic fumes, immobilization, invasive surgeries, and confinement in barren environments, leading to psychological trauma.\n",
      "\n",
      "3. **Public Opposition**: A significant portion of the U.S. population (52%) opposes animal testing, questioning its necessity for medical progress and its effectiveness in improving human health.\n",
      "\n",
      "4. **Ineffectiveness of Animal Experiments**: Research indicates that treatments tested on animals rarely succeed in human trials, with many studies showing poor translation from animal models to human applications.\n",
      "\n",
      "5. **Regulatory Failures**: Current regulations on animal testing are inadequate. Many commonly used species are exempt from the Animal Welfare Act, and oversight bodies like Institutional Animal Care and Use Committees (IACUCs) often lack independence and efficacy.\n",
      "\n",
      "6. **Funding and Accountability Issues**: A substantial amount of public funding supports animal testing through government agencies and charities, yet there is limited public access to information about these experiments.\n",
      "\n",
      "7. **High Failure Rates**: Drug development is extremely costly and time-consuming, with a failure rate exceeding 95% during the testing process, casting doubt on the validity of preclinical animal research.\n",
      "\n",
      "8. **Need for Alternatives**: The article advocates for the use of non-animal research methods, such as human volunteer studies, computational models, and in vitro techniques, which tend to be more reliable and ethically acceptable.\n",
      "\n",
      "9. **Raising Awareness**: PETA has created initiatives like “Without Consent” to highlight the historical and ongoing suffering of animals in laboratories, aiming to prompt a reevaluation of animal testing practices.\n",
      "\n",
      "10. **Call to Action**: The article encourages the public to advocate for changes in research funding by promoting the use of non-animal testing methods and urging lawmakers to support animal welfare initiatives.\n"
     ]
    }
   ],
   "source": [
    "print(output.content)"
   ]
  },
  {
   "cell_type": "code",
   "execution_count": null,
   "id": "8134bdd6",
   "metadata": {},
   "outputs": [],
   "source": []
  },
  {
   "cell_type": "markdown",
   "id": "ddba8d8f",
   "metadata": {},
   "source": [
    "# Talk with Math research paper"
   ]
  },
  {
   "cell_type": "code",
   "execution_count": 60,
   "id": "fbf68ef7",
   "metadata": {},
   "outputs": [],
   "source": [
    "file_path = (\n",
    "    \".\\data\\snehPaper.pdf\"\n",
    ")"
   ]
  },
  {
   "cell_type": "code",
   "execution_count": 62,
   "id": "0cedf35b",
   "metadata": {},
   "outputs": [],
   "source": [
    "from langchain_community.document_loaders import PyPDFLoader\n",
    "\n",
    "loader = PyPDFLoader(file_path)\n",
    "pages = []\n",
    "async for page in loader.alazy_load():\n",
    "    pages.append(page)"
   ]
  },
  {
   "cell_type": "code",
   "execution_count": 67,
   "id": "5975eca3",
   "metadata": {},
   "outputs": [
    {
     "data": {
      "text/plain": [
       "'A KS THEOREM IN SEVERAL VARIABLES 13\\n[2] A. M. Gleason. A characterization of maximal ideals. Journal d’Analyse Math´ ematique, 19:171–\\n172, 1967.\\n[3] Jaikishan, S. Lata, and D. Singh. Multiplicativity of linear functiona ls on function spaces on an\\nopen disc. Archiv der Mathematik , 123:65–74, 2024.\\n[4] J. Kahane and W. ˙Zelazko. A characterization of maximal ideals in commutative Banach alge-\\nbras. Studia Mathematica , 29:339–343, 1968.\\n[5] K. Kou and J. Liu. Which linear operators preserve outer functio ns? Indagationes Mathemati-\\ncae, 28(6):1144–1156, 2017.\\n[6] S. Kowalski and Z. S/suppress l odkowski. A characterization of multiplicative linear functionals in Banach\\nalgebras. Studia Mathematica , 67:215–223, 1980.\\n[7] A. Maouche. Formes multiplicatives ` a valeurs dans le spectre. Colloquium Mathematicum ,\\n71(1):43–45, 1996.\\n[8] J. Mashreghi and T. Ransford. A Gleason-Kahane-˙Zelazko theorem for modules and applications\\nto holomorphic function spaces. Bulletin of the London Mathematical Society , 47(6):1014–1020,\\n2015.\\n[9] G. J. Murphy. C∗ -algebras and operator theory. Academic Press, Inc., Boston, MA , 1990.\\n[10] M. Roitman and Y. Sternfeld. When is a linear functional multiplicat ive? Transactions of the\\nAmerican Mathematical Society , 267(1):111–124, 1981.\\n[11] J. Sampat. Cyclicity preserving operators on spaces of analyt ic functions in Cn. Integral Equa-\\ntions and Operator Theory , 93:1–20, 2021.\\n[12] G. Sebastian and S. Daniel. A weaker Gleason-Kahane- ˙Zelazko theorem for modules and appli-\\ncations to Hardy spaces. Colloquium Mathematicum , 164(2):273–282, 2021.\\n[13] C. Tour´ e, R. Brits, and G. Sebastian. A multiplicative Kowalski-S /suppress lodkowski theorem forC∗ -\\nalgebras. Canadian Mathematical Bulletin , 66(3):1–8, 2023.\\n[14] C. Tour´ e, F. Schulz, and R. Brits. Multiplicative maps into the spectrum. Studia Mathematica ,\\n239:55–66, 2017.\\n[15] C. Tour´ e, F. Schulz, and R. Brits. Some character generatin g functions on Banach algebras.\\nJournal of Mathematical Analysis and Applications , 468(2):704–715, 2018.\\n[16] W. ˙Zelazko. A characterization of multiplicative linear functionals in complex Banach algebras.\\nStudia Mathematica , 30(1):83–85, 1968.\\nDepartment Of Mathematics, School of Natural Sciences, Shiv Nadar Institution\\nof Eminence, Gautam Buddha Nagar, Uttar Pradesh 201314, Ind ia\\nEmail address : jk301@snu.edu.in\\nDepartment Of Mathematics, School of Natural Sciences, Shiv Nadar Institution\\nof Eminence, Gautam Buddha Nagar, Uttar Pradesh 201314, Ind ia\\nEmail address : sneh.lata@snu.edu.in\\nCentre For Digital Sciences, O. P. Jindal Global University , Sonipat, Haryana\\n131001, India\\nEmail address : dineshsingh1@gmail.com'"
      ]
     },
     "execution_count": 67,
     "metadata": {},
     "output_type": "execute_result"
    }
   ],
   "source": [
    "pages[12].page_content"
   ]
  },
  {
   "cell_type": "markdown",
   "id": "b99b3c15",
   "metadata": {},
   "source": [
    "# More Bigger Prompting"
   ]
  },
  {
   "cell_type": "code",
   "execution_count": null,
   "id": "63108a82",
   "metadata": {},
   "outputs": [],
   "source": [
    "import os\n",
    "from dotenv import load_dotenv\n",
    "load_dotenv()\n",
    "\n",
    "from langchain.chat_models import init_chat_model\n",
    "model = init_chat_model(\"gpt-4o-mini\", model_provider=\"openai\")"
   ]
  },
  {
   "cell_type": "code",
   "execution_count": 31,
   "id": "d9da3158",
   "metadata": {},
   "outputs": [
    {
     "data": {
      "text/plain": [
       "'Tell me a joke about: college\\nWrite the response in the following format:\\n\\n# {Title}\\n--------\\n{response}\\n'"
      ]
     },
     "execution_count": 31,
     "metadata": {},
     "output_type": "execute_result"
    }
   ],
   "source": [
    "from langchain.chat_models import init_chat_model\n",
    "model = init_chat_model(\"llama3-70b-8192\", model_provider=\"groq\")\n",
    "\n",
    "question_template = \"\"\"Tell me a joke about: {topic}\n",
    "Write the response in the following format:\n",
    "\n",
    "# {{Title}}\n",
    "--------\n",
    "{{response}}\n",
    "\"\"\"\n",
    "question = question_template.format(topic=\"college\")\n",
    "question\n"
   ]
  },
  {
   "cell_type": "code",
   "execution_count": 34,
   "id": "eac5736a",
   "metadata": {},
   "outputs": [],
   "source": [
    "response =  model.invoke(question_template.format(topic=\"cats\"))"
   ]
  },
  {
   "cell_type": "code",
   "execution_count": 35,
   "id": "9892307a",
   "metadata": {},
   "outputs": [
    {
     "data": {
      "text/markdown": [
       "# Whisker Wisdom\n",
       "--------\n",
       "Why did the cat join a band? Because it wanted to be the purr-cussionist!"
      ],
      "text/plain": [
       "<IPython.core.display.Markdown object>"
      ]
     },
     "execution_count": 35,
     "metadata": {},
     "output_type": "execute_result"
    }
   ],
   "source": [
    "from IPython.display import Markdown\n",
    "Markdown(response.content)"
   ]
  },
  {
   "cell_type": "markdown",
   "id": "ec349e40",
   "metadata": {},
   "source": [
    "## Example "
   ]
  },
  {
   "cell_type": "code",
   "execution_count": 36,
   "id": "8d1de840",
   "metadata": {},
   "outputs": [
    {
     "data": {
      "text/markdown": [
       "Here are four subtopics in the research area of Machine Learning in stock predictions, along with five major research works done in each subtopic:\n",
       "\n",
       "## **Predicting Stock Prices using Traditional Machine Learning Algorithms**\n",
       "1. \"Stock Market Prediction Using Machine Learning Algorithms\" by S. Kumar et al. (2018) - This paper compares the performance of various traditional machine learning algorithms such as Linear Regression, Decision Trees, and Random Forest in predicting stock prices.\n",
       "2. \"A Study on Stock Market Prediction using Support Vector Regression\" by A. Kumar et al. (2017) - This research work uses Support Vector Regression (SVR) to predict stock prices and evaluates its performance using various evaluation metrics.\n",
       "3. \"Stock Price Prediction using K-Nearest Neighbors (KNN) Algorithm\" by S. Singh et al. (2019) - This paper proposes the use of KNN algorithm for predicting stock prices and compares its performance with other traditional machine learning algorithms.\n",
       "4. \"Stock Market Prediction using Artificial Neural Networks\" by A. Sharma et al. (2019) - This research work uses Artificial Neural Networks (ANN) to predict stock prices and evaluates its performance using various evaluation metrics.\n",
       "5. \"Comparative Study of Machine Learning Algorithms for Stock Market Prediction\" by S. Jain et al. (2020) - This paper compares the performance of various traditional machine learning algorithms such as Linear Regression, Decision Trees, Random Forest, and ANN in predicting stock prices.\n",
       "\n",
       "----\n",
       "## **Deep Learning for Stock Market Prediction**\n",
       "1. \"Deep Learning for Stock Market Prediction: A Survey\" by Y. Zhang et al. (2020) - This survey paper provides an overview of the applications of deep learning techniques in stock market prediction.\n",
       "2. \"Stock Market Prediction using LSTM Neural Networks\" by J. Kim et al. (2018) - This research work uses Long Short-Term Memory (LSTM) neural networks to predict stock prices and evaluates its performance using various evaluation metrics.\n",
       "3. \"Deep Learning for Stock Market Analysis: A Review\" by S. Chakraborty et al. (2020) - This review paper provides an overview of the applications of deep learning techniques in stock market analysis and prediction.\n",
       "4. \"Stock Price Prediction using Convolutional Neural Networks (CNN)\" by Y. Li et al. (2019) - This paper proposes the use of CNN for predicting stock prices and compares its performance with other deep learning algorithms.\n",
       "5. \"A Deep Learning Framework for Stock Market Prediction using Graph Convolutional Networks\" by W. Wang et al. (2020) - This research work proposes a deep learning framework using Graph Convolutional Networks (GCN) for predicting stock prices.\n",
       "\n",
       "----\n",
       "## **Hybrid and Ensemble Methods for Stock Market Prediction**\n",
       "1. \"Hybrid Approach for Stock Market Prediction using Machine Learning and Technical Indicators\" by A. Kumar et al. (2019) - This paper proposes a hybrid approach that combines machine learning algorithms with technical indicators for predicting stock prices.\n",
       "2. \"Ensemble Methods for Stock Market Prediction: A Review\" by S. Singh et al. (2020) - This review paper provides an overview of the applications of ensemble methods in stock market prediction.\n",
       "3. \"Stock Market Prediction using Hybrid Model of ARIMA and LSTM\" by J. Lee et al. (2020) - This research work proposes a hybrid model that combines Autoregressive Integrated Moving Average (ARIMA) with LSTM for predicting stock prices.\n",
       "4. \"A Comparative Study of Hybrid Models for Stock Market Prediction\" by S. Jain et al. (2020) - This paper compares the performance of various hybrid models such as ARIMA-LSTM, ARIMA-ANN, and LSTM-ANN in predicting stock prices.\n",
       "5. \"Ensemble Learning for Stock Market Prediction using Bagging and Boosting\" by A. Sharma et al. (2020) - This research work proposes the use of ensemble learning techniques such as bagging and boosting for predicting stock prices.\n",
       "\n",
       "----\n",
       "## **Explainability and Interpretability in Machine Learning for Stock Market Prediction**\n",
       "1. \"Interpretable Machine Learning for Stock Market Prediction: A Survey\" by Y. Zhang et al. (2020) - This survey paper provides an overview of the importance of interpretability in machine learning for stock market prediction.\n",
       "2. \"Explainable AI for Stock Market Prediction: A Review\" by S. Chakraborty et al. (2020) - This review paper provides an overview of the applications of explainable AI techniques in stock market prediction.\n",
       "3. \"Model-Agnostic Explanations for Stock Market Prediction using SHAP\" by J. Kim et al. (2020) - This research work proposes the use of SHAP (SHapley Additive exPlanations) for explaining the predictions of machine learning models in stock market prediction.\n",
       "4. \"Interpretable Deep Learning for Stock Market Prediction using Attention Mechanism\" by Y. Li et al. (2020) - This paper proposes the use of attention mechanism for interpreting the predictions of deep learning models in stock market prediction.\n",
       "5. \"Explainable Machine Learning for Stock Market Prediction using LIME\" by A. Kumar et al. (2020) - This research work proposes the use of LIME (Local Interpretable Model-agnostic Explanations) for explaining the predictions of machine learning models in stock market prediction."
      ],
      "text/plain": [
       "<IPython.core.display.Markdown object>"
      ]
     },
     "execution_count": 36,
     "metadata": {},
     "output_type": "execute_result"
    }
   ],
   "source": [
    "from langchain.chat_models import init_chat_model\n",
    "model = init_chat_model(\"llama3-70b-8192\", model_provider=\"groq\")\n",
    "\n",
    "prompt = \"\"\"You are a research assistant. You are tasked to find 4 subtopics for the research area {topic}. For each sub area, list 5 major research work done so far in this format:\n",
    "\n",
    "## {{Sub topic 1}}\n",
    "1. {{Work 1}}\n",
    "2. {{Work 2}}\n",
    "3. {{Work 3}}\n",
    "4. {{Work 4}}\n",
    "5. {{Work 6}}\n",
    "----\n",
    "## {{Sub topic 2}}\n",
    "1. {{Work 1}}\n",
    "2. {{Work 2}}\n",
    "3. {{Work 3}}\n",
    "4. {{Work 4}}\n",
    "5. {{Work 6}}\n",
    "----\n",
    "...\n",
    "## {{Sub topic 4}}\n",
    "1. {{Work 1}}\n",
    "2. {{Work 2}}\n",
    "3. {{Work 3}}\n",
    "4. {{Work 4}}\n",
    "5. {{Work 6}}\n",
    " \n",
    "\"\"\"\n",
    "\n",
    "response = model.invoke(prompt.format(topic=\"Machine Learning in stock predictions\"))\n",
    "from IPython.display import Markdown\n",
    "Markdown(response.content)"
   ]
  },
  {
   "cell_type": "markdown",
   "id": "cafd3aa7",
   "metadata": {},
   "source": [
    "## Example with sources"
   ]
  },
  {
   "cell_type": "code",
   "execution_count": 40,
   "id": "88348804",
   "metadata": {},
   "outputs": [
    {
     "data": {
      "text/markdown": [
       "## Machine Learning in Stock Predictions: A New Era of Investment Analysis\n",
       "\n",
       "### Summary\n",
       "\n",
       "The application of machine learning in stock predictions has revolutionized the investment landscape. By leveraging machine learning algorithms, investors and analysts can now make more informed decisions, reducing the risk of losses and increasing the potential for gains. This report provides an overview of the current state of machine learning in stock predictions, highlighting its benefits, challenges, and future directions.\n",
       "\n",
       "Machine learning algorithms can analyze vast amounts of data, including historical stock prices, financial statements, and market trends, to identify patterns and make predictions. This approach has several advantages over traditional methods, including:\n",
       "\n",
       "1. **Improved accuracy**: Machine learning algorithms can analyze large datasets and identify complex patterns, leading to more accurate predictions.\n",
       "2. **Increased speed**: Machine learning models can process data in real-time, allowing for faster decision-making.\n",
       "3. **Reduced bias**: Machine learning algorithms can reduce human bias and emotions, leading to more objective investment decisions.\n",
       "\n",
       "Despite these benefits, there are also challenges associated with machine learning in stock predictions, including:\n",
       "\n",
       "1. **Data quality**: The accuracy of machine learning models depends on the quality of the data used to train them.\n",
       "2. **Model complexity**: Machine learning models can be complex and difficult to interpret, making it challenging to understand the reasoning behind their predictions.\n",
       "3. **Overfitting**: Machine learning models can become overly specialized to the training data, leading to poor performance on new, unseen data.\n",
       "\n",
       "Looking ahead, the future of machine learning in stock predictions is promising. As data continues to grow and algorithms improve, we can expect to see even more accurate and efficient investment decisions.\n",
       "\n",
       "Sources:\n",
       "\n",
       "[1] \"Machine Learning for Algorithmic Trading\" by Adam B. Ash\n",
       "[2] \"Deep Learning for Computer Vision with Python\" by Adrian Rosebrock\n",
       "[3] \"Stock Market Prediction Using Machine Learning Techniques\" by S. S. Rao et al.\n",
       "[4] \"Machine Learning in Finance: A Survey\" by J. B. Heaton et al.\n",
       "\n",
       "### Machine Learning Techniques in Stock Predictions\n",
       "\n",
       "Machine learning techniques can be broadly categorized into three types: **supervised learning**, **unsupervised learning**, and **reinforcement learning**. Supervised learning involves training models on labeled data, where the target output is known. Unsupervised learning involves training models on unlabeled data, where the goal is to identify patterns and relationships. Reinforcement learning involves training models to make decisions based on rewards or penalties.\n",
       "\n",
       "In the context of stock predictions, supervised learning is commonly used to predict stock prices or classify stocks as \"buy\" or \"sell\". Unsupervised learning is used to identify clusters or patterns in stock data. Reinforcement learning is used to optimize investment portfolios.\n",
       "\n",
       "### Challenges and Limitations\n",
       "\n",
       "Despite the benefits of machine learning in stock predictions, there are several challenges and limitations to consider:\n",
       "\n",
       "1. **Data quality**: Machine learning models are only as good as the data used to train them. Poor data quality can lead to inaccurate predictions.\n",
       "2. **Model complexity**: Machine learning models can be complex and difficult to interpret, making it challenging to understand the reasoning behind their predictions.\n",
       "3. **Overfitting**: Machine learning models can become overly specialized to the training data, leading to poor performance on new, unseen data.\n",
       "4. **Lack of transparency**: Machine learning models can be opaque, making it difficult to understand why a particular prediction was made.\n",
       "\n",
       "### Future Directions\n",
       "\n",
       "The future of machine learning in stock predictions is promising. As data continues to grow and algorithms improve, we can expect to see even more accurate and efficient investment decisions. Some potential areas of research include:\n",
       "\n",
       "1. **Explainable AI**: Developing machine learning models that provide transparent and interpretable results.\n",
       "2. **Transfer learning**: Developing machine learning models that can be trained on one dataset and applied to another.\n",
       "3. **Multi-agent systems**: Developing machine learning models that can interact with other agents, such as humans or other machines.\n",
       "\n",
       "### Sources\n",
       "\n",
       "- [1] \"Machine Learning for Algorithmic Trading\" by Adam B. Ash  \n",
       "- [2] \"Deep Learning for Computer Vision with Python\" by Adrian Rosebrock  \n",
       "- [3] \"Stock Market Prediction Using Machine Learning Techniques\" by S. S. Rao et al.  \n",
       "- [4] \"Machine Learning in Finance: A Survey\" by J. B. Heaton et al."
      ],
      "text/plain": [
       "<IPython.core.display.Markdown object>"
      ]
     },
     "execution_count": 40,
     "metadata": {},
     "output_type": "execute_result"
    }
   ],
   "source": [
    "prompt_template = \"\"\"You are an expert technical writer. \n",
    "            \n",
    "Your task is to create a short report on the topic {focus}. Divide the report into easily digestable sections. You have to use prior knowledge. While writing the report use the following instructions:\n",
    "        \n",
    "1. Create a report structure using markdown formatting: Create a minimum of 4 sections.\n",
    "- Use ## for the section title\n",
    "- Use ### for sub-section headers\n",
    "        \n",
    "2. Write the report following this structure:\n",
    "a. Title (## header)\n",
    "b. Summary (### header)\n",
    "c. Sources (### header)\n",
    "\n",
    "3. Make your title engaging based upon the focus area of the analyst: \n",
    "{focus}\n",
    "\n",
    "4. Write a summary section:\n",
    "- Set up summary with general background / context related to the focus area of the analyst\n",
    "- Emphasize what is novel, interesting, or surprising about insights gathered from the interview\n",
    "- Create a numbered list of source documents, as you use them\n",
    "- Do not mention the names of interviewers or experts\n",
    "- Aim for approximately 2000 words maximum\n",
    "- Use numbered sources in your report (e.g., [1], [2]) based on information from source documents\n",
    "        \n",
    "5. Write a Sources section:\n",
    "- Include all sources used in your report\n",
    "- Provide full links to relevant websites or specific document paths\n",
    "- Separate each source by a newline. Use two spaces at the end of each line to create a newline in Markdown.\n",
    "- It will look like:\n",
    "\n",
    "### Sources\n",
    "- [1] Link or Document name\n",
    "- [2] Link or Document name\n",
    "\n",
    "6. Be sure to combine sources. For example this is not correct:\n",
    "\n",
    "[3] https://ai.meta.com/blog/meta-llama-3-1/\n",
    "[4] https://ai.meta.com/blog/meta-llama-3-1/\n",
    "\n",
    "There should be no redundant sources. It should simply be:\n",
    "\n",
    "[3] https://ai.meta.com/blog/meta-llama-3-1/\n",
    "        \n",
    "7. Final review:\n",
    "- Ensure the report follows the required structure\n",
    "- Include no preamble before the title of the report\n",
    "- Check that all guidelines have been followed\n",
    "\n",
    "\"\"\"\n",
    "\n",
    "\n",
    "\n",
    "response = model.invoke(prompt_template.format(focus=\"Machine Learning in stock predictions\"))\n",
    "from IPython.display import Markdown\n",
    "Markdown(response.content)"
   ]
  },
  {
   "cell_type": "code",
   "execution_count": 42,
   "id": "c7b0e8bd",
   "metadata": {},
   "outputs": [
    {
     "data": {
      "text/markdown": [
       "# Introduction\n",
       "\n",
       "Machine learning in stock predictions is a rapidly growing field that combines concepts from finance, computer science, and mathematics to develop predictive models for stock market trends. The significance of this topic lies in its potential to provide investors and financial institutions with accurate forecasts, enabling them to make informed investment decisions and mitigate risk. Typical applications of machine learning in stock predictions include portfolio optimization, risk management, and algorithmic trading.\n",
       "\n",
       "The use of machine learning in stock predictions has gained popularity in recent years due to the increasing availability of large datasets and advances in computational power. This has led to the development of sophisticated models that can analyze complex patterns in financial data, providing insights that may not be apparent through traditional analytical methods.\n",
       "\n",
       "# Mathematical Theory\n",
       "\n",
       "Machine learning in stock predictions relies heavily on mathematical foundations from probability theory, linear algebra, and optimization. Some of the core concepts include:\n",
       "\n",
       "### Linear Regression\n",
       "\n",
       "Linear regression is a fundamental concept in machine learning, which involves modeling the relationship between a dependent variable (stock prices) and one or more independent variables (features). The goal is to find the best-fitting linear line that minimizes the difference between predicted and actual values.\n",
       "\n",
       "$$Y = \\beta_0 + \\beta_1 X + \\epsilon$$\n",
       "\n",
       "where $Y$ is the dependent variable, $X$ is the independent variable, $\\beta_0$ and $\\beta_1$ are coefficients, and $\\epsilon$ is the error term.\n",
       "\n",
       "### Neural Networks\n",
       "\n",
       "Neural networks are a type of machine learning algorithm inspired by the structure and function of the human brain. They consist of multiple layers of interconnected nodes (neurons) that process and transform inputs to produce outputs.\n",
       "\n",
       "$$Y = \\sigma(WX + b)$$\n",
       "\n",
       "where $Y$ is the output, $X$ is the input, $W$ is the weight matrix, $b$ is the bias term, and $\\sigma$ is the activation function.\n",
       "\n",
       "### Gradient Descent\n",
       "\n",
       "Gradient descent is an optimization algorithm used to minimize the loss function in machine learning models. It iteratively updates the model parameters to find the values that result in the lowest error.\n",
       "\n",
       "$$W_{new} = W_{old} - \\alpha \\frac{\\partial L}{\\partial W}$$\n",
       "\n",
       "where $W$ is the model parameter, $\\alpha$ is the learning rate, and $L$ is the loss function.\n",
       "\n",
       "### Time Series Analysis\n",
       "\n",
       "Time series analysis is a branch of statistics that deals with analyzing and forecasting sequential data. In the context of stock predictions, time series analysis is used to identify patterns and trends in historical stock prices.\n",
       "\n",
       "$$X_t = \\phi X_{t-1} + \\epsilon_t$$\n",
       "\n",
       "where $X_t$ is the value at time $t$, $\\phi$ is the autoregressive coefficient, and $\\epsilon_t$ is the error term.\n",
       "\n",
       "# Latest Open Problems\n",
       "\n",
       "Despite the advances in machine learning for stock predictions, there are still several open problems that require further research. Some of the major challenges include:\n",
       "\n",
       "### Handling Non-Stationarity\n",
       "\n",
       "Stock prices are inherently non-stationary, meaning that their statistical properties change over time. Developing models that can adapt to these changes remains an open problem.\n",
       "\n",
       "### Incorporating External Factors\n",
       "\n",
       "Stock prices are influenced by a multitude of external factors, including economic indicators, news, and social media. Integrating these factors into machine learning models is an ongoing challenge.\n",
       "\n",
       "### Addressing Overfitting\n",
       "\n",
       "Machine learning models are prone to overfitting, especially when dealing with high-dimensional data. Developing regularization techniques that can effectively prevent overfitting is an active area of research.\n",
       "\n",
       "### Reference recent papers or developments\n",
       "\n",
       "* \"Deep Learning for Finance: Deep Portfolio Optimization and Beyond\" by Zhang et al. (2020) [1]\n",
       "* \"A Survey on Machine Learning for Stock Market Prediction\" by Kao et al. (2020) [2]\n",
       "\n",
       "# Future Directions\n",
       "\n",
       "Machine learning in stock predictions is a rapidly evolving field, with several emerging trends and technologies that are likely to shape its future. Some potential directions include:\n",
       "\n",
       "### Explainable AI\n",
       "\n",
       "Developing machine learning models that can provide transparent and interpretable explanations for their predictions is crucial for building trust in AI-driven stock prediction systems.\n",
       "\n",
       "### Multi-Modal Learning\n",
       "\n",
       "Integrating disparate data sources, such as financial statements, news articles, and social media posts, into machine learning models is expected to improve their predictive accuracy.\n",
       "\n",
       "### Real-Time Processing\n",
       "\n",
       "The increasing availability of real-time data is driving the need for machine learning models that can process and respond to data in real-time.\n",
       "\n",
       "### Quantum Computing\n",
       "\n",
       "The advent of quantum computing is expected to revolutionize machine learning in stock predictions by enabling faster and more efficient processing of complex data.\n",
       "\n",
       "# References\n",
       "\n",
       "[1] Zhang, Y., et al. (2020). Deep Learning for Finance: Deep Portfolio Optimization and Beyond. IEEE Transactions on Neural Networks and Learning Systems, 31(1), 201–212.\n",
       "\n",
       "[2] Kao, H. Y., et al. (2020). A Survey on Machine Learning for Stock Market Prediction. IEEE Transactions on Knowledge and Data Engineering, 32(10), 1930–1943."
      ],
      "text/plain": [
       "<IPython.core.display.Markdown object>"
      ]
     },
     "execution_count": 42,
     "metadata": {},
     "output_type": "execute_result"
    }
   ],
   "source": [
    "prompt_template=\"\"\"\n",
    "Write a detailed technical report on the mathematical topic: {topic}.\n",
    "\n",
    "Structure the report into the following sections, each clearly separated with appropriate Markdown headings (#, ##):\n",
    "\n",
    "# Introduction\n",
    "\n",
    "{{Give a clear, concise overview of the topic.}}\n",
    "\n",
    "{{Explain its significance and typical applications.}}\n",
    "\n",
    "# Mathematical Theory\n",
    "\n",
    "{{Describe the core mathematical foundations in detail.}}\n",
    "\n",
    "{{Include important definitions, theorems, proofs, and examples where relevant.}}\n",
    "\n",
    "# Latest Open Problems\n",
    "\n",
    "{{Discuss major current research challenges or unresolved questions in the field.}}\n",
    "\n",
    "# Reference recent papers or developments (with citations).\n",
    "\n",
    "# Future Directions\n",
    "\n",
    "{{Suggest possible paths for future research or applications.}}\n",
    "\n",
    "{{Discuss emerging trends and technologies that might impact this area.}}\n",
    "\n",
    "# References\n",
    "\n",
    "List all sources cited, preferably in a simple numbered list or BibTeX-style.\n",
    "\n",
    "Use appropriate LaTeX-style formatting (with $$ for equations if needed) for mathematical expressions inside the Markdown.\n",
    "Write in a formal and precise tone, suitable for a technical audience.\n",
    "\"\"\"\n",
    "\n",
    "\n",
    "response = model.invoke(prompt_template.format(topic=\"Machine Learning in stock predictions\"))\n",
    "from IPython.display import Markdown\n",
    "Markdown(response.content)"
   ]
  },
  {
   "cell_type": "code",
   "execution_count": null,
   "id": "f46a4501",
   "metadata": {},
   "outputs": [],
   "source": []
  }
 ],
 "metadata": {
  "kernelspec": {
   "display_name": "langgraph-academy",
   "language": "python",
   "name": "python3"
  },
  "language_info": {
   "codemirror_mode": {
    "name": "ipython",
    "version": 3
   },
   "file_extension": ".py",
   "mimetype": "text/x-python",
   "name": "python",
   "nbconvert_exporter": "python",
   "pygments_lexer": "ipython3",
   "version": "3.11.11"
  }
 },
 "nbformat": 4,
 "nbformat_minor": 5
}
