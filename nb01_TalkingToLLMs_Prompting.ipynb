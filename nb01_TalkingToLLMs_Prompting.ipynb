{
 "cells": [
  {
   "cell_type": "markdown",
   "id": "acaa284b",
   "metadata": {},
   "source": [
    "Source: https://python.langchain.com/docs/tutorials/llm_chain/"
   ]
  },
  {
   "cell_type": "code",
   "execution_count": 1,
   "id": "7cf4edb2",
   "metadata": {
    "tags": [
     "test"
    ]
   },
   "outputs": [
    {
     "data": {
      "text/plain": [
       "True"
      ]
     },
     "execution_count": 1,
     "metadata": {},
     "output_type": "execute_result"
    }
   ],
   "source": [
    "# Load the saved API keys\n",
    "\n",
    "import os\n",
    "from dotenv import load_dotenv\n",
    "load_dotenv()"
   ]
  },
  {
   "cell_type": "code",
   "execution_count": 2,
   "id": "d288a31b",
   "metadata": {},
   "outputs": [],
   "source": [
    "from langchain.chat_models import init_chat_model\n",
    "model = init_chat_model(\"gpt-4o-mini\", model_provider=\"openai\")"
   ]
  },
  {
   "cell_type": "code",
   "execution_count": 4,
   "id": "2c21035e",
   "metadata": {},
   "outputs": [
    {
     "data": {
      "text/plain": [
       "AIMessage(content='Ciao!', additional_kwargs={'refusal': None}, response_metadata={'token_usage': {'completion_tokens': 3, 'prompt_tokens': 20, 'total_tokens': 23, 'completion_tokens_details': {'accepted_prediction_tokens': 0, 'audio_tokens': 0, 'reasoning_tokens': 0, 'rejected_prediction_tokens': 0}, 'prompt_tokens_details': {'audio_tokens': 0, 'cached_tokens': 0}}, 'model_name': 'gpt-4o-mini-2024-07-18', 'system_fingerprint': 'fp_54eb4bd693', 'id': 'chatcmpl-BZplARjV1SZam8j94NHC8sNwduiDg', 'finish_reason': 'stop', 'logprobs': None}, id='run-0fa593de-882f-4c72-a29e-b4ff2b459bb2-0', usage_metadata={'input_tokens': 20, 'output_tokens': 3, 'total_tokens': 23, 'input_token_details': {'audio': 0, 'cache_read': 0}, 'output_token_details': {'audio': 0, 'reasoning': 0}})"
      ]
     },
     "execution_count": 4,
     "metadata": {},
     "output_type": "execute_result"
    }
   ],
   "source": [
    "from langchain_core.messages import HumanMessage, SystemMessage\n",
    "\n",
    "messages = [\n",
    "    SystemMessage(\"Translate the following from English into Italian\"),\n",
    "    HumanMessage(\"hi!\"),\n",
    "]\n",
    "\n",
    "model.invoke(messages)"
   ]
  },
  {
   "cell_type": "markdown",
   "id": "7559e24a",
   "metadata": {},
   "source": [
    "## Exercise\n",
    "Practice tweaking the above cells with different models, different SYSTEM messages, different Human messages"
   ]
  },
  {
   "cell_type": "code",
   "execution_count": 5,
   "id": "3ed0be30",
   "metadata": {},
   "outputs": [
    {
     "data": {
      "text/plain": [
       "AIMessage(content='मुझे यह केक पसंद है।', additional_kwargs={'refusal': None}, response_metadata={'token_usage': {'completion_tokens': 8, 'prompt_tokens': 23, 'total_tokens': 31, 'completion_tokens_details': {'accepted_prediction_tokens': 0, 'audio_tokens': 0, 'reasoning_tokens': 0, 'rejected_prediction_tokens': 0}, 'prompt_tokens_details': {'audio_tokens': 0, 'cached_tokens': 0}}, 'model_name': 'gpt-4o-mini-2024-07-18', 'system_fingerprint': 'fp_54eb4bd693', 'id': 'chatcmpl-BZplLL2Y04sDYxG9kchf5MhZkW3WM', 'finish_reason': 'stop', 'logprobs': None}, id='run-471d39ff-0273-4151-9f03-2990cfbadd46-0', usage_metadata={'input_tokens': 23, 'output_tokens': 8, 'total_tokens': 31, 'input_token_details': {'audio': 0, 'cache_read': 0}, 'output_token_details': {'audio': 0, 'reasoning': 0}})"
      ]
     },
     "execution_count": 5,
     "metadata": {},
     "output_type": "execute_result"
    }
   ],
   "source": [
    "messages = [\n",
    "    SystemMessage(\"Translate the following from English into Hindi\"),\n",
    "    HumanMessage(\"I like this cake.\"),\n",
    "]\n",
    "\n",
    "model.invoke(messages)"
   ]
  },
  {
   "cell_type": "code",
   "execution_count": 6,
   "id": "a28192a1",
   "metadata": {},
   "outputs": [
    {
     "data": {
      "text/plain": [
       "AIMessage(content='Based on the information provided, DPS school is preferred by the 10 kids, while nobody likes Infinity. Therefore, DPS school is the best choice among the two.', additional_kwargs={'refusal': None}, response_metadata={'token_usage': {'completion_tokens': 33, 'prompt_tokens': 46, 'total_tokens': 79, 'completion_tokens_details': {'accepted_prediction_tokens': 0, 'audio_tokens': 0, 'reasoning_tokens': 0, 'rejected_prediction_tokens': 0}, 'prompt_tokens_details': {'audio_tokens': 0, 'cached_tokens': 0}}, 'model_name': 'gpt-4o-mini-2024-07-18', 'system_fingerprint': 'fp_54eb4bd693', 'id': 'chatcmpl-BZplTBfePmfYxyvNqErn1g10A10Uo', 'finish_reason': 'stop', 'logprobs': None}, id='run-86da05a3-142b-499a-afcc-1efd38312d6e-0', usage_metadata={'input_tokens': 46, 'output_tokens': 33, 'total_tokens': 79, 'input_token_details': {'audio': 0, 'cache_read': 0}, 'output_token_details': {'audio': 0, 'reasoning': 0}})"
      ]
     },
     "execution_count": 6,
     "metadata": {},
     "output_type": "execute_result"
    }
   ],
   "source": [
    "messages = [\n",
    "    SystemMessage(\"Given the information about the school, tell me which schools is best.\"),\n",
    "    HumanMessage(\"10 kids like to go to DPS school. Nobody likes Infinity\"),\n",
    "    HumanMessage(\"Which school is best.\"),\n",
    "]\n",
    "\n",
    "model.invoke(messages)"
   ]
  },
  {
   "cell_type": "markdown",
   "id": "0f358305",
   "metadata": {},
   "source": [
    "# Streaming Message"
   ]
  },
  {
   "cell_type": "code",
   "execution_count": 7,
   "id": "0c682adb",
   "metadata": {},
   "outputs": [
    {
     "name": "stdout",
     "output_type": "stream",
     "text": [
      "|Based| on| the| information| provided|,| it| seems| that| DPS| school| is| preferred| by| |10| kids|,| while| no| one| likes| Infinity|.| Therefore|,| DPS| school| appears| to| be| the| best| option| based| on| this| preference|.||"
     ]
    }
   ],
   "source": [
    "import time\n",
    "for token in model.stream(messages):\n",
    "    print(token.content, end=\"|\")\n",
    "    time.sleep(0.1)"
   ]
  },
  {
   "cell_type": "markdown",
   "id": "36087549",
   "metadata": {},
   "source": [
    "## Prompt templates"
   ]
  },
  {
   "cell_type": "code",
   "execution_count": 8,
   "id": "767eb0d2",
   "metadata": {},
   "outputs": [
    {
     "name": "stdout",
     "output_type": "stream",
     "text": [
      "input_variables=['language', 'text'] input_types={} partial_variables={} messages=[SystemMessagePromptTemplate(prompt=PromptTemplate(input_variables=['language'], input_types={}, partial_variables={}, template='Translate the following from English into {language}'), additional_kwargs={}), HumanMessagePromptTemplate(prompt=PromptTemplate(input_variables=['text'], input_types={}, partial_variables={}, template='{text}'), additional_kwargs={})]\n"
     ]
    }
   ],
   "source": [
    "from langchain_core.prompts import ChatPromptTemplate\n",
    "\n",
    "system_template = \"Translate the following from English into {language}\"\n",
    "\n",
    "prompt_template = ChatPromptTemplate.from_messages(\n",
    "    [(\"system\", system_template), (\"user\", \"{text}\")]\n",
    ")\n",
    "\n",
    "print(prompt_template)"
   ]
  },
  {
   "cell_type": "code",
   "execution_count": 9,
   "id": "563db791",
   "metadata": {},
   "outputs": [
    {
     "data": {
      "text/plain": [
       "ChatPromptValue(messages=[SystemMessage(content='Translate the following from English into Italian', additional_kwargs={}, response_metadata={}), HumanMessage(content='hi!', additional_kwargs={}, response_metadata={})])"
      ]
     },
     "execution_count": 9,
     "metadata": {},
     "output_type": "execute_result"
    }
   ],
   "source": [
    "prompt = prompt_template.invoke({\"language\": \"Italian\", \"text\": \"hi!\"})\n",
    "\n",
    "prompt"
   ]
  },
  {
   "cell_type": "code",
   "execution_count": 10,
   "id": "4b0cdb11",
   "metadata": {},
   "outputs": [
    {
     "data": {
      "text/plain": [
       "[SystemMessage(content='Translate the following from English into Italian', additional_kwargs={}, response_metadata={}),\n",
       " HumanMessage(content='hi!', additional_kwargs={}, response_metadata={})]"
      ]
     },
     "execution_count": 10,
     "metadata": {},
     "output_type": "execute_result"
    }
   ],
   "source": [
    "prompt.to_messages()"
   ]
  },
  {
   "cell_type": "code",
   "execution_count": 11,
   "id": "dae59198",
   "metadata": {},
   "outputs": [
    {
     "name": "stdout",
     "output_type": "stream",
     "text": [
      "Ciao!\n"
     ]
    }
   ],
   "source": [
    "response = model.invoke(prompt)\n",
    "print(response.content)"
   ]
  },
  {
   "cell_type": "markdown",
   "id": "a1778f56",
   "metadata": {},
   "source": [
    "# Structured Output\n",
    "\n",
    "https://python.langchain.com/docs/how_to/structured_output/"
   ]
  },
  {
   "cell_type": "code",
   "execution_count": 12,
   "id": "8a409e26",
   "metadata": {},
   "outputs": [],
   "source": [
    "from langchain.chat_models import init_chat_model\n",
    "llm = init_chat_model(\"gpt-4o-mini\", model_provider=\"openai\")"
   ]
  },
  {
   "cell_type": "code",
   "execution_count": 13,
   "id": "83944031",
   "metadata": {},
   "outputs": [
    {
     "name": "stdout",
     "output_type": "stream",
     "text": [
      "setup='Why did the cat sit on the computer?' punchline='Because it wanted to keep an eye on the mouse!' rating=8\n"
     ]
    }
   ],
   "source": [
    "from typing import Optional\n",
    "\n",
    "from pydantic import BaseModel, Field\n",
    "\n",
    "\n",
    "# Pydantic outout structure\n",
    "class JokeFormat(BaseModel):\n",
    "    \"\"\"Joke to tell user.\"\"\"\n",
    "\n",
    "    setup: str = Field(description=\"The setup of the joke\")\n",
    "    punchline: str = Field(description=\"The punchline to the joke\")\n",
    "    rating: Optional[int] = Field(\n",
    "        default=None, description=\"How funny the joke is, from 1 to 10\"\n",
    "    )\n",
    "\n",
    "\n",
    "structured_llm = llm.with_structured_output(JokeFormat)\n",
    "\n",
    "joke = structured_llm.invoke(\"Tell me a joke about cats\")\n",
    "print(joke)"
   ]
  },
  {
   "cell_type": "code",
   "execution_count": 14,
   "id": "129d5966",
   "metadata": {},
   "outputs": [
    {
     "name": "stdout",
     "output_type": "stream",
     "text": [
      "weight=62 lifeExpectancy=72\n"
     ]
    }
   ],
   "source": [
    "#example\n",
    "\n",
    "from typing import Optional\n",
    "from pydantic import BaseModel, Field\n",
    "\n",
    "# Pydantic\n",
    "class AnimalFormat(BaseModel):\n",
    "    \"\"\"General description about a typical animal\"\"\"\n",
    "    weight: int = Field(description=\"average weight of the animal in kg\")\n",
    "    lifeExpectancy: int = Field(description=\"Average Life expectancy of the animal in years\")\n",
    "\n",
    "\n",
    "structured_llm = llm.with_structured_output(AnimalFormat)\n",
    "\n",
    "output = structured_llm.invoke(\"Tell me about human\")\n",
    "print(output)"
   ]
  },
  {
   "cell_type": "code",
   "execution_count": 15,
   "id": "b3bed832",
   "metadata": {},
   "outputs": [
    {
     "name": "stdout",
     "output_type": "stream",
     "text": [
      "summary='\"Indian Fairy Tales\" is a collection of traditional tales compiled by Joseph Jacobs, featuring stories rich in moral lessons, cultural elements, and magical encounters. The tales include various characters, such as clever animals, princes, and magical beings, who navigate challenges and showcase the importance of values like generosity, honesty, and wisdom. The book presents a diverse range of narratives influenced by Indian folklore, highlighting themes of friendship, loyalty, and the consequences of actions.' listOfCharacters=['Raja Salabhan', 'Queen Lona', 'Raja Rasalu', 'Brahma-datta', 'Devadatta', 'Raja Sarkap', 'Katar', 'The King', 'The Fakir', 'The Crow', 'The Pigeon', \"The Gardener's Daughter\", 'Harisarman']\n"
     ]
    }
   ],
   "source": [
    "# exercise: rag query\n",
    "\n",
    "# Exercise: TOY RAG prompts\n",
    "\n",
    "prompt_template = \"\"\"You are an assistant for question-answering tasks. Use the following pieces of retrieved context to answer the question. If you don't know the answer, just say that you don't know. Use three sentences maximum and keep the answer concise.\n",
    "Question: {question} \n",
    "Context: {context} \n",
    "Answer:\"\"\"\n",
    "\n",
    "# RAG external text\n",
    "file = open(\".\\data\\indianTales.txt\")\n",
    "text = file.read()\n",
    "#text = text[-len(text)//10:]\n",
    "#print(text)\n",
    "\n",
    "# Pydantic\n",
    "class BookSummary(BaseModel):\n",
    "    \"\"\"A model to summarize a story book\"\"\"\n",
    "    summary: str = Field(description=\"A short summary of the book\")\n",
    "    listOfCharacters: list[str] = Field(description=\"List of characters in the book\")\n",
    "\n",
    "\n",
    "\n",
    "# example toy RAG\n",
    "prompt = ChatPromptTemplate([prompt_template])\n",
    "msg = prompt.invoke({\"question\":\"Summerize the book and give a list of main characters in the story.\", \"context\":text})\n",
    "\n",
    "\n",
    "structured_model = model.with_structured_output(BookSummary)\n",
    "\n",
    "output = structured_model.invoke(msg)\n",
    "print(output)"
   ]
  },
  {
   "cell_type": "code",
   "execution_count": 16,
   "id": "572b8fda",
   "metadata": {},
   "outputs": [],
   "source": [
    "# Exercise: Generate a list of question and answers based on a given text\n",
    "\n",
    "prompt_template = \"\"\"You are an assistant for a research scholar. Based on the given article, list major points of the article. Don't user prior knowledge.\n",
    "Artile: {article} \n",
    "Major Points:\"\"\"\n",
    "\n",
    "# RAG external text\n",
    "file = open(\".\\data\\\\animalResearch.txt\")\n",
    "text = file.read()\n",
    "\n",
    "# example toy RAG\n",
    "prompt = ChatPromptTemplate([prompt_template])\n",
    "msg = prompt.invoke({\"article\":text})\n",
    "\n",
    "output = llm.invoke(msg)"
   ]
  },
  {
   "cell_type": "code",
   "execution_count": 17,
   "id": "0f5078d5",
   "metadata": {},
   "outputs": [
    {
     "name": "stdout",
     "output_type": "stream",
     "text": [
      "1. **Scale of Animal Testing**: Over 110 million animals are killed annually in U.S. laboratories, including a range of species such as mice, rats, dogs, cats, and monkeys, for various forms of research and testing.\n",
      "\n",
      "2. **Animal Suffering**: Animals in laboratories often endure severe suffering from experiments, including exposure to toxic substances and physical harm, as well as psychological distress from confinement and isolation.\n",
      "\n",
      "3. **Unreliability of Animal Experiments**: A significant percentage of U.S. adults oppose animal testing. Many animal experiments do not effectively contribute to human health advancements, raising questions about their reliability and value.\n",
      "\n",
      "4. **Poor Translation to Human Health**: Research published in reputable journals indicates that treatments developed in animal models seldom translate effectively to humans, with numerous failed clinical trials stemming from animal testing.\n",
      "\n",
      "5. **Cost and Failure Rates**: Drug development is lengthy and costly, with a failure rate exceeding 95%. The average time for drug approval is around 14 years, with substantial financial investments that may yield little return regarding effective treatments.\n",
      "\n",
      "6. **Lack of Transparency**: There is significant difficulty for the public to obtain information about animal experiments funded by tax dollars due to exemptions for private companies, making oversight challenging.\n",
      "\n",
      "7. **Inadequate Regulation and Oversight**: Most countries, including the U.S., have insufficient regulations to protect animals in research settings, particularly for the most commonly used species, which are often exempt from basic protections.\n",
      "\n",
      "8. **Bias in Oversight Committees**: Institutional Animal Care and Use Committees (IACUCs), responsible for overseeing animal experimentation, tend to be dominated by members with vested interests in animal research, potentially leading to biased decision-making favoring animal testing.\n",
      "\n",
      "9. **Alternatives to Animal Testing**: Advances in scientific methodology provide non-animal testing alternatives that can be more effective and humane, such as human-based research, in vitro methods, and computational models.\n",
      "\n",
      "10. **Increased Public Awareness**: There is growing public discontent regarding the ethical implications and ineffectiveness of animal testing, leading to calls for reforms and alternative funding strategies in research.\n",
      "\n",
      "11. **Historical Context**: The article references a PETA initiative, “Without Consent,” which highlights historical instances of animal exploitation in laboratory settings, promoting awareness and advocacy against animal testing.\n",
      "\n",
      "12. **Statistical Overview**: The article includes statistics indicating the number of animals used in research in the U.S. and other countries, underscoring the ongoing scale of animal testing practices globally.\n"
     ]
    }
   ],
   "source": [
    "print(output.content)"
   ]
  },
  {
   "cell_type": "code",
   "execution_count": null,
   "id": "8134bdd6",
   "metadata": {},
   "outputs": [],
   "source": []
  },
  {
   "cell_type": "code",
   "execution_count": 20,
   "id": "0cedf35b",
   "metadata": {},
   "outputs": [],
   "source": [
    "from langchain_community.document_loaders import PyPDFLoader\n",
    "\n",
    "loader = PyPDFLoader(file_path)\n",
    "pages = []\n",
    "async for page in loader.alazy_load():\n",
    "    pages.append(page)"
   ]
  },
  {
   "cell_type": "code",
   "execution_count": 21,
   "id": "5975eca3",
   "metadata": {},
   "outputs": [
    {
     "data": {
      "text/plain": [
       "'A KS THEOREM IN SEVERAL VARIABLES 13\\n[2] A. M. Gleason. A characterization of maximal ideals. Journal d’Analyse Math´ ematique, 19:171–\\n172, 1967.\\n[3] Jaikishan, S. Lata, and D. Singh. Multiplicativity of linear functiona ls on function spaces on an\\nopen disc. Archiv der Mathematik , 123:65–74, 2024.\\n[4] J. Kahane and W. ˙Zelazko. A characterization of maximal ideals in commutative Banach alge-\\nbras. Studia Mathematica , 29:339–343, 1968.\\n[5] K. Kou and J. Liu. Which linear operators preserve outer functio ns? Indagationes Mathemati-\\ncae, 28(6):1144–1156, 2017.\\n[6] S. Kowalski and Z. S/suppress l odkowski. A characterization of multiplicative linear functionals in Banach\\nalgebras. Studia Mathematica , 67:215–223, 1980.\\n[7] A. Maouche. Formes multiplicatives ` a valeurs dans le spectre. Colloquium Mathematicum ,\\n71(1):43–45, 1996.\\n[8] J. Mashreghi and T. Ransford. A Gleason-Kahane-˙Zelazko theorem for modules and applications\\nto holomorphic function spaces. Bulletin of the London Mathematical Society , 47(6):1014–1020,\\n2015.\\n[9] G. J. Murphy. C∗ -algebras and operator theory. Academic Press, Inc., Boston, MA , 1990.\\n[10] M. Roitman and Y. Sternfeld. When is a linear functional multiplicat ive? Transactions of the\\nAmerican Mathematical Society , 267(1):111–124, 1981.\\n[11] J. Sampat. Cyclicity preserving operators on spaces of analyt ic functions in Cn. Integral Equa-\\ntions and Operator Theory , 93:1–20, 2021.\\n[12] G. Sebastian and S. Daniel. A weaker Gleason-Kahane- ˙Zelazko theorem for modules and appli-\\ncations to Hardy spaces. Colloquium Mathematicum , 164(2):273–282, 2021.\\n[13] C. Tour´ e, R. Brits, and G. Sebastian. A multiplicative Kowalski-S /suppress lodkowski theorem forC∗ -\\nalgebras. Canadian Mathematical Bulletin , 66(3):1–8, 2023.\\n[14] C. Tour´ e, F. Schulz, and R. Brits. Multiplicative maps into the spectrum. Studia Mathematica ,\\n239:55–66, 2017.\\n[15] C. Tour´ e, F. Schulz, and R. Brits. Some character generatin g functions on Banach algebras.\\nJournal of Mathematical Analysis and Applications , 468(2):704–715, 2018.\\n[16] W. ˙Zelazko. A characterization of multiplicative linear functionals in complex Banach algebras.\\nStudia Mathematica , 30(1):83–85, 1968.\\nDepartment Of Mathematics, School of Natural Sciences, Shiv Nadar Institution\\nof Eminence, Gautam Buddha Nagar, Uttar Pradesh 201314, Ind ia\\nEmail address : jk301@snu.edu.in\\nDepartment Of Mathematics, School of Natural Sciences, Shiv Nadar Institution\\nof Eminence, Gautam Buddha Nagar, Uttar Pradesh 201314, Ind ia\\nEmail address : sneh.lata@snu.edu.in\\nCentre For Digital Sciences, O. P. Jindal Global University , Sonipat, Haryana\\n131001, India\\nEmail address : dineshsingh1@gmail.com'"
      ]
     },
     "execution_count": 21,
     "metadata": {},
     "output_type": "execute_result"
    }
   ],
   "source": [
    "pages[12].page_content"
   ]
  },
  {
   "cell_type": "markdown",
   "id": "b99b3c15",
   "metadata": {},
   "source": [
    "# More Bigger Prompting"
   ]
  },
  {
   "cell_type": "code",
   "execution_count": 21,
   "id": "63108a82",
   "metadata": {},
   "outputs": [],
   "source": [
    "import os\n",
    "from dotenv import load_dotenv\n",
    "load_dotenv()\n",
    "\n",
    "from langchain.chat_models import init_chat_model\n",
    "model = init_chat_model(\"gpt-4o-mini\", model_provider=\"openai\")"
   ]
  },
  {
   "cell_type": "code",
   "execution_count": 23,
   "id": "d9da3158",
   "metadata": {},
   "outputs": [
    {
     "data": {
      "text/plain": [
       "'Tell me a joke about: college\\nWrite the response in the following format:\\n\\n# {Title}\\n--------\\n{response}\\n'"
      ]
     },
     "execution_count": 23,
     "metadata": {},
     "output_type": "execute_result"
    }
   ],
   "source": [
    "from langchain.chat_models import init_chat_model\n",
    "#model = init_chat_model(\"llama3-70b-8192\", model_provider=\"groq\")\n",
    "model = init_chat_model(\"gpt-4o-mini\", model_provider=\"openai\")\n",
    "\n",
    "question_template = \"\"\"Tell me a joke about: {topic}\n",
    "Write the response in the following format:\n",
    "\n",
    "# {{Title}}\n",
    "--------\n",
    "{{response}}\n",
    "\"\"\"\n",
    "question = question_template.format(topic=\"college\")\n",
    "question\n"
   ]
  },
  {
   "cell_type": "code",
   "execution_count": 24,
   "id": "eac5736a",
   "metadata": {},
   "outputs": [],
   "source": [
    "response =  model.invoke(question_template.format(topic=\"cats\"))"
   ]
  },
  {
   "cell_type": "code",
   "execution_count": 25,
   "id": "9892307a",
   "metadata": {},
   "outputs": [
    {
     "data": {
      "text/markdown": [
       "# Feline Fine\n",
       "--------\n",
       "Why was the cat sitting on the computer?  \n",
       "Because it wanted to keep an eye on the mouse!"
      ],
      "text/plain": [
       "<IPython.core.display.Markdown object>"
      ]
     },
     "execution_count": 25,
     "metadata": {},
     "output_type": "execute_result"
    }
   ],
   "source": [
    "from IPython.display import Markdown\n",
    "Markdown(response.content)"
   ]
  },
  {
   "cell_type": "markdown",
   "id": "ec349e40",
   "metadata": {},
   "source": [
    "## Example "
   ]
  },
  {
   "cell_type": "code",
   "execution_count": 26,
   "id": "8d1de840",
   "metadata": {},
   "outputs": [
    {
     "data": {
      "text/markdown": [
       "Certainly! Here are four subtopics in the field of Machine Learning for stock predictions, along with notable research works in each area:\n",
       "\n",
       "## Time Series Analysis and Forecasting\n",
       "1. **Bontempi, G., Taieb, S. B., & Le Borgne, Y. A. (2012)** - \"Machine learning strategies for time series forecasting.\"\n",
       "2. **Hyndman, R. J., & Athanasopoulos, G. (2018)** - \"Forecasting: Principles and Practice,\" which covers a wide variety of time series forecasting methods.\n",
       "3. **Zhang, G. P. (2003)** - \"Time series forecasting using a hybrid ARIMA and neural network model.\" \n",
       "4. **Makridakis, S., & Hibon, M. (2000)** - \"The M3-Competition: Results, conclusions and recommendations.\" \n",
       "5. **Yao, J., & Tan, J. (2009)** - \"Forecasting stock market movement direction with support vector machine.\"\n",
       "\n",
       "----\n",
       "## Feature Engineering and Selection\n",
       "1. **Ameen, A., & Azzam, R. (2020)** - \"Feature Engineering for Stock Price Prediction Using Machine Learning Techniques.\"\n",
       "2. **Kourentzes, N., & Petropoulos, F. (2015)** - \"The role of feature selection in stock price forecasting.\"\n",
       "3. **Gu, Q., & Wang, L. (2016)** - \"Feature selection for stock price prediction in a multi-class classification setting.\" \n",
       "4. **Verma, O. P., & Kumar, A. (2018)** - \"A study on the selection of relevant indicators for predicting stock price movements.\"\n",
       "5. **Xing, Y., & Korki, S. (2018)** - \"Deep feature selection: Theory and application to stock price prediction.\"\n",
       "\n",
       "----\n",
       "## Deep Learning Approaches\n",
       "1. **Fischer, T., & Krauss, C. (2018)** - \"Deep learning with long short-term memory networks for financial market predictions.\"\n",
       "2. **Cho, K. et al. (2014)** - \"Learning Phrase Representations using RNN Encoder-Decoder for Statistical Machine Translation,\" often cited in financial predictions.\n",
       "3. **He et al. (2019)** - \"A LSTM-based method for stock price prediction.\"\n",
       "4. **Zhang, Y., & Hu, Z. (2019)** - \"Stock Price Prediction Using LSTM and Historical Data.\"\n",
       "5. **Shah, J. (2020)** - \"Application of CNN and LSTM Neural Networks for Stock Market Predictions.\"\n",
       "\n",
       "----\n",
       "## Reinforcement Learning Applications\n",
       "1. **Moody, J., & Wu, L. (1997)** - \"Genetic algorithms for stock trading systems.\"\n",
       "2. **Zhang, F., & Huo, L. (2018)** - \"Reinforcement learning for trading in financial markets.\"\n",
       "3. **Deng, Y., & Li, Y. (2016)** - \"Deep reinforcement learning for trading.\"\n",
       "4. **Jiang, Z., & Liang, J. (2017)** - \"Portfolio Management via Deep Reinforcement Learning.\"\n",
       "5. **Kakushadze, Z. (2019)** - \"The Supervised Reinforcement Learning Approach to Stock Trading.\"\n",
       "\n",
       "These works reflect significant advancements and various methodologies used in the application of machine learning to stock predictions."
      ],
      "text/plain": [
       "<IPython.core.display.Markdown object>"
      ]
     },
     "execution_count": 26,
     "metadata": {},
     "output_type": "execute_result"
    }
   ],
   "source": [
    "from langchain.chat_models import init_chat_model\n",
    "#model = init_chat_model(\"llama3-70b-8192\", model_provider=\"groq\")\n",
    "model = init_chat_model(\"gpt-4o-mini\", model_provider=\"openai\")\n",
    "\n",
    "prompt = \"\"\"You are a research assistant. You are tasked to find 4 subtopics for the research area {topic}. For each sub area, list 5 major research work done so far in this format:\n",
    "\n",
    "## {{Sub topic 1}}\n",
    "1. {{Work 1}}\n",
    "2. {{Work 2}}\n",
    "3. {{Work 3}}\n",
    "4. {{Work 4}}\n",
    "5. {{Work 6}}\n",
    "----\n",
    "## {{Sub topic 2}}\n",
    "1. {{Work 1}}\n",
    "2. {{Work 2}}\n",
    "3. {{Work 3}}\n",
    "4. {{Work 4}}\n",
    "5. {{Work 6}}\n",
    "----\n",
    "...\n",
    "## {{Sub topic 4}}\n",
    "1. {{Work 1}}\n",
    "2. {{Work 2}}\n",
    "3. {{Work 3}}\n",
    "4. {{Work 4}}\n",
    "5. {{Work 6}}\n",
    " \n",
    "\"\"\"\n",
    "\n",
    "response = model.invoke(prompt.format(topic=\"Machine Learning in stock predictions\"))\n",
    "from IPython.display import Markdown\n",
    "Markdown(response.content)"
   ]
  },
  {
   "cell_type": "markdown",
   "id": "cafd3aa7",
   "metadata": {},
   "source": [
    "## Example with sources"
   ]
  },
  {
   "cell_type": "code",
   "execution_count": 27,
   "id": "88348804",
   "metadata": {},
   "outputs": [
    {
     "data": {
      "text/markdown": [
       "## Machine Learning in Stock Predictions\n",
       "\n",
       "### Summary\n",
       "The stock market has long been a subject of interest for analysts and investors alike, fueled by the quest to predict stock prices accurately in an increasingly volatile economic landscape. Traditional statistical methods often fall short when it comes to accounting for the complexity and non-linearity inherent in financial data. However, recent advancements in machine learning (ML) have opened new avenues for developing predictive models that leverage vast datasets to generate insights that were previously unattainable. \n",
       "\n",
       "Incorporating techniques such as neural networks, decision trees, and ensemble methods, machine learning can analyze historical stock prices, trading volumes, and even social media sentiment to make predictions with remarkable accuracy. One particularly interesting aspect of machine learning in finance is the ability to adapt models in real-time as new data becomes available. This agility can be instrumental in responding to market shifts and investor behavior.\n",
       "\n",
       "Recent insights gathered from the exploration of machine learning applications in stock prediction highlight the importance of feature engineering and the selection of algorithms tailored to specific problems. The novelty lies in how hybrid models, which combine fundamental analysis with technical data and sentiment analysis, can outperform traditional models in both short-term and long-term predictions. \n",
       "\n",
       "1. The financial sector has increasingly adopted machine learning techniques, pointing to a shift from traditional statistical methods to more data-driven approaches.\n",
       "2. Hybrid models leveraging various data sources, including unstructured data, have shown significant improvements in predictive accuracy.\n",
       "3. Ongoing research is focusing on interpretability in ML models, providing transparency and building trust with investors.\n",
       "\n",
       "### Sources\n",
       "- [1] https://www.forbes.com/sites/bernardmarr/2020/01/06/how-machine-learning-is-revolutionizing-stock-market-predictions/  \n",
       "- [2] https://towardsdatascience.com/machine-learning-in-stock-price-prediction-832befcb0e56  \n",
       "- [3] https://www.investopedia.com/terms/m/machine-learning.asp  \n",
       "- [4] https://www.sciencedirect.com/science/article/pii/S2405452621001624  \n",
       "- [5] https://arxiv.org/abs/1902.07985  "
      ],
      "text/plain": [
       "<IPython.core.display.Markdown object>"
      ]
     },
     "execution_count": 27,
     "metadata": {},
     "output_type": "execute_result"
    }
   ],
   "source": [
    "prompt_template = \"\"\"You are an expert technical writer. \n",
    "            \n",
    "Your task is to create a short report on the topic {focus}. Divide the report into easily digestable sections. You have to use prior knowledge. While writing the report use the following instructions:\n",
    "        \n",
    "1. Create a report structure using markdown formatting: Create a minimum of 4 sections.\n",
    "- Use ## for the section title\n",
    "- Use ### for sub-section headers\n",
    "        \n",
    "2. Write the report following this structure:\n",
    "a. Title (## header)\n",
    "b. Summary (### header)\n",
    "c. Sources (### header)\n",
    "\n",
    "3. Make your title engaging based upon the focus area of the analyst: \n",
    "{focus}\n",
    "\n",
    "4. Write a summary section:\n",
    "- Set up summary with general background / context related to the focus area of the analyst\n",
    "- Emphasize what is novel, interesting, or surprising about insights gathered from the interview\n",
    "- Create a numbered list of source documents, as you use them\n",
    "- Do not mention the names of interviewers or experts\n",
    "- Aim for approximately 2000 words maximum\n",
    "- Use numbered sources in your report (e.g., [1], [2]) based on information from source documents\n",
    "        \n",
    "5. Write a Sources section:\n",
    "- Include all sources used in your report\n",
    "- Provide full links to relevant websites or specific document paths\n",
    "- Separate each source by a newline. Use two spaces at the end of each line to create a newline in Markdown.\n",
    "- It will look like:\n",
    "\n",
    "### Sources\n",
    "- [1] Link or Document name\n",
    "- [2] Link or Document name\n",
    "\n",
    "6. Be sure to combine sources. For example this is not correct:\n",
    "\n",
    "[3] https://ai.meta.com/blog/meta-llama-3-1/\n",
    "[4] https://ai.meta.com/blog/meta-llama-3-1/\n",
    "\n",
    "There should be no redundant sources. It should simply be:\n",
    "\n",
    "[3] https://ai.meta.com/blog/meta-llama-3-1/\n",
    "        \n",
    "7. Final review:\n",
    "- Ensure the report follows the required structure\n",
    "- Include no preamble before the title of the report\n",
    "- Check that all guidelines have been followed\n",
    "\n",
    "\"\"\"\n",
    "\n",
    "\n",
    "\n",
    "response = model.invoke(prompt_template.format(focus=\"Machine Learning in stock predictions\"))\n",
    "from IPython.display import Markdown\n",
    "Markdown(response.content)"
   ]
  },
  {
   "cell_type": "code",
   "execution_count": 28,
   "id": "c7b0e8bd",
   "metadata": {},
   "outputs": [
    {
     "data": {
      "text/markdown": [
       "# Introduction\n",
       "\n",
       "Machine learning (ML) has rapidly emerged as a powerful tool in quantitative finance for stock prediction. Stock prediction involves forecasting the future price movements of stocks based on historical data and various market indicators. The significance of ML in this domain lies in its ability to analyze vast amounts of data, identify complex patterns, and make informed trading decisions with minimal human intervention. Typical applications of ML in stock prediction include algorithmic trading, risk management, portfolio optimization, and sentiment analysis derived from news and social media.\n",
       "\n",
       "# Mathematical Theory\n",
       "\n",
       "## Core Mathematical Foundations\n",
       "\n",
       "The mathematical foundations of machine learning in stock predictions encompass several areas, primarily statistics, linear algebra, optimization, and probability theory.\n",
       "\n",
       "### Definitions and Notations\n",
       "\n",
       "1. **Dataset**: A collection of financial data points is often represented as a matrix \\( X \\), where each row corresponds to an observation (i.e., a stock's attributes over time), and each column represents a feature (such as historical prices, volume, or technical indicators).\n",
       "\n",
       "2. **Target Variable**: The outcome we wish to predict, denoted as \\( y \\), which could represent the future price of a stock or binary outcomes like \"buy\" or \"sell\".\n",
       "\n",
       "3. **Model**: A function \\( f: X \\rightarrow y \\) that attempts to map feature inputs to target outputs.\n",
       "\n",
       "### Important Theorems and Concepts\n",
       "\n",
       "1. **Empirical Risk Minimization**: This framework aims to find a function \\( f \\) that minimizes the empirical risk, defined as:\n",
       "\n",
       "   $$\n",
       "   R_n(f) = \\frac{1}{n} \\sum_{i=1}^{n} L(f(x_i), y_i)\n",
       "   $$\n",
       "\n",
       "   where \\( L \\) is a loss function quantifying the error between predicted and actual values.\n",
       "\n",
       "2. **Overfitting and Regularization**: A critical challenge in ML models is overfitting, where the model performs well on training data but poorly on unseen data. Regularization techniques, such as Lasso \\( (L_1 \\text{ norm}) \\) and Ridge \\( (L_2 \\text{ norm}) \\), are used to constrain the model complexity and improve generalization.\n",
       "\n",
       "3. **Gradient Descent**: An optimization method to minimize the loss function, iteratively updating the model parameters \\( \\theta \\):\n",
       "\n",
       "   $$\n",
       "   \\theta = \\theta - \\alpha \\nabla L(\\theta)\n",
       "   $$\n",
       "\n",
       "   where \\( \\alpha \\) is the learning rate, and \\( \\nabla L \\) is the gradient of the loss.\n",
       "\n",
       "### Examples\n",
       "\n",
       "For instance, a common ML model utilized is the **Support Vector Machine (SVM)**, which classifies data by finding the hyperplane that maximizes the margin between distinct classes. The mathematical formulation involves finding:\n",
       "\n",
       "   $$\n",
       "   \\min_{\\theta} \\|\\theta\\|^2 \\quad \\text{subject to} \\quad y_i(\\langle \\theta, x_i \\rangle) \\geq 1, \\forall i\n",
       "   $$\n",
       "\n",
       "### Time Series Analysis\n",
       "\n",
       "Since stock market data is inherently temporal, time series analysis methods, such as ARIMA (AutoRegressive Integrated Moving Average) and LSTM (Long Short-Term Memory networks), are essential. LSTMs, in particular, leverage recurrent neural network architecture to learn from sequences of data effectively, making them suitable for stock price prediction.\n",
       "\n",
       "# Latest Open Problems\n",
       "\n",
       "As machine learning continues to evolve in the context of stock prediction, several major research challenges remain:\n",
       "\n",
       "1. **Interpretability of Models**: Complex models (like deep learning architectures) often function as \"black boxes,\" making it difficult for traders to understand the reasoning behind predictions.\n",
       "\n",
       "2. **Data Quality and Preprocessing**: Stock market data can be noisy and sparse. Developing robust methods for data cleaning, feature extraction, and transformation remains an active area of research.\n",
       "\n",
       "3. **Dynamic Market Conditions**: Financial markets are influenced by diverse and changing factors, leading to non-stationary time series. Adapting models to such varying conditions without degrading predictive performance is a challenging task.\n",
       "\n",
       "4. **Integration of Alternative Data**: There is considerable potential in incorporating non-traditional data sources, such as social media sentiment, financial news articles, and macroeconomic indicators, into stock prediction models. However, effectively modeling these data types poses its own set of complexities.\n",
       "\n",
       "# Future Directions\n",
       "\n",
       "Machine learning in stock predictions is poised for continual expansion, propelled by emerging trends and technologies. Possible paths for future research and application development include:\n",
       "\n",
       "1. **Explainable AI (XAI)**: Innovations in making machine learning models more interpretable will be crucial for their adoption in finance, where stakeholders demand transparency and reliability in decision-making.\n",
       "\n",
       "2. **Ensemble Methods**: Combining multiple models (e.g., Random Forests, Gradient Boosting) could yield better predictive performance than singular models due to enhanced robustness and accuracy.\n",
       "\n",
       "3. **Reinforcement Learning**: This area can offer significant improvements in trading strategies by optimizing sequential decision-making processes, adapting to evolving market landscapes in real-time.\n",
       "\n",
       "4. **Quantum Computing**: Future research could potentially explore the implications of quantum computing on machine learning algorithms, which could revolutionize processing capabilities for vast financial datasets.\n",
       "\n",
       "5. **Integration with Blockchain**: Understanding the interactions between blockchain technology and stock prediction models could lead to novel insights and trading strategies.\n",
       "\n",
       "# References\n",
       "\n",
       "1. Tsay, R. S. (2010). *Analysis of Financial Time Series*. Wiley Series in Probability and Statistics.\n",
       "2. He, K., Zhang, X., Ren, S., & Sun, J. (2016). \"Deep Residual Learning for Image Recognition.\" *Proceedings of the IEEE Computer Society Conference on Computer Vision and Pattern Recognition*.\n",
       "3. Kelleher, J. D., Mac Carthy, M. (2015). *Fundamentals of Machine Learning for Predictive Data Analytics: Algorithms, Worked Examples, and Case Studies*.\n",
       "4. Hashem, I. A. T., et al. (2019). \"A review of machine learning in stock market prediction.\" *Econometrics*.\n",
       "5. Goodfellow, I., Bengio, Y., Courville, A. (2016). *Deep Learning*. MIT Press."
      ],
      "text/plain": [
       "<IPython.core.display.Markdown object>"
      ]
     },
     "execution_count": 28,
     "metadata": {},
     "output_type": "execute_result"
    }
   ],
   "source": [
    "prompt_template=\"\"\"\n",
    "Write a detailed technical report on the mathematical topic: {topic}.\n",
    "\n",
    "Structure the report into the following sections, each clearly separated with appropriate Markdown headings (#, ##):\n",
    "\n",
    "# Introduction\n",
    "\n",
    "{{Give a clear, concise overview of the topic.}}\n",
    "\n",
    "{{Explain its significance and typical applications.}}\n",
    "\n",
    "# Mathematical Theory\n",
    "\n",
    "{{Describe the core mathematical foundations in detail.}}\n",
    "\n",
    "{{Include important definitions, theorems, proofs, and examples where relevant.}}\n",
    "\n",
    "# Latest Open Problems\n",
    "\n",
    "{{Discuss major current research challenges or unresolved questions in the field.}}\n",
    "\n",
    "# Reference recent papers or developments (with citations).\n",
    "\n",
    "# Future Directions\n",
    "\n",
    "{{Suggest possible paths for future research or applications.}}\n",
    "\n",
    "{{Discuss emerging trends and technologies that might impact this area.}}\n",
    "\n",
    "# References\n",
    "\n",
    "List all sources cited, preferably in a simple numbered list or BibTeX-style.\n",
    "\n",
    "Use appropriate LaTeX-style formatting (with $$ for equations if needed) for mathematical expressions inside the Markdown.\n",
    "Write in a formal and precise tone, suitable for a technical audience.\n",
    "\"\"\"\n",
    "\n",
    "\n",
    "response = model.invoke(prompt_template.format(topic=\"Machine Learning in stock predictions\"))\n",
    "from IPython.display import Markdown\n",
    "Markdown(response.content)"
   ]
  },
  {
   "cell_type": "code",
   "execution_count": null,
   "id": "f46a4501",
   "metadata": {},
   "outputs": [],
   "source": []
  }
 ],
 "metadata": {
  "kernelspec": {
   "display_name": "langgraph-academy",
   "language": "python",
   "name": "python3"
  },
  "language_info": {
   "codemirror_mode": {
    "name": "ipython",
    "version": 3
   },
   "file_extension": ".py",
   "mimetype": "text/x-python",
   "name": "python",
   "nbconvert_exporter": "python",
   "pygments_lexer": "ipython3",
   "version": "3.11.11"
  }
 },
 "nbformat": 4,
 "nbformat_minor": 5
}
