{
 "cells": [
  {
   "cell_type": "code",
   "execution_count": 1,
   "id": "490a90bb",
   "metadata": {},
   "outputs": [
    {
     "data": {
      "text/plain": [
       "True"
      ]
     },
     "execution_count": 1,
     "metadata": {},
     "output_type": "execute_result"
    }
   ],
   "source": [
    "import os\n",
    "from dotenv import load_dotenv\n",
    "load_dotenv()"
   ]
  },
  {
   "cell_type": "markdown",
   "id": "5555e09c",
   "metadata": {},
   "source": [
    "# What is RAG (retrieval augmented generation)? \n",
    "\n",
    "Basically, shoving lot of extra information in the prompt. "
   ]
  },
  {
   "cell_type": "markdown",
   "id": "dfd5850c",
   "metadata": {},
   "source": [
    "# Example"
   ]
  },
  {
   "cell_type": "code",
   "execution_count": 3,
   "id": "5666ceed",
   "metadata": {},
   "outputs": [
    {
     "name": "stdout",
     "output_type": "stream",
     "text": [
      "content=\"Ajit is Preeti's brother.\" additional_kwargs={} response_metadata={'token_usage': {'completion_tokens': 10, 'prompt_tokens': 93, 'total_tokens': 103, 'completion_time': 0.048715217, 'prompt_time': 0.00274993, 'queue_time': 0.053105737, 'total_time': 0.051465147}, 'model_name': 'llama3-70b-8192', 'system_fingerprint': 'fp_dd4ae1c591', 'finish_reason': 'stop', 'logprobs': None} id='run-02ac23d7-3b5c-477e-9969-74db7a776256-0' usage_metadata={'input_tokens': 93, 'output_tokens': 10, 'total_tokens': 103}\n"
     ]
    }
   ],
   "source": [
    "import os\n",
    "from dotenv import load_dotenv\n",
    "load_dotenv()\n",
    "\n",
    "from langchain.chat_models import init_chat_model\n",
    "model = init_chat_model(\"llama3-70b-8192\", model_provider=\"groq\")\n",
    "\n",
    "prompt_template = \"\"\"You are an assistant for question-answering tasks. Use the following pieces of retrieved context to answer the question. If you don't know the answer, just say that you don't know. Use three sentences maximum and keep the answer concise.\n",
    "Question: {question} \n",
    "Context: {context} \n",
    "Answer:\"\"\"\n",
    "\n",
    "response = model.invoke(\n",
    "    prompt_template.format(\n",
    "        context=\"Ajit has two sisters, Preeti and Sweta. Ajit is male.\",\n",
    "        question=\"Who is Preeti's bother\"         \n",
    "    ))\n",
    "\n",
    "print(response)"
   ]
  },
  {
   "cell_type": "code",
   "execution_count": 5,
   "id": "2b1c3f84",
   "metadata": {},
   "outputs": [
    {
     "name": "stdout",
     "output_type": "stream",
     "text": [
      "Ajit is Preeti's brother.\n"
     ]
    }
   ],
   "source": [
    "print(response.content)"
   ]
  },
  {
   "cell_type": "markdown",
   "id": "0caecb06",
   "metadata": {},
   "source": [
    "RAG is all about cleverly pushing is as much information in the context with **minimum** possible tokens"
   ]
  },
  {
   "cell_type": "markdown",
   "id": "486e3738",
   "metadata": {},
   "source": [
    "# Example\n",
    "\n",
    "little non-trival RAG example"
   ]
  },
  {
   "cell_type": "code",
   "execution_count": 18,
   "id": "466bdceb",
   "metadata": {},
   "outputs": [],
   "source": [
    "# little non-trival RAG example\n",
    "\n",
    "# grab a novel\n",
    "file = open(\".\\data\\indianTales.txt\")\n",
    "text = file.read()\n",
    "text = text[:len(text)//20]\n",
    "#print(text)"
   ]
  },
  {
   "cell_type": "code",
   "execution_count": 19,
   "id": "5cc5a3ee",
   "metadata": {},
   "outputs": [],
   "source": [
    "# get a LLM model\n",
    "import os\n",
    "from dotenv import load_dotenv\n",
    "load_dotenv()\n",
    "\n",
    "from langchain.chat_models import init_chat_model\n",
    "model = init_chat_model(\"llama3-70b-8192\", model_provider=\"groq\")"
   ]
  },
  {
   "cell_type": "code",
   "execution_count": 25,
   "id": "a5e57119",
   "metadata": {},
   "outputs": [
    {
     "name": "stdout",
     "output_type": "stream",
     "text": [
      "content=\"Here is the list of story titles with a short summary for each:\\n\\n1. **The Lion and the Crane**: A crane helps a lion by removing a bone stuck in his throat, but the lion shows no gratitude.\\n\\n2. **How the Raja's Son Won the Princess Labam**: A prince sets out on a journey to find Princess Labam, facing various challenges and meeting helpful creatures along the way.\\n\\n3. **The Lambikin**: (No summary, as the story is not provided in the text.)\\n\\n4. **Punchkin**: (No summary, as the story is not provided in the text.)\\n\\n5. **The Broken Pot**: (No summary, as the story is not provided in the text.)\\n\\n6. **The Magic Fiddle**: (No summary, as the story is not provided in the text.)\\n\\n7. **The Cruel Crane Outwitted**: (No summary, as the story is not provided in the text.)\\n\\n8. **Loving Laili**: (No summary, as the story is not provided in the text.)\\n\\n9. **The Tiger, the Brahman, and the Jackal**: (No summary, as the story is not provided in the text.)\\n\\n10. **The Soothsayer's Son**: (No summary, as the story is not provided in the text.)\\n\\n11. **Harisarman**: (No summary, as the story is not provided in the text.)\\n\\n12. **The Charmed Ring**: (No summary, as the story is not provided in the text.)\\n\\n13. **The Talkative Tortoise**: (No summary, as the story is not provided in the text.)\\n\\n14. **A Lac of Rupees for a Piece of Advice**: (No summary, as the story is not provided in the text.)\\n\\n15. **The Gold-Giving Serpent**: (No summary, as the story is not provided in the text.)\\n\\n16. **The Son of Seven Queens**: (No summary, as the story is not provided in the text.)\\n\\n17. **A Lesson for Kings**: (No summary, as the story is not provided in the text.)\\n\\n18. **Pride Goeth Before a Fall**: (No summary, as the story is not provided in the text.)\\n\\n19. **Raja Rasalu**: (No summary, as the story is not provided in the text.)\\n\\n20. **The Ass in the Lion's Skin**: (No summary, as the story is not provided in the text.)\\n\\n21. **The Farmer and the Money-Lender**: (No summary, as the story is not provided in the text.)\\n\\n22. **The Boy Who Had a Moon on His Forehead and a Star on His Chin**: (No summary, as the story is not provided in the text.)\\n\\n23. **The Prince and the Fakir**: (No summary, as the story is not provided in the text.)\\n\\n24. **Why the Fish Laughed**: (No summary, as the story is not provided in the text.)\\n\\n25. **The Demon with the Matted Hair**: (No summary, as the story is not provided in the text.)\\n\\n26. **The Ivory City and Its Fairy Princess**: (No summary, as the story is not provided in the text.)\\n\\n27. **Sun, Moon, and Wind Go Out to Dinner**: (No summary, as the story is not provided in the text.)\\n\\n28. **How the Wicked Sons Were Duped**: (No summary, as the story is not provided in the text.)\\n\\n29. **The Pigeon and the Crow**: (No summary, as the story is not provided in the text.)\" additional_kwargs={} response_metadata={'token_usage': {'completion_tokens': 743, 'prompt_tokens': 5203, 'total_tokens': 5946, 'completion_time': 2.281847003, 'prompt_time': 0.193792955, 'queue_time': 0.10809569499999999, 'total_time': 2.475639958}, 'model_name': 'llama3-70b-8192', 'system_fingerprint': 'fp_dd4ae1c591', 'finish_reason': 'stop', 'logprobs': None} id='run-6f6cda1f-aa5d-4d1a-a213-16d9ffa146b6-0' usage_metadata={'input_tokens': 5203, 'output_tokens': 743, 'total_tokens': 5946}\n"
     ]
    }
   ],
   "source": [
    "# Prepare your prompt\n",
    "\n",
    "prompt_template = \"\"\"You are a novel reader. You are given collection of stories:\n",
    "{collection_of_stories}\n",
    "\n",
    "You are tasked to make a list of story titles in this collection. Write a short summary for each story. Skip the story from the list, if the story is not provided in the text.\n",
    "\"\"\"\n",
    "\n",
    "response = model.invoke(prompt_template.format(collection_of_stories = text))\n",
    "\n",
    "print(response)"
   ]
  },
  {
   "cell_type": "code",
   "execution_count": 26,
   "id": "b4f019d3",
   "metadata": {},
   "outputs": [
    {
     "data": {
      "text/markdown": [
       "Here is the list of story titles with a short summary for each:\n",
       "\n",
       "1. **The Lion and the Crane**: A crane helps a lion by removing a bone stuck in his throat, but the lion shows no gratitude.\n",
       "\n",
       "2. **How the Raja's Son Won the Princess Labam**: A prince sets out on a journey to find Princess Labam, facing various challenges and meeting helpful creatures along the way.\n",
       "\n",
       "3. **The Lambikin**: (No summary, as the story is not provided in the text.)\n",
       "\n",
       "4. **Punchkin**: (No summary, as the story is not provided in the text.)\n",
       "\n",
       "5. **The Broken Pot**: (No summary, as the story is not provided in the text.)\n",
       "\n",
       "6. **The Magic Fiddle**: (No summary, as the story is not provided in the text.)\n",
       "\n",
       "7. **The Cruel Crane Outwitted**: (No summary, as the story is not provided in the text.)\n",
       "\n",
       "8. **Loving Laili**: (No summary, as the story is not provided in the text.)\n",
       "\n",
       "9. **The Tiger, the Brahman, and the Jackal**: (No summary, as the story is not provided in the text.)\n",
       "\n",
       "10. **The Soothsayer's Son**: (No summary, as the story is not provided in the text.)\n",
       "\n",
       "11. **Harisarman**: (No summary, as the story is not provided in the text.)\n",
       "\n",
       "12. **The Charmed Ring**: (No summary, as the story is not provided in the text.)\n",
       "\n",
       "13. **The Talkative Tortoise**: (No summary, as the story is not provided in the text.)\n",
       "\n",
       "14. **A Lac of Rupees for a Piece of Advice**: (No summary, as the story is not provided in the text.)\n",
       "\n",
       "15. **The Gold-Giving Serpent**: (No summary, as the story is not provided in the text.)\n",
       "\n",
       "16. **The Son of Seven Queens**: (No summary, as the story is not provided in the text.)\n",
       "\n",
       "17. **A Lesson for Kings**: (No summary, as the story is not provided in the text.)\n",
       "\n",
       "18. **Pride Goeth Before a Fall**: (No summary, as the story is not provided in the text.)\n",
       "\n",
       "19. **Raja Rasalu**: (No summary, as the story is not provided in the text.)\n",
       "\n",
       "20. **The Ass in the Lion's Skin**: (No summary, as the story is not provided in the text.)\n",
       "\n",
       "21. **The Farmer and the Money-Lender**: (No summary, as the story is not provided in the text.)\n",
       "\n",
       "22. **The Boy Who Had a Moon on His Forehead and a Star on His Chin**: (No summary, as the story is not provided in the text.)\n",
       "\n",
       "23. **The Prince and the Fakir**: (No summary, as the story is not provided in the text.)\n",
       "\n",
       "24. **Why the Fish Laughed**: (No summary, as the story is not provided in the text.)\n",
       "\n",
       "25. **The Demon with the Matted Hair**: (No summary, as the story is not provided in the text.)\n",
       "\n",
       "26. **The Ivory City and Its Fairy Princess**: (No summary, as the story is not provided in the text.)\n",
       "\n",
       "27. **Sun, Moon, and Wind Go Out to Dinner**: (No summary, as the story is not provided in the text.)\n",
       "\n",
       "28. **How the Wicked Sons Were Duped**: (No summary, as the story is not provided in the text.)\n",
       "\n",
       "29. **The Pigeon and the Crow**: (No summary, as the story is not provided in the text.)"
      ],
      "text/plain": [
       "<IPython.core.display.Markdown object>"
      ]
     },
     "execution_count": 26,
     "metadata": {},
     "output_type": "execute_result"
    }
   ],
   "source": [
    "from IPython.display import Markdown\n",
    "Markdown(response.content)"
   ]
  },
  {
   "cell_type": "markdown",
   "id": "f9fb211c",
   "metadata": {},
   "source": [
    "# Problem: Too much raw information in the context makes the prompt too long. \n",
    "\n",
    "- Costly\n",
    "- adds noise\n",
    "\n",
    "# Solution: Use `RAG`\n",
    "\n",
    "https://python.langchain.com/docs/tutorials/rag/"
   ]
  },
  {
   "cell_type": "markdown",
   "id": "d5e71ad2",
   "metadata": {},
   "source": [
    "## To understand RAG, we need to understand `Semantic Search`\n",
    "\n",
    "https://python.langchain.com/docs/tutorials/retrievers/"
   ]
  },
  {
   "cell_type": "code",
   "execution_count": null,
   "id": "bb803ff5",
   "metadata": {},
   "outputs": [],
   "source": [
    "# load text using RELEVANT loader\n",
    "from langchain_community.document_loaders import TextLoader\n",
    "loader = TextLoader(\".\\data\\indianTales.txt\")\n",
    "docs = loader.load()"
   ]
  },
  {
   "cell_type": "code",
   "execution_count": 35,
   "id": "36724378",
   "metadata": {},
   "outputs": [],
   "source": [
    "# print(docs[0].page_content)"
   ]
  },
  {
   "cell_type": "code",
   "execution_count": 36,
   "id": "3c3ce9dd",
   "metadata": {},
   "outputs": [
    {
     "name": "stdout",
     "output_type": "stream",
     "text": [
      "Split blog post into 563 sub-documents.\n"
     ]
    }
   ],
   "source": [
    "# Split document into small chunks\n",
    "from langchain_text_splitters import RecursiveCharacterTextSplitter\n",
    "\n",
    "text_splitter = RecursiveCharacterTextSplitter(\n",
    "    chunk_size=1000,  # chunk size (characters)\n",
    "    chunk_overlap=200,  # chunk overlap (characters)\n",
    "    add_start_index=True,  # track index in original document\n",
    ")\n",
    "all_splits = text_splitter.split_documents(docs)\n",
    "\n",
    "print(f\"Split blog post into {len(all_splits)} sub-documents.\")"
   ]
  },
  {
   "cell_type": "code",
   "execution_count": 41,
   "id": "19058798",
   "metadata": {},
   "outputs": [],
   "source": [
    "## Create vector store\n",
    "## load chunks in the vectorstore\n",
    "\n",
    "# we need an embedding model\n",
    "# (CLASROOM DISCUSSION: What is the need of embedding models?)\n",
    "\n",
    "from langchain_openai import OpenAIEmbeddings\n",
    "embeddings = OpenAIEmbeddings(model=\"text-embedding-3-large\")\n",
    "\n",
    "\n",
    "# create a vector store\n",
    "# (CLASSROOM DISCUSSION: What are vector store? What do we make them?)\n",
    "from langchain_core.vectorstores import InMemoryVectorStore\n",
    "vector_store = InMemoryVectorStore(embeddings)\n",
    "\n",
    "# adding documents in vectorstores\n",
    "document_ids = vector_store.add_documents(documents=all_splits)"
   ]
  },
  {
   "cell_type": "code",
   "execution_count": 43,
   "id": "cd9a51f0",
   "metadata": {},
   "outputs": [
    {
     "data": {
      "text/plain": [
       "'014008ac-b6c1-4c3f-804f-6f618b554248'"
      ]
     },
     "execution_count": 43,
     "metadata": {},
     "output_type": "execute_result"
    }
   ],
   "source": [
    "document_ids[0]"
   ]
  },
  {
   "cell_type": "code",
   "execution_count": null,
   "id": "0cfdd2e9",
   "metadata": {},
   "outputs": [],
   "source": [
    "# extract chunks which matches with your query\n",
    "\n",
    "search_results = vector_store.similarity_search_with_score(\n",
    "    \"What is the role of Lion in the story?\",\n",
    "    k = 10\n",
    ")"
   ]
  },
  {
   "cell_type": "code",
   "execution_count": 65,
   "id": "29332dad",
   "metadata": {},
   "outputs": [
    {
     "data": {
      "text/plain": [
       "[(Document(id='51cc9e86-2b66-4711-8185-1a49e54c2c04', metadata={'source': '.\\\\data\\\\indianTales.txt', 'start_index': 13209}, page_content='\"A service have we done thee\\n      To the best of our ability,\\n    King of the Beasts! Your Majesty!\\n      What return shall we get from thee?\"\\n\\nIn reply the Lion spoke the second verse:\\n\\n    \"As I feed on blood,\\n      And always hunt for prey,\\n    \\'Tis much that thou art still alive\\n      Having once been between my teeth.\"\\n\\nThen in reply the crane said the two other verses:\\n\\n    \"Ungrateful, doing no good,\\n      Not doing as he would be done by,\\n    In him there is no gratitude,\\n      To serve him is useless.\\n\\n    \"His friendship is not won\\n      By the clearest good deed.\\n    Better softly withdraw from him,\\n      Neither envying nor abusing.\"\\n\\nAnd having thus spoken the crane flew away.\\n\\n_And when the great Teacher, Gautama the Buddha, told this tale, he\\nused to add: \"Now at that time the lion was Devadatta the Traitor, but\\nthe white crane was I myself.\"_\\n\\n[Illustration: THE LION AND THE CRANE]\\n\\n\\n\\n\\nHow the Raja\\'s Son won the Princess Labam.'),\n",
       "  0.46969414322054626),\n",
       " (Document(id='5ecadc7f-5252-484b-ac0d-a67b59c63888', metadata={'source': '.\\\\data\\\\indianTales.txt', 'start_index': 125423}, page_content='\"Why should you, my children, thus trouble these poor subjects of\\nUjjaini? Reply to me, and henceforth desist from your ravages.\" Thus\\nsaid the Soothsayer\\'s son, and the following reply came from the king\\nof the tigers: \"Why should this base king imprison your honour,\\nbelieving the mere word of a goldsmith that your honour killed his\\nfather? All the hunters told him that his father was carried away by a\\ntiger. I was the messenger of death sent to deal the blow on his neck.\\nI did it, and gave the crown to your honour. The prince makes no\\ninquiry, and at once imprisons your honour. How can we expect justice\\nfrom such a stupid king as that? Unless he adopt a better standard of\\njustice we will go on with our destruction.\"'),\n",
       "  0.41340340131130815),\n",
       " (Document(id='17a10c17-cfc9-4465-b952-df6a4bf14549', metadata={'source': '.\\\\data\\\\indianTales.txt', 'start_index': 107486}, page_content='At last he succeeded; heaven threw in his way a ruined well. He\\nthought he could collect some water if he let down his chombu with the\\nstring that he always carried noosed to the neck of it. Accordingly he\\nlet it down; it went some way and stopped, and the following words\\ncame from the well: \"Oh, relieve me! I am the king of tigers, dying\\nhere of hunger. For the last three days I have had nothing. Fortune\\nhas sent you here. If you assist me now you will find a sure help in\\nme throughout your life. Do not think that I am a beast of prey. When\\nyou have become my deliverer I will never touch you. Pray, kindly lift\\nme up.\" Gangazara thought: \"Shall I take him out or not? If I take him\\nout he may make me the first morsel of his hungry mouth. No; that he\\nwill not do. For my father\\'s prophecy never came untrue. I must die on\\na sea coast, and not by a tiger.\" Thus thinking, he asked the\\ntiger-king to hold tight to the vessel, which he accordingly did, and'),\n",
       "  0.4030029850343125),\n",
       " (Document(id='b450363b-470a-477d-b78a-c123ba966d8a', metadata={'source': '.\\\\data\\\\indianTales.txt', 'start_index': 103944}, page_content='The tiger consented, and the Brahman began the whole story over again,\\nnot missing a single detail, and spinning as long a yarn as possible.\\n\\n\"Oh, my poor brain! oh, my poor brain!\" cried the jackal, wringing its\\npaws. \"Let me see! how did it all begin? You were in the cage, and the\\ntiger came walking by----\"\\n\\n\"Pooh!\" interrupted the tiger, \"what a fool you are! _I_ was in the\\ncage.\"\\n\\n\"Of course!\" cried the jackal, pretending to tremble with fright;\\n\"yes! I was in the cage--no I wasn\\'t--dear! dear! where are my wits?\\nLet me see--the tiger was in the Brahman, and the cage came walking\\nby----no, that\\'s not it, either! Well, don\\'t mind me, but begin your\\ndinner, for I shall never understand!\"\\n\\n\"Yes, you shall!\" returned the tiger, in a rage at the jackal\\'s\\nstupidity; \"I\\'ll _make_ you understand! Look here--I am the tiger----\"\\n\\n\"Yes, my lord!\"\\n\\n\"And that is the Brahman----\"\\n\\n\"Yes, my lord!\"\\n\\n\"And that is the cage----\"\\n\\n\"Yes, my lord!\"\\n\\n\"And I was in the cage--do you understand?\"'),\n",
       "  0.402459334391981),\n",
       " (Document(id='7005e6fa-c7ed-4cbb-b7ee-40ddcef3db58', metadata={'source': '.\\\\data\\\\indianTales.txt', 'start_index': 148120}, page_content='\"All right,\" said the dog, and at once ran off. He soon came back with\\na dead lamb, and gave it to the cat. The cat got inside the lamb and\\nlay down, telling the dog to go away a little distance and keep quiet.\\nNot long after this a nadhar, a bird whose look can break the bones\\nof a fish, came and hovered over the lamb, and eventually pounced down\\non it to carry it away. On this the cat came out and jumped on to the\\nbird, and threatened to kill it if it did not recover the lost ring.\\nThis was most readily promised by the nadhar, who immediately flew off\\nto the king of the fishes, and ordered it to make inquiries and to\\nrestore the ring. The king of the fishes did so, and the ring was\\nfound and carried back to the cat.\\n\\n\"Come along now; I have got the ring,\" said the cat to the dog.'),\n",
       "  0.3976411733324632),\n",
       " (Document(id='3a14b474-ff17-4fd7-af60-836b41ea248c', metadata={'source': '.\\\\data\\\\indianTales.txt', 'start_index': 361617}, page_content='a pit by a woodman, Vitalis promising him half his fortune, fifty\\ntalents. The lion brings his benefactor a leveret, the serpent \"gemmam\\npretiosam,\" probably \"the precious jewel in his head\" to which\\nShakespeare alludes (_As You Like It_, ii. I., _cf._ Benfey, _l. c._,\\np. 214, _n._), but Vitalis refuses to have anything to do with him,\\nand altogether repudiates the fifty talents. \"Hæc referebat Rex\\nRichardus munificus, ingratos redarguendo.\"'),\n",
       "  0.3973346350756863),\n",
       " (Document(id='760d9f39-847d-42ac-bb30-13ac7c4e3ed2', metadata={'source': '.\\\\data\\\\indianTales.txt', 'start_index': 30490}, page_content='When he heard of the demons the Raja\\'s son was very sad. \"What can I\\ndo?\" he said to himself. \"How can I fight with these two demons?\" Then\\nhe thought of his tiger: and the tiger and his wife came to him and\\nsaid, \"Why are you so sad?\" The Raja\\'s son answered, \"The king has\\nordered me to fight with his two demons and kill them. How can I do\\nthis?\" \"Do not be frightened,\" said the tiger. \"Be happy. I and my\\nwife will fight with them for you.\"\\n\\n[Illustration:]'),\n",
       "  0.394998258792001),\n",
       " (Document(id='6a5cf6c6-ac9d-44ef-8817-d8dc9d8dd57b', metadata={'source': '.\\\\data\\\\indianTales.txt', 'start_index': 14082}, page_content='[Illustration: THE LION AND THE CRANE]\\n\\n\\n\\n\\nHow the Raja\\'s Son won the Princess Labam.\\n\\n\\nIn a country there was a Raja who had an only son who every day went\\nout to hunt. One day the Rani, his mother, said to him, \"You can hunt\\nwherever you like on these three sides; but you must never go to the\\nfourth side.\" This she said because she knew if he went on the fourth\\nside he would hear of the beautiful Princess Labam, and that then he\\nwould leave his father and mother and seek for the princess.'),\n",
       "  0.39475280296358),\n",
       " (Document(id='dacd2e6e-f5bd-4fde-ad81-8ab5a96ef109', metadata={'source': '.\\\\data\\\\indianTales.txt', 'start_index': 35716}, page_content='So his Granny said he was a good boy, and put him into the corn-bin,\\nand there the greedy little Lambikin stayed for seven days, and ate,\\nand ate, and ate, until he could scarcely waddle, and his Granny said\\nhe was fat enough for anything, and must go home. But cunning little\\nLambikin said that would never do, for some animal would be sure to\\neat him on the way back, he was so plump and tender.\\n\\n\"I\\'ll tell you what you must do,\" said Master Lambikin, \"you must make\\na little drumikin out of the skin of my little brother who died, and\\nthen I can sit inside and trundle along nicely, for I\\'m as tight as a\\ndrum myself.\"\\n\\n[Illustration:]\\n\\nSo his Granny made a nice little drumikin out of his brother\\'s skin,\\nwith the wool inside, and Lambikin curled himself up snug and warm in\\nthe middle, and trundled away gaily. Soon he met with the Eagle, who\\ncalled out:\\n\\n    \"Drumikin! Drumikin!\\n    Have you seen Lambikin?\"\\n\\nAnd Mr. Lambikin, curled up in his soft warm nest, replied:'),\n",
       "  0.39432978800257007),\n",
       " (Document(id='7235736f-e857-401e-bd67-522213c3bba7', metadata={'source': '.\\\\data\\\\indianTales.txt', 'start_index': 34212}, page_content='The Lambikin\\n\\n\\nOnce upon a time there was a wee wee Lambikin, who frolicked about on\\nhis little tottery legs, and enjoyed himself amazingly.\\n\\nNow one day he set off to visit his Granny, and was jumping with joy\\nto think of all the good things he should get from her, when who\\nshould he meet but a Jackal, who looked at the tender young morsel and\\nsaid: \"Lambikin! Lambikin! I\\'ll EAT YOU!\"\\n\\n[Illustration:]\\n\\nBut Lambikin only gave a little frisk and said:\\n\\n    \"To Granny\\'s house I go,\\n    Where I shall fatter grow,\\n    Then you can eat me so.\"\\n\\nThe Jackal thought this reasonable, and let Lambikin pass.\\n\\nBy-and-by he met a Vulture, and the Vulture, looking hungrily at the\\ntender morsel before him, said: \"Lambikin! Lambikin! I\\'ll EAT YOU!\"\\n\\n[Illustration:]\\n\\nBut Lambikin only gave a little frisk, and said:\\n\\n    \"To Granny\\'s house I go,\\n    Where I shall fatter grow,\\n    Then you can eat me so.\"\\n\\nThe Vulture thought this reasonable, and let Lambikin pass.'),\n",
       "  0.39378076511717264)]"
      ]
     },
     "execution_count": 65,
     "metadata": {},
     "output_type": "execute_result"
    }
   ],
   "source": [
    "search_results"
   ]
  },
  {
   "cell_type": "code",
   "execution_count": 60,
   "id": "dcbff930",
   "metadata": {},
   "outputs": [
    {
     "name": "stdout",
     "output_type": "stream",
     "text": [
      "[Document(id='51cc9e86-2b66-4711-8185-1a49e54c2c04', metadata={'source': '.\\\\data\\\\indianTales.txt', 'start_index': 13209}, page_content='\"A service have we done thee\\n      To the best of our ability,\\n    King of the Beasts! Your Majesty!\\n      What return shall we get from thee?\"\\n\\nIn reply the Lion spoke the second verse:\\n\\n    \"As I feed on blood,\\n      And always hunt for prey,\\n    \\'Tis much that thou art still alive\\n      Having once been between my teeth.\"\\n\\nThen in reply the crane said the two other verses:\\n\\n    \"Ungrateful, doing no good,\\n      Not doing as he would be done by,\\n    In him there is no gratitude,\\n      To serve him is useless.\\n\\n    \"His friendship is not won\\n      By the clearest good deed.\\n    Better softly withdraw from him,\\n      Neither envying nor abusing.\"\\n\\nAnd having thus spoken the crane flew away.\\n\\n_And when the great Teacher, Gautama the Buddha, told this tale, he\\nused to add: \"Now at that time the lion was Devadatta the Traitor, but\\nthe white crane was I myself.\"_\\n\\n[Illustration: THE LION AND THE CRANE]\\n\\n\\n\\n\\nHow the Raja\\'s Son won the Princess Labam.'), Document(id='5ecadc7f-5252-484b-ac0d-a67b59c63888', metadata={'source': '.\\\\data\\\\indianTales.txt', 'start_index': 125423}, page_content='\"Why should you, my children, thus trouble these poor subjects of\\nUjjaini? Reply to me, and henceforth desist from your ravages.\" Thus\\nsaid the Soothsayer\\'s son, and the following reply came from the king\\nof the tigers: \"Why should this base king imprison your honour,\\nbelieving the mere word of a goldsmith that your honour killed his\\nfather? All the hunters told him that his father was carried away by a\\ntiger. I was the messenger of death sent to deal the blow on his neck.\\nI did it, and gave the crown to your honour. The prince makes no\\ninquiry, and at once imprisons your honour. How can we expect justice\\nfrom such a stupid king as that? Unless he adopt a better standard of\\njustice we will go on with our destruction.\"'), Document(id='fd27a68b-c204-4c3e-9ce2-812dbb39d5b3', metadata={'source': '.\\\\data\\\\indianTales.txt', 'start_index': 12770}, page_content='mouth struck one end of the bone with his beak. Whereupon the bone\\ndropped and fell out. As soon as he had caused the bone to fall, he\\ngot out of the lion\\'s mouth, striking the stick with his beak so that\\nit fell out, and then settled on a branch. The lion gets well, and\\none day was eating a buffalo he had killed. The crane thinking \"I will\\nsound him,\" settled on a branch just over him, and in conversation\\nspoke this first verse:'), Document(id='3a14b474-ff17-4fd7-af60-836b41ea248c', metadata={'source': '.\\\\data\\\\indianTales.txt', 'start_index': 361617}, page_content='a pit by a woodman, Vitalis promising him half his fortune, fifty\\ntalents. The lion brings his benefactor a leveret, the serpent \"gemmam\\npretiosam,\" probably \"the precious jewel in his head\" to which\\nShakespeare alludes (_As You Like It_, ii. I., _cf._ Benfey, _l. c._,\\np. 214, _n._), but Vitalis refuses to have anything to do with him,\\nand altogether repudiates the fifty talents. \"Hæc referebat Rex\\nRichardus munificus, ingratos redarguendo.\"')]\n"
     ]
    }
   ],
   "source": [
    "# embedding = embeddings.embed_query(\"Was Lion good or bad?\")\n",
    "\n",
    "# results = vector_store.similarity_search_by_vector(embedding)\n",
    "# print(results)"
   ]
  },
  {
   "cell_type": "markdown",
   "id": "ac64cfdb",
   "metadata": {},
   "source": [
    "## What is RAG? \n",
    "\n",
    "- Retrieve using semantic search and dump the similar chunks in the `context` of the prompt. \n",
    "- LLM sees the question and retrieved docs in its prompt and generates tokens accordingly."
   ]
  },
  {
   "cell_type": "code",
   "execution_count": 79,
   "id": "06cd0e11",
   "metadata": {},
   "outputs": [],
   "source": [
    "prompt_template = \"\"\"You are an assistant for question-answering tasks. Use the following pieces of retrieved context to answer the question. If you don't know the answer, just say that you don't know. Use three sentences maximum and keep the answer concise.\n",
    "Question: {question} \n",
    "Context: {context} \n",
    "Answer:\"\"\""
   ]
  },
  {
   "cell_type": "code",
   "execution_count": 73,
   "id": "6b55a20b",
   "metadata": {},
   "outputs": [
    {
     "data": {
      "text/plain": [
       "'\"A service have we done thee\\n      To the best of our ability,\\n    King of the Beasts! Your Majesty!\\n      What return shall we get from thee?\"\\n\\nIn reply the Lion spoke the second verse:\\n\\n    \"As I feed on blood,\\n      And always hunt for prey,\\n    \\'Tis much that thou art still alive\\n      Having once been between my teeth.\"\\n\\nThen in reply the crane said the two other verses:\\n\\n    \"Ungrateful, doing no good,\\n      Not doing as he would be done by,\\n    In him there is no gratitude,\\n      To serve him is useless.\\n\\n    \"His friendship is not won\\n      By the clearest good deed.\\n    Better softly withdraw from him,\\n      Neither envying nor abusing.\"\\n\\nAnd having thus spoken the crane flew away.\\n\\n_And when the great Teacher, Gautama the Buddha, told this tale, he\\nused to add: \"Now at that time the lion was Devadatta the Traitor, but\\nthe white crane was I myself.\"_\\n\\n[Illustration: THE LION AND THE CRANE]\\n\\n\\n\\n\\nHow the Raja\\'s Son won the Princess Labam.\\n==================================================\\n\\n\\n\"Why should you, my children, thus trouble these poor subjects of\\nUjjaini? Reply to me, and henceforth desist from your ravages.\" Thus\\nsaid the Soothsayer\\'s son, and the following reply came from the king\\nof the tigers: \"Why should this base king imprison your honour,\\nbelieving the mere word of a goldsmith that your honour killed his\\nfather? All the hunters told him that his father was carried away by a\\ntiger. I was the messenger of death sent to deal the blow on his neck.\\nI did it, and gave the crown to your honour. The prince makes no\\ninquiry, and at once imprisons your honour. How can we expect justice\\nfrom such a stupid king as that? Unless he adopt a better standard of\\njustice we will go on with our destruction.\"\\n==================================================\\n\\n\\nAt last he succeeded; heaven threw in his way a ruined well. He\\nthought he could collect some water if he let down his chombu with the\\nstring that he always carried noosed to the neck of it. Accordingly he\\nlet it down; it went some way and stopped, and the following words\\ncame from the well: \"Oh, relieve me! I am the king of tigers, dying\\nhere of hunger. For the last three days I have had nothing. Fortune\\nhas sent you here. If you assist me now you will find a sure help in\\nme throughout your life. Do not think that I am a beast of prey. When\\nyou have become my deliverer I will never touch you. Pray, kindly lift\\nme up.\" Gangazara thought: \"Shall I take him out or not? If I take him\\nout he may make me the first morsel of his hungry mouth. No; that he\\nwill not do. For my father\\'s prophecy never came untrue. I must die on\\na sea coast, and not by a tiger.\" Thus thinking, he asked the\\ntiger-king to hold tight to the vessel, which he accordingly did, and\\n==================================================\\n\\n\\nThe tiger consented, and the Brahman began the whole story over again,\\nnot missing a single detail, and spinning as long a yarn as possible.\\n\\n\"Oh, my poor brain! oh, my poor brain!\" cried the jackal, wringing its\\npaws. \"Let me see! how did it all begin? You were in the cage, and the\\ntiger came walking by----\"\\n\\n\"Pooh!\" interrupted the tiger, \"what a fool you are! _I_ was in the\\ncage.\"\\n\\n\"Of course!\" cried the jackal, pretending to tremble with fright;\\n\"yes! I was in the cage--no I wasn\\'t--dear! dear! where are my wits?\\nLet me see--the tiger was in the Brahman, and the cage came walking\\nby----no, that\\'s not it, either! Well, don\\'t mind me, but begin your\\ndinner, for I shall never understand!\"\\n\\n\"Yes, you shall!\" returned the tiger, in a rage at the jackal\\'s\\nstupidity; \"I\\'ll _make_ you understand! Look here--I am the tiger----\"\\n\\n\"Yes, my lord!\"\\n\\n\"And that is the Brahman----\"\\n\\n\"Yes, my lord!\"\\n\\n\"And that is the cage----\"\\n\\n\"Yes, my lord!\"\\n\\n\"And I was in the cage--do you understand?\"\\n==================================================\\n\\n\\n\"All right,\" said the dog, and at once ran off. He soon came back with\\na dead lamb, and gave it to the cat. The cat got inside the lamb and\\nlay down, telling the dog to go away a little distance and keep quiet.\\nNot long after this a nadhar, a bird whose look can break the bones\\nof a fish, came and hovered over the lamb, and eventually pounced down\\non it to carry it away. On this the cat came out and jumped on to the\\nbird, and threatened to kill it if it did not recover the lost ring.\\nThis was most readily promised by the nadhar, who immediately flew off\\nto the king of the fishes, and ordered it to make inquiries and to\\nrestore the ring. The king of the fishes did so, and the ring was\\nfound and carried back to the cat.\\n\\n\"Come along now; I have got the ring,\" said the cat to the dog.\\n==================================================\\n\\n\\na pit by a woodman, Vitalis promising him half his fortune, fifty\\ntalents. The lion brings his benefactor a leveret, the serpent \"gemmam\\npretiosam,\" probably \"the precious jewel in his head\" to which\\nShakespeare alludes (_As You Like It_, ii. I., _cf._ Benfey, _l. c._,\\np. 214, _n._), but Vitalis refuses to have anything to do with him,\\nand altogether repudiates the fifty talents. \"Hæc referebat Rex\\nRichardus munificus, ingratos redarguendo.\"\\n==================================================\\n\\n\\nWhen he heard of the demons the Raja\\'s son was very sad. \"What can I\\ndo?\" he said to himself. \"How can I fight with these two demons?\" Then\\nhe thought of his tiger: and the tiger and his wife came to him and\\nsaid, \"Why are you so sad?\" The Raja\\'s son answered, \"The king has\\nordered me to fight with his two demons and kill them. How can I do\\nthis?\" \"Do not be frightened,\" said the tiger. \"Be happy. I and my\\nwife will fight with them for you.\"\\n\\n[Illustration:]\\n==================================================\\n\\n\\n[Illustration: THE LION AND THE CRANE]\\n\\n\\n\\n\\nHow the Raja\\'s Son won the Princess Labam.\\n\\n\\nIn a country there was a Raja who had an only son who every day went\\nout to hunt. One day the Rani, his mother, said to him, \"You can hunt\\nwherever you like on these three sides; but you must never go to the\\nfourth side.\" This she said because she knew if he went on the fourth\\nside he would hear of the beautiful Princess Labam, and that then he\\nwould leave his father and mother and seek for the princess.\\n==================================================\\n\\n\\nSo his Granny said he was a good boy, and put him into the corn-bin,\\nand there the greedy little Lambikin stayed for seven days, and ate,\\nand ate, and ate, until he could scarcely waddle, and his Granny said\\nhe was fat enough for anything, and must go home. But cunning little\\nLambikin said that would never do, for some animal would be sure to\\neat him on the way back, he was so plump and tender.\\n\\n\"I\\'ll tell you what you must do,\" said Master Lambikin, \"you must make\\na little drumikin out of the skin of my little brother who died, and\\nthen I can sit inside and trundle along nicely, for I\\'m as tight as a\\ndrum myself.\"\\n\\n[Illustration:]\\n\\nSo his Granny made a nice little drumikin out of his brother\\'s skin,\\nwith the wool inside, and Lambikin curled himself up snug and warm in\\nthe middle, and trundled away gaily. Soon he met with the Eagle, who\\ncalled out:\\n\\n    \"Drumikin! Drumikin!\\n    Have you seen Lambikin?\"\\n\\nAnd Mr. Lambikin, curled up in his soft warm nest, replied:\\n==================================================\\n\\n\\nThe Lambikin\\n\\n\\nOnce upon a time there was a wee wee Lambikin, who frolicked about on\\nhis little tottery legs, and enjoyed himself amazingly.\\n\\nNow one day he set off to visit his Granny, and was jumping with joy\\nto think of all the good things he should get from her, when who\\nshould he meet but a Jackal, who looked at the tender young morsel and\\nsaid: \"Lambikin! Lambikin! I\\'ll EAT YOU!\"\\n\\n[Illustration:]\\n\\nBut Lambikin only gave a little frisk and said:\\n\\n    \"To Granny\\'s house I go,\\n    Where I shall fatter grow,\\n    Then you can eat me so.\"\\n\\nThe Jackal thought this reasonable, and let Lambikin pass.\\n\\nBy-and-by he met a Vulture, and the Vulture, looking hungrily at the\\ntender morsel before him, said: \"Lambikin! Lambikin! I\\'ll EAT YOU!\"\\n\\n[Illustration:]\\n\\nBut Lambikin only gave a little frisk, and said:\\n\\n    \"To Granny\\'s house I go,\\n    Where I shall fatter grow,\\n    Then you can eat me so.\"\\n\\nThe Vulture thought this reasonable, and let Lambikin pass.\\n==================================================\\n'"
      ]
     },
     "execution_count": 73,
     "metadata": {},
     "output_type": "execute_result"
    }
   ],
   "source": [
    "doc_content = \"\\n\\n\".join(doc.page_content+\"\\n\"+\"=\"*50+\"\\n\" for (doc,score) in search_results)\n",
    "doc_content\n"
   ]
  },
  {
   "cell_type": "code",
   "execution_count": 74,
   "id": "99a10e5d",
   "metadata": {},
   "outputs": [
    {
     "name": "stdout",
     "output_type": "stream",
     "text": [
      "\"A service have we done thee\n",
      "      To the best of our ability,\n",
      "    King of the Beasts! Your Majesty!\n",
      "      What return shall we get from thee?\"\n",
      "\n",
      "In reply the Lion spoke the second verse:\n",
      "\n",
      "    \"As I feed on blood,\n",
      "      And always hunt for prey,\n",
      "    'Tis much that thou art still alive\n",
      "      Having once been between my teeth.\"\n",
      "\n",
      "Then in reply the crane said the two other verses:\n",
      "\n",
      "    \"Ungrateful, doing no good,\n",
      "      Not doing as he would be done by,\n",
      "    In him there is no gratitude,\n",
      "      To serve him is useless.\n",
      "\n",
      "    \"His friendship is not won\n",
      "      By the clearest good deed.\n",
      "    Better softly withdraw from him,\n",
      "      Neither envying nor abusing.\"\n",
      "\n",
      "And having thus spoken the crane flew away.\n",
      "\n",
      "_And when the great Teacher, Gautama the Buddha, told this tale, he\n",
      "used to add: \"Now at that time the lion was Devadatta the Traitor, but\n",
      "the white crane was I myself.\"_\n",
      "\n",
      "[Illustration: THE LION AND THE CRANE]\n",
      "\n",
      "\n",
      "\n",
      "\n",
      "How the Raja's Son won the Princess Labam.\n",
      "==================================================\n",
      "\n",
      "\n",
      "\"Why should you, my children, thus trouble these poor subjects of\n",
      "Ujjaini? Reply to me, and henceforth desist from your ravages.\" Thus\n",
      "said the Soothsayer's son, and the following reply came from the king\n",
      "of the tigers: \"Why should this base king imprison your honour,\n",
      "believing the mere word of a goldsmith that your honour killed his\n",
      "father? All the hunters told him that his father was carried away by a\n",
      "tiger. I was the messenger of death sent to deal the blow on his neck.\n",
      "I did it, and gave the crown to your honour. The prince makes no\n",
      "inquiry, and at once imprisons your honour. How can we expect justice\n",
      "from such a stupid king as that? Unless he adopt a better standard of\n",
      "justice we will go on with our destruction.\"\n",
      "==================================================\n",
      "\n",
      "\n",
      "At last he succeeded; heaven threw in his way a ruined well. He\n",
      "thought he could collect some water if he let down his chombu with the\n",
      "string that he always carried noosed to the neck of it. Accordingly he\n",
      "let it down; it went some way and stopped, and the following words\n",
      "came from the well: \"Oh, relieve me! I am the king of tigers, dying\n",
      "here of hunger. For the last three days I have had nothing. Fortune\n",
      "has sent you here. If you assist me now you will find a sure help in\n",
      "me throughout your life. Do not think that I am a beast of prey. When\n",
      "you have become my deliverer I will never touch you. Pray, kindly lift\n",
      "me up.\" Gangazara thought: \"Shall I take him out or not? If I take him\n",
      "out he may make me the first morsel of his hungry mouth. No; that he\n",
      "will not do. For my father's prophecy never came untrue. I must die on\n",
      "a sea coast, and not by a tiger.\" Thus thinking, he asked the\n",
      "tiger-king to hold tight to the vessel, which he accordingly did, and\n",
      "==================================================\n",
      "\n",
      "\n",
      "The tiger consented, and the Brahman began the whole story over again,\n",
      "not missing a single detail, and spinning as long a yarn as possible.\n",
      "\n",
      "\"Oh, my poor brain! oh, my poor brain!\" cried the jackal, wringing its\n",
      "paws. \"Let me see! how did it all begin? You were in the cage, and the\n",
      "tiger came walking by----\"\n",
      "\n",
      "\"Pooh!\" interrupted the tiger, \"what a fool you are! _I_ was in the\n",
      "cage.\"\n",
      "\n",
      "\"Of course!\" cried the jackal, pretending to tremble with fright;\n",
      "\"yes! I was in the cage--no I wasn't--dear! dear! where are my wits?\n",
      "Let me see--the tiger was in the Brahman, and the cage came walking\n",
      "by----no, that's not it, either! Well, don't mind me, but begin your\n",
      "dinner, for I shall never understand!\"\n",
      "\n",
      "\"Yes, you shall!\" returned the tiger, in a rage at the jackal's\n",
      "stupidity; \"I'll _make_ you understand! Look here--I am the tiger----\"\n",
      "\n",
      "\"Yes, my lord!\"\n",
      "\n",
      "\"And that is the Brahman----\"\n",
      "\n",
      "\"Yes, my lord!\"\n",
      "\n",
      "\"And that is the cage----\"\n",
      "\n",
      "\"Yes, my lord!\"\n",
      "\n",
      "\"And I was in the cage--do you understand?\"\n",
      "==================================================\n",
      "\n",
      "\n",
      "\"All right,\" said the dog, and at once ran off. He soon came back with\n",
      "a dead lamb, and gave it to the cat. The cat got inside the lamb and\n",
      "lay down, telling the dog to go away a little distance and keep quiet.\n",
      "Not long after this a nadhar, a bird whose look can break the bones\n",
      "of a fish, came and hovered over the lamb, and eventually pounced down\n",
      "on it to carry it away. On this the cat came out and jumped on to the\n",
      "bird, and threatened to kill it if it did not recover the lost ring.\n",
      "This was most readily promised by the nadhar, who immediately flew off\n",
      "to the king of the fishes, and ordered it to make inquiries and to\n",
      "restore the ring. The king of the fishes did so, and the ring was\n",
      "found and carried back to the cat.\n",
      "\n",
      "\"Come along now; I have got the ring,\" said the cat to the dog.\n",
      "==================================================\n",
      "\n",
      "\n",
      "a pit by a woodman, Vitalis promising him half his fortune, fifty\n",
      "talents. The lion brings his benefactor a leveret, the serpent \"gemmam\n",
      "pretiosam,\" probably \"the precious jewel in his head\" to which\n",
      "Shakespeare alludes (_As You Like It_, ii. I., _cf._ Benfey, _l. c._,\n",
      "p. 214, _n._), but Vitalis refuses to have anything to do with him,\n",
      "and altogether repudiates the fifty talents. \"Hæc referebat Rex\n",
      "Richardus munificus, ingratos redarguendo.\"\n",
      "==================================================\n",
      "\n",
      "\n",
      "When he heard of the demons the Raja's son was very sad. \"What can I\n",
      "do?\" he said to himself. \"How can I fight with these two demons?\" Then\n",
      "he thought of his tiger: and the tiger and his wife came to him and\n",
      "said, \"Why are you so sad?\" The Raja's son answered, \"The king has\n",
      "ordered me to fight with his two demons and kill them. How can I do\n",
      "this?\" \"Do not be frightened,\" said the tiger. \"Be happy. I and my\n",
      "wife will fight with them for you.\"\n",
      "\n",
      "[Illustration:]\n",
      "==================================================\n",
      "\n",
      "\n",
      "[Illustration: THE LION AND THE CRANE]\n",
      "\n",
      "\n",
      "\n",
      "\n",
      "How the Raja's Son won the Princess Labam.\n",
      "\n",
      "\n",
      "In a country there was a Raja who had an only son who every day went\n",
      "out to hunt. One day the Rani, his mother, said to him, \"You can hunt\n",
      "wherever you like on these three sides; but you must never go to the\n",
      "fourth side.\" This she said because she knew if he went on the fourth\n",
      "side he would hear of the beautiful Princess Labam, and that then he\n",
      "would leave his father and mother and seek for the princess.\n",
      "==================================================\n",
      "\n",
      "\n",
      "So his Granny said he was a good boy, and put him into the corn-bin,\n",
      "and there the greedy little Lambikin stayed for seven days, and ate,\n",
      "and ate, and ate, until he could scarcely waddle, and his Granny said\n",
      "he was fat enough for anything, and must go home. But cunning little\n",
      "Lambikin said that would never do, for some animal would be sure to\n",
      "eat him on the way back, he was so plump and tender.\n",
      "\n",
      "\"I'll tell you what you must do,\" said Master Lambikin, \"you must make\n",
      "a little drumikin out of the skin of my little brother who died, and\n",
      "then I can sit inside and trundle along nicely, for I'm as tight as a\n",
      "drum myself.\"\n",
      "\n",
      "[Illustration:]\n",
      "\n",
      "So his Granny made a nice little drumikin out of his brother's skin,\n",
      "with the wool inside, and Lambikin curled himself up snug and warm in\n",
      "the middle, and trundled away gaily. Soon he met with the Eagle, who\n",
      "called out:\n",
      "\n",
      "    \"Drumikin! Drumikin!\n",
      "    Have you seen Lambikin?\"\n",
      "\n",
      "And Mr. Lambikin, curled up in his soft warm nest, replied:\n",
      "==================================================\n",
      "\n",
      "\n",
      "The Lambikin\n",
      "\n",
      "\n",
      "Once upon a time there was a wee wee Lambikin, who frolicked about on\n",
      "his little tottery legs, and enjoyed himself amazingly.\n",
      "\n",
      "Now one day he set off to visit his Granny, and was jumping with joy\n",
      "to think of all the good things he should get from her, when who\n",
      "should he meet but a Jackal, who looked at the tender young morsel and\n",
      "said: \"Lambikin! Lambikin! I'll EAT YOU!\"\n",
      "\n",
      "[Illustration:]\n",
      "\n",
      "But Lambikin only gave a little frisk and said:\n",
      "\n",
      "    \"To Granny's house I go,\n",
      "    Where I shall fatter grow,\n",
      "    Then you can eat me so.\"\n",
      "\n",
      "The Jackal thought this reasonable, and let Lambikin pass.\n",
      "\n",
      "By-and-by he met a Vulture, and the Vulture, looking hungrily at the\n",
      "tender morsel before him, said: \"Lambikin! Lambikin! I'll EAT YOU!\"\n",
      "\n",
      "[Illustration:]\n",
      "\n",
      "But Lambikin only gave a little frisk, and said:\n",
      "\n",
      "    \"To Granny's house I go,\n",
      "    Where I shall fatter grow,\n",
      "    Then you can eat me so.\"\n",
      "\n",
      "The Vulture thought this reasonable, and let Lambikin pass.\n",
      "==================================================\n",
      "\n"
     ]
    }
   ],
   "source": [
    "print(doc_content)"
   ]
  },
  {
   "cell_type": "code",
   "execution_count": 80,
   "id": "26ef7ff1",
   "metadata": {},
   "outputs": [],
   "source": [
    "# make the LLM read see the prompt, and analyse the retrieved document, and generate response\n",
    "\n",
    "from langchain.chat_models import init_chat_model\n",
    "llm = init_chat_model(\"gpt-4o-mini\", model_provider=\"openai\")\n",
    "\n",
    "response = llm.invoke(prompt_template.format(\n",
    "    context=doc_content,\n",
    "    question=\"What is the role of Lion in the story?\"))"
   ]
  },
  {
   "cell_type": "code",
   "execution_count": 82,
   "id": "f4914e51",
   "metadata": {},
   "outputs": [
    {
     "name": "stdout",
     "output_type": "stream",
     "text": [
      "In the story, the Lion represents ingratitude and betrayal, as exemplified by the character of Devadatta the Traitor. He shows no gratitude towards those who serve him, implying that serving him is futile. The Crane's departure signifies a wise withdrawal from a toxic relationship with someone ungrateful.\n"
     ]
    }
   ],
   "source": [
    "print(response.content)"
   ]
  },
  {
   "cell_type": "markdown",
   "id": "6f843f8a",
   "metadata": {},
   "source": [
    "## RAG in one-shot"
   ]
  },
  {
   "cell_type": "code",
   "execution_count": 83,
   "id": "0b39bc7a",
   "metadata": {},
   "outputs": [],
   "source": [
    "# load text using RELEVANT loader\n",
    "from langchain_community.document_loaders import TextLoader\n",
    "loader = TextLoader(\".\\data\\indianTales.txt\")\n",
    "docs = loader.load()\n",
    "\n",
    "# Split document into small chunks\n",
    "from langchain_text_splitters import RecursiveCharacterTextSplitter\n",
    "\n",
    "text_splitter = RecursiveCharacterTextSplitter(\n",
    "    chunk_size=1000,  # chunk size (characters)\n",
    "    chunk_overlap=200,  # chunk overlap (characters)\n",
    "    add_start_index=True,  # track index in original document\n",
    ")\n",
    "all_splits = text_splitter.split_documents(docs)\n",
    "\n",
    "# get embedding models, create vectorstore, store chunks in vectorstore\n",
    "\n",
    "from langchain_openai import OpenAIEmbeddings\n",
    "embeddings = OpenAIEmbeddings(model=\"text-embedding-3-large\")\n",
    "\n",
    "from langchain_core.vectorstores import InMemoryVectorStore\n",
    "vector_store = InMemoryVectorStore(embeddings)\n",
    "\n",
    "# adding documents in vectorstores\n",
    "document_ids = vector_store.add_documents(documents=all_splits)"
   ]
  },
  {
   "cell_type": "code",
   "execution_count": 85,
   "id": "8e6ef1dd",
   "metadata": {},
   "outputs": [
    {
     "name": "stdout",
     "output_type": "stream",
     "text": [
      "In the story, the Lion represents a powerful and ungrateful figure, likened to Devadatta the Traitor by the Buddha. The Lion's lack of gratitude highlights the dangers of serving those who do not appreciate help. Ultimately, the Crane, who symbolizes wisdom and moral integrity, advises against being loyal to such a selfish character.\n"
     ]
    }
   ],
   "source": [
    "question = \"What is the role of Lion in the story?\"\n",
    "\n",
    "# extract chunks which matches with your query\n",
    "search_results = vector_store.similarity_search_with_score(question, k=10)\n",
    "\n",
    "# conbine text from differrent chunks into one long string\n",
    "doc_content = \"\\n\\n\".join(doc.page_content+\"\\n\"+\"=\"*50+\"\\n\" for (doc,score) in search_results)\n",
    "\n",
    "# RAG promt template\n",
    "prompt_template = \"\"\"You are an assistant for question-answering tasks. Use the following pieces of retrieved context to answer the question. If you don't know the answer, just say that you don't know. Use three sentences maximum and keep the answer concise.\n",
    "Question: {question} \n",
    "Context: {context} \n",
    "Answer:\"\"\"\n",
    "\n",
    "# make the LLM read see the prompt, and analyse the retrieved document, and generate response\n",
    "\n",
    "from langchain.chat_models import init_chat_model\n",
    "llm = init_chat_model(\"gpt-4o-mini\", model_provider=\"openai\")\n",
    "\n",
    "response = llm.invoke(prompt_template.format(\n",
    "    context=doc_content,\n",
    "    question=question))\n",
    "    \n",
    "print(response.content)"
   ]
  },
  {
   "cell_type": "code",
   "execution_count": null,
   "id": "f2485f01",
   "metadata": {},
   "outputs": [],
   "source": []
  }
 ],
 "metadata": {
  "kernelspec": {
   "display_name": "langgraph-academy",
   "language": "python",
   "name": "python3"
  },
  "language_info": {
   "codemirror_mode": {
    "name": "ipython",
    "version": 3
   },
   "file_extension": ".py",
   "mimetype": "text/x-python",
   "name": "python",
   "nbconvert_exporter": "python",
   "pygments_lexer": "ipython3",
   "version": "3.11.11"
  }
 },
 "nbformat": 4,
 "nbformat_minor": 5
}
