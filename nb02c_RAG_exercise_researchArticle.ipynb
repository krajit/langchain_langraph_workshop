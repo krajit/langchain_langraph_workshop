{
 "cells": [
  {
   "cell_type": "markdown",
   "id": "45867d0a",
   "metadata": {},
   "source": [
    "## RAG with discussion on Research Articles"
   ]
  },
  {
   "cell_type": "code",
   "execution_count": 1,
   "id": "9fa7ba87",
   "metadata": {},
   "outputs": [
    {
     "data": {
      "text/plain": [
       "True"
      ]
     },
     "execution_count": 1,
     "metadata": {},
     "output_type": "execute_result"
    }
   ],
   "source": [
    "import os\n",
    "from dotenv import load_dotenv\n",
    "load_dotenv()"
   ]
  },
  {
   "cell_type": "code",
   "execution_count": 3,
   "id": "d2fe9474",
   "metadata": {},
   "outputs": [
    {
     "name": "stderr",
     "output_type": "stream",
     "text": [
      "c:\\Users\\sneh.lata\\AppData\\Local\\anaconda3\\envs\\langgraph-academy\\Lib\\site-packages\\tqdm\\auto.py:21: TqdmWarning: IProgress not found. Please update jupyter and ipywidgets. See https://ipywidgets.readthedocs.io/en/stable/user_install.html\n",
      "  from .autonotebook import tqdm as notebook_tqdm\n"
     ]
    }
   ],
   "source": [
    "from langchain_community.document_loaders import UnstructuredPDFLoader\n",
    "\n",
    "file_path = \".\\data\\snehPaper.pdf\"\n",
    "loader = UnstructuredPDFLoader(file_path)\n",
    "docs = loader.load()"
   ]
  },
  {
   "cell_type": "code",
   "execution_count": 10,
   "id": "35ebfe97",
   "metadata": {},
   "outputs": [],
   "source": [
    "# Split document into small chunks\n",
    "from langchain_text_splitters import RecursiveCharacterTextSplitter\n",
    "\n",
    "text_splitter = RecursiveCharacterTextSplitter(\n",
    "    chunk_size=1000,  # chunk size (characters)\n",
    "    chunk_overlap=200,  # chunk overlap (characters)\n",
    "    add_start_index=True,  # track index in original document\n",
    ")\n",
    "all_splits = text_splitter.split_documents(docs)\n",
    "\n",
    "# get embedding models, create vectorstore, store chunks in vectorstore\n",
    "\n",
    "from langchain_openai import OpenAIEmbeddings\n",
    "embeddings = OpenAIEmbeddings(model=\"text-embedding-3-large\")\n",
    "\n",
    "from langchain_core.vectorstores import InMemoryVectorStore\n",
    "vector_store = InMemoryVectorStore(embeddings)\n",
    "\n",
    "# adding documents in vectorstores\n",
    "document_ids = vector_store.add_documents(documents=all_splits)"
   ]
  },
  {
   "cell_type": "code",
   "execution_count": 11,
   "id": "d70fbd7a",
   "metadata": {},
   "outputs": [
    {
     "data": {
      "text/plain": [
       "[Document(metadata={'source': '.\\\\data\\\\snehPaper.pdf', 'start_index': 0}, page_content='5 2 0 2\\n\\nr a\\n\\nM 8\\n\\n]\\n\\nA F . h t a m\\n\\n[\\n\\n3 v 1 3 1 4 0 . 0 1 4 2 : v i X r a\\n\\nA SEVERAL VARIABLES KOWALSKI-S LODKOWSKI THEOREM FOR TOPOLOGICAL SPACES\\n\\nJAIKISHAN, SNEH LATA, AND DINESH SINGH'),\n",
       " Document(metadata={'source': '.\\\\data\\\\snehPaper.pdf', 'start_index': 190}, page_content='Abstract. In this paper, we provide a version of the classical result of Kowalski and S lodkowski that generalizes the famous Gleason-Kahane-˙Zelazko (GKZ) theo- rem by characterizing multiplicative linear functionals amongst all complex-valued functions on a Banach algebra. We ﬁrst characterize maps on A-valued polynomials of several variables that satisfy some conditions, motivated by the result of Kowalski and S lodkowski, as a composition of a multiplicative linear functional on A and a point evaluation on the polynomials, where A is a complex Banach algebra with identity. We then apply it to prove an analogue of Kowalski and S lodkowski’s result on topological spaces of vector-valued functions of several variables. These results extend our previous work from [3]; however, the techniques used diﬀer from those used in [3]. Furthermore, we characterize weighted composition operators between Hardy spaces over the polydisc amongst the continuous functions between them. Additionally,'),\n",
       " Document(metadata={'source': '.\\\\data\\\\snehPaper.pdf', 'start_index': 993}, page_content='used diﬀer from those used in [3]. Furthermore, we characterize weighted composition operators between Hardy spaces over the polydisc amongst the continuous functions between them. Additionally, we register a partial but noteworthy success toward a multiplicative GKZ theorem for Hardy spaces.'),\n",
       " Document(metadata={'source': '.\\\\data\\\\snehPaper.pdf', 'start_index': 1288}, page_content='1. Introduction\\n\\nLet A denote a complex Banach algebra with identity and G(A) denote the set of invertible elements in A. A non-zero linear functional F deﬁned on A is called multiplicative or a character if F(xy) = F(x)F(y) for all x,y ∈ A. It is easy to see that a multiplicative linear functional on A can never vanish on G(A). Interestingly, the converse is also true, and it is the well-known Gleason-Kahane-˙Zelazko (GKZ) theorem, which characterizes all multiplicative linear functionals on a complex unital Banach algebra.\\n\\nTheorem 1.1 (GKZ theorem). Let F be a linear functional on a complex unital Banach algebra A with identity e such that F(e) = 1 and F(x) 6= 0 for every x ∈ G(A), then F(xy) = F(x)F(y) for all x,y ∈ A.'),\n",
       " Document(metadata={'source': '.\\\\data\\\\snehPaper.pdf', 'start_index': 2022}, page_content='The GKZ theorem was ﬁrst proved by Gleason [2] and, independently, by Kahane and ˙Zelazko [4] for commutative Banach algebras. Afterward, ˙Zelazko [16] extended it to the non-commutative case. An elementary proof of Theorem 1.1, due to Roitman and Sternfeld, can be found in [10].\\n\\nAround a decade later, Kowalski and S lodkowski gave an interesting generalization of the GKZ theorem in [6]. They proved the following characterization of multi- plicative linear functionals amongst all complex-valued functions on complex unital Banach algebras without using the linearity condition.\\n\\n2020 Mathematics Subject Classiﬁcation. Primary 32A65; Secondary 32A35, 46E40, 47B38. Key words and phrases. Gleason-Kahane-˙Zelazko theorem, Kowalski and S lodkowski theorem,\\n\\nmultiplicative linear functional, Hardy spaces, multiplicative Gleason-Kahane-˙Zelazko theorem.\\n\\n1\\n\\n2\\n\\nJAIKISHAN, SNEH LATA, AND DINESH SINGH'),\n",
       " Document(metadata={'source': '.\\\\data\\\\snehPaper.pdf', 'start_index': 2784}, page_content='multiplicative linear functional, Hardy spaces, multiplicative Gleason-Kahane-˙Zelazko theorem.\\n\\n1\\n\\n2\\n\\nJAIKISHAN, SNEH LATA, AND DINESH SINGH\\n\\nTheorem 1.2 (KS theorem). Let A be a complex unital Banach algebra with identity e and let F : A → C be a map satisfying F(0) = 0 and\\n\\nF(x) − F(y)\\n\\ne − (x − y) /∈ G(A) (cid:1)\\n\\n(cid:0) for all x,y ∈ A. Then F is multiplicative and linear.\\n\\nNote that for y = 0, Condition (1) yields F(x)e−x /∈ G(A) for every x in A, which for a linear F, is equivalent to F being non-zero on invertible elements in A. Thus, the KS theorem generalizes the GKZ theorem. Interestingly, the above characterizations have analogues for function spaces that are not necessarily algebras.'),\n",
       " Document(metadata={'source': '.\\\\data\\\\snehPaper.pdf', 'start_index': 3492}, page_content='To lend perspective to the discussion at hand, which has set the tone for our current work, we shall ﬁrst discuss analogues of the GKZ theorem as proved in [3, 8, 11]. Unless speciﬁed otherwise, we consider all vector spaces over the ﬁeld of complex numbers and assume all the functions to be complex-valued.\\n\\nRecently, Mashreghi and Ransford [8] extended the GKZ theorem to certain Banach spaces of analytic functions on the open unit disc D. The following is their version for the Hardy spaces. Theorem 1.3. [8, Theorem 2.1] For 0 < p ≤ ∞, let F : Hp(D) → C be a linear functional such that F(1) = 1 and F(g) 6= 0 for all outer functions g in Hp(D). Then there exists w ∈ D such that\\n\\nF(f) = f(w) for all f ∈ Hp(D).'),\n",
       " Document(metadata={'source': '.\\\\data\\\\snehPaper.pdf', 'start_index': 4179}, page_content='F(f) = f(w) for all f ∈ Hp(D).\\n\\nThis is a genuine counterpart of the GKZ theorem for Hardy spaces, as any function f in the Hardy space with an g in the same space such that fg = 1 must be outer. Moreover, a point evaluation is multiplicative whenever the multiplication is well- deﬁned. In the same paper, they also gave the following analogous result for a much broader class of Banach spaces.\\n\\nLet Hol(D) denote the set of all holomorphic functions on the open unit disc D,\\n\\nand let X ⊆ Hol(D) be a Banach space with the following properties:\\n\\n(X1) for each w ∈ D, the map f 7→ f(w) is continuous; (X2) X contains all polynomials, and they are dense in X; (X3) multiplication with the function z is well-deﬁned on X.'),\n",
       " Document(metadata={'source': '.\\\\data\\\\snehPaper.pdf', 'start_index': 4726}, page_content='(X1) for each w ∈ D, the map f 7→ f(w) is continuous; (X2) X contains all polynomials, and they are dense in X; (X3) multiplication with the function z is well-deﬁned on X.\\n\\nFurther, suppose W is a subset of X which satisﬁes the following properties: (W1) if f ∈ X is bounded and |f| is bounded away from zero on D, then f ∈ W; (W2) W contains the linear polynomials g(z) = z − λ, |λ| = 1. Theorem 1.4. [8, Theorem 3.1] Let X ⊆ Hol(D) be a Banach space and let W be a subset of X. Suppose they satisfy the above-stated properties (X1) − (X3) and (W1) − (W2), respectively. If F : X → C is a continuous linear functional such that F(1) = 1 and it never vanishes on the set W, then there exists w ∈ D such that F(f) = f(w) for all f ∈ X.'),\n",
       " Document(metadata={'source': '.\\\\data\\\\snehPaper.pdf', 'start_index': 5463}, page_content='Inspired by the work mentioned above of Mashreghi and Ransford, the authors of this article proved a new analogue of the GKZ theorem in [3]. This analogue is interesting because we dropped the condition that requires the vector space to be a Banach space. In fact, we assumed the vector space has a topology that is not necessarily related to its algebraic structure. More precisely, we proved the following:\\n\\n(1)\\n\\nA KS THEOREM IN SEVERAL VARIABLES\\n\\nLet F(r,C) denote the family of complex-valued functions deﬁned on the open disc\\n\\nD(0,r) in C with center at 0 and radius r. Theorem 1.5. [3, Theorem B] Let X ⊂ F(r,C) be a complex vector space equipped with a topology that satisﬁes the following properties:\\n\\n(1) for each w ∈ D(0,r), the map f 7→ f(w) is continuous; (2) X contains the set of complex polynomials as a dense subset.'),\n",
       " Document(metadata={'source': '.\\\\data\\\\snehPaper.pdf', 'start_index': 6173}, page_content='(1) for each w ∈ D(0,r), the map f 7→ f(w) is continuous; (2) X contains the set of complex polynomials as a dense subset.\\n\\nIf F : X → C is a continuous Let Y = {(z − λ)n : n ≥ 0, λ ∈ C, linear functional such that F(1) = 1 and F(g) 6= 0 for all g ∈ Y, then there exists w ∈ D(0,r) such that\\n\\n|λ| ≥ r}.\\n\\nF(f) = f(w)\\n\\nfor all f ∈ X.\\n\\nNotice that Theorem 1.5 is, in a spirit, similar to Theorems 1.3 and 1.4. The point to be also noted about Theorem 1.5, in addition to what has been stated above, is that the hypotheses involve conditions on only a small and special class of outer functions, namely, powers of linear outer polynomials. Furthermore, Theorem 1.5 gave a version of Theorem 1.3, but with a restriction of continuity on the linear functional, which It is also worth noting that unlike the has been justiﬁed in [3] with an example. proofs of Theorems 1.3 and 1.4, as given in [8], the proof of Theorem 1.5 in [3] does not rely on the GKZ theorem.'),\n",
       " Document(metadata={'source': '.\\\\data\\\\snehPaper.pdf', 'start_index': 7132}, page_content='In [11], Sampat obtained a version of the GKZ theorem for function spaces in the several variables setting. This result has its roots in [5] and [8]. In [5], Kou and Liu characterized the bounded linear operators on Hp(D), 1 < p < ∞ that preserve outer functions as weighted composition operators. In this process, Kou and Liu [5] gave yet another proof of Theorem 1.3 in which they worked with a speciﬁc subclass of outer functions, namely, {ewz : w ∈ C}. Furthermore, their proof does not rely on the GKZ theorem, and the result assumes the continuity of the linear functional. Sampat extended Kou and Liu’s ideas to the several variables setting in [11]. The following is his analogue of the GKZ theorem. For an open set U ⊂ Cn, let X ⊂ Hol(U) be a Banach space satisfying the following properties:'),\n",
       " Document(metadata={'source': '.\\\\data\\\\snehPaper.pdf', 'start_index': 7935}, page_content='(JS1) The set of polynomials is dense in X; (JS2) For each z ∈ U, the point evaluation map f 7→ f(z) is bounded on X. Fur- thermore, U contains each z ∈ Cn for which the map p 7→ p(z) on the set of polynomials extends to a bounded linear functional on all of X;\\n\\n(JS3) The ith- shift operator Si : X → X, deﬁned as Sif(z) := zif(z) for every\\n\\n(zk)n\\n\\nk=1 = z ∈ U and f ∈ X, is a bounded linear operator for all 1 ≤ i ≤ n.\\n\\nTheorem 1.6. [11, Theorem 1.4] Let X be a Banach space that satisﬁes the above properties (JS1) − (JS3) over an open set U ⊂ Cn. Let Λ : X → C be a continuous linear functional such that Λ(ew·z) 6= 0 for every w ∈ Cn. Then there exist a non-zero α ∈ C and w ∈ U such that\\n\\nΛ(f) = αf(w)\\n\\nfor all f ∈ X.'),\n",
       " Document(metadata={'source': '.\\\\data\\\\snehPaper.pdf', 'start_index': 8630}, page_content='Λ(f) = αf(w)\\n\\nfor all f ∈ X.\\n\\nWe now focus on an analogue of the KS theorem for function spaces. By following the ideas of Mashreghi and Ransford from [8], Sebastian and Daniel extended the KS theorem to modules in [12, Theorem 2.3]; then they used it to obtain the following generalization of Theorem 1.3.\\n\\n3\\n\\n4\\n\\nJAIKISHAN, SNEH LATA, AND DINESH SINGH\\n\\nTheorem 1.7. [12, Theorem 3.1] Let 1 ≤ p ≤ ∞ and F : Hp(D) → C be a function such that F(0) = 0, F(1) 6= 0, and\\n\\nF(f1) − F(f2) (cid:0)\\n\\n(cid:1)\\n\\n1 − F(1)(f1 − f2) /∈ S\\n\\nfor all f1, f2 ∈ Hp(D), where S is the set of all outer functions in Hp(D). Then there exists a unique character χ on H∞(D) such that\\n\\nF(fg) = χ(f)F(g)\\n\\nfor all f ∈ H∞(D) and g ∈ Hp(D). Further, there exist a non-zero constant c and w ∈ D such that F(g) = cg(w) for all g ∈ H∞(D).'),\n",
       " Document(metadata={'source': '.\\\\data\\\\snehPaper.pdf', 'start_index': 9288}, page_content='F(fg) = χ(f)F(g)\\n\\nfor all f ∈ H∞(D) and g ∈ Hp(D). Further, there exist a non-zero constant c and w ∈ D such that F(g) = cg(w) for all g ∈ H∞(D).\\n\\nApart from being captivating in their own right, these various analogues of the GKZ theorem and its generalization, the KS theorem, are attracting attention as they lead to, in their respective settings, characterizations of linear maps that preserve outer functions. Mashreghi and Ransford used Theorem 1.3 to show that linear operators on Hardy spaces Hp(D), 0 < p ≤ ∞ preserving outer functions are necessarily weighted composition operators ([8, Theorems 2.2 & 2.3]). Sebastian and Daniel in [12], Kou and Liu in [5], and Sampat in [11] have also used their results mentioned above to obtain similar results for their respective settings.'),\n",
       " Document(metadata={'source': '.\\\\data\\\\snehPaper.pdf', 'start_index': 10079}, page_content='In this paper, we extend the KS theorem to a much larger class of topological spaces (Theorem 3.2)—as opposed to Banach spaces—consisting of functions deﬁned on a bounded subset of Cn and taking values in a ﬁxed complex Banach algebra with identity. To be precise, given a topological space X of functions deﬁned on certain bounded subset of Cn taking values in a complex Banach algebra A with identity, we characterize non-zero continuous functions on X that satisfy some conditions similar to those imposed in the KS theorem as a composition of a point evaluation on X and a multiplicative linear functional on A. We note that Theorem 3.2 extends our earlier work Theorem 1.5 to functions of several variables; nevertheless, the techniques used in this paper diﬀer from those employed for the proof of Theorem 1.5 in [3]. In addition, it is worth mentioning that many interesting and well-known function spaces such as the Cm-valued Hardy spaces on Dn, the Drury-Arveson space, the Dirichlet-type'),\n",
       " Document(metadata={'source': '.\\\\data\\\\snehPaper.pdf', 'start_index': 10880}, page_content='of Theorem 1.5 in [3]. In addition, it is worth mentioning that many interesting and well-known function spaces such as the Cm-valued Hardy spaces on Dn, the Drury-Arveson space, the Dirichlet-type spaces on Dn, and the polydisc algebra are covered by our result. A more elaborated list is given in Section 3.'),\n",
       " Document(metadata={'source': '.\\\\data\\\\snehPaper.pdf', 'start_index': 11191}, page_content='Furthermore, we use Theorem 3.2 to characterize weighted composition operators between Hardy spaces (Theorem 3.8) amongst the family of continuous functions between them. Lastly, in Section 4, we give a partial but noteworthy result towards a multiplicative GKZ theorem for Hardy spaces.\\n\\nAs we mentioned earlier, [12] has extended the KS theorem to Hardy spaces (Theo- rem 1.7), and [11] has given a several variables version of the GKZ theorem (Theorem 1.6). So, listing some aspects where our results diﬀer from those in [11] and [12] is natural and necessary.\\n\\n(i) Theorem 1.6 ([11, Theorem 1.4]) is a several variables version of the GKZ theorem, whereas our result (Theorem 3.2) is a several variables version of the KS theorem. In addition, our functions are vector-valued as well.\\n\\n(ii) The author in [11] uses some technical complex function theory results, whereas\\n\\nour arguments are elementary.\\n\\n(2)\\n\\nA KS THEOREM IN SEVERAL VARIABLES'),\n",
       " Document(metadata={'source': '.\\\\data\\\\snehPaper.pdf', 'start_index': 11981}, page_content='(ii) The author in [11] uses some technical complex function theory results, whereas\\n\\nour arguments are elementary.\\n\\n(2)\\n\\nA KS THEOREM IN SEVERAL VARIABLES\\n\\n(iii) We assume the given map to be non-zero on certain polynomials, whereas Theorem 1.7 assumes the map to be non-zero on the set of all outer functions, and Theorem 1.6 assumes it to be non-zero on the set {ew·z : w ∈ C}. (iv) Theorem 1.7 extends the KS theorem only to Hardy spaces Hp(D), 1 ≤ p ≤ ∞, whereas Theorem 3.2 covers a much broader class including the vector- valued Hardy spaces Hp(Dn,Cm), 0 < p ≤ ∞, the Drury-Arveson space, the Dirichlet-type spaces over the polydisc Dn, the polydisc algebra.\\n\\n(v) The arguments deployed by us to prove Theorem 3.2 are much simpler com- pared to ones used by the authors of [12] to prove Theorem 1.7. The arguments used in [12] are speciﬁc to properties of Hardy spaces and can’t be used for our setting.'),\n",
       " Document(metadata={'source': '.\\\\data\\\\snehPaper.pdf', 'start_index': 12894}, page_content='(vi) In comparison to Theorem 1.7, Theorem 3.2 has an extra hypothesis of con- tinuity, which we show (Example 3.7) to be essential to deduce the desired conclusion for our setting. We also note that Theorem 1.6 does include con- tinuity in its hypotheses, but its necessity is not addressed in [11].\\n\\n(vii) Unlike Theorem 1.6 and 1.7, Theorem 3.2 is not restricted to spaces of analytic\\n\\nfunctions only.\\n\\nIn addition, in Theorem 2.1, we give an improvement of Theorem 1.7. Indeed, the conclusion of Theorem 1.7, when compared to Theorem 1.3, is not up to satisfaction as it does not assert the behaviour of the map on unbounded functions in Hp(D). Interestingly, we show in Theorem 2.1 that the hypotheses of Theorem 1.7 are enough to establish that the assertion of Theorem 1.7 holds for the entire Hp(D), which is in parallel to Theorem 1.3.\\n\\n2. Kowalski-S lodkowski’s Theorem for Hardy spaces'),\n",
       " Document(metadata={'source': '.\\\\data\\\\snehPaper.pdf', 'start_index': 13740}, page_content='2. Kowalski-S lodkowski’s Theorem for Hardy spaces\\n\\nIn this section, we shall reﬁne Theorem 1.7. We shall show that the hypotheses of Theorem 1.7 are indeed enough to establish that the map, as desired, is a point evaluation (up to a constant). We want to note that we fail to understand why the authors have restricted the result to only p ≥ 1 when their arguments are valid for 0 < p ≤ ∞. The following is our rectiﬁcation of Theorem 1.7. Theorem 2.1. Let 0 < p ≤ ∞ and let F : Hp(D) → C be a non-zero function such that F(0) = 0 and\\n\\nF(f1) − F(f2) (3) (cid:0) for all f1, f2 ∈ Hp(D), where S is the set of all outer functions in Hp(D). Then there exist a non-zero constant c and w ∈ D such that F(f) = cf(w)\\n\\n1 − F(1)(f1 − f2) /∈ S\\n\\n(cid:1)\\n\\nfor every f ∈ Hp(D).'),\n",
       " Document(metadata={'source': '.\\\\data\\\\snehPaper.pdf', 'start_index': 14452}, page_content='1 − F(1)(f1 − f2) /∈ S\\n\\n(cid:1)\\n\\nfor every f ∈ Hp(D).\\n\\nProof. The proof of Theorem 1.7 as given in [12] uses [12, Theorem 2.3]. We note that even for 0 < p < 1, the triple, A = H∞(D), M = Hp(D), S equals the set of all outer functions in Hp(D) satisfy the hypotheses of Theorem 2.3 from [12], and so just as shown in [12], there exists a character χ : H∞(D) → C such that F(fg) = χ(f)F(g) for all f ∈ H∞(D) and g ∈ Hp(D), where 0 < p ≤ ∞. Further, by using arguments as were used in Theorem 1.7, there exists a point w ∈ D such that\\n\\nχ(f) = f(w)\\n\\n5\\n\\n6\\n\\nJAIKISHAN, SNEH LATA, AND DINESH SINGH\\n\\nfor all f ∈ H∞(D). This implies that for every f ∈ H∞(D), we obtain F(f) = χ(f)F(1) = F(1)f(w).'),\n",
       " Document(metadata={'source': '.\\\\data\\\\snehPaper.pdf', 'start_index': 14986}, page_content='χ(f) = f(w)\\n\\n5\\n\\n6\\n\\nJAIKISHAN, SNEH LATA, AND DINESH SINGH\\n\\nfor all f ∈ H∞(D). This implies that for every f ∈ H∞(D), we obtain F(f) = χ(f)F(1) = F(1)f(w).\\n\\nLet O be an outer function in Hp(D). Then there exist outer functions O1 and O2 in H∞(D) such that O = O1/O2. This means O1 = O2O, and so F(O1) = χ(O2)F(O). Therefore, F(O) = F(1)O1(w)/O2(w) = F(1)O(w). This, along with the inner-outer factorization of functions in Hp(D), implies that F(f) = F(1)f(w) for every f ∈ (cid:3) Hp(D).\\n\\nNow, using Theorem 2.1 and employing arguments similar to the ones used in [8, Theorem 2.2], we can improve Theorem 3.2 from [12] by extending it from H∞(D) to Hp(D) as follows. Theorem 2.2. For 0 < p ≤ ∞, let T : Hp(D) → Hol(D) be a continuous map satisfying T(0) = 0, T(1)(z) 6= 0 for every z ∈ D, and\\n\\n(Tf(z) − Tg(z))1 − T1(z)(f − g) /∈ S for every f,g ∈ Hp(D) and z ∈ D, where S is the set of outer functions in Hp(D). Then there exist holomorphic functions φ : D → D and ψ : D → C \\\\ {0} such that'),\n",
       " Document(metadata={'source': '.\\\\data\\\\snehPaper.pdf', 'start_index': 15779}, page_content='(Tf(z) − Tg(z))1 − T1(z)(f − g) /∈ S for every f,g ∈ Hp(D) and z ∈ D, where S is the set of outer functions in Hp(D). Then there exist holomorphic functions φ : D → D and ψ : D → C \\\\ {0} such that\\n\\nTf = ψ · (f ◦ φ).\\n\\nfor every f ∈ Hp(D). Proof. For each ﬁxed w ∈ D, the map Tw : Hp(D) → C given by Tw(f) = (Tf)(w) satisﬁes the hypotheses of Theorem 2.1; therefore, there exist a point aw ∈ D and a constant cw such that (Tf)(w) = cwf(aw) for every f ∈ Hp(D). Then by taking f to be the constant function 1, we see that cw = T1(w) 6= 0. Further, by taking f(z) = z, we see aw = (Tz)(w)/T1(w). We now deﬁne ψ = T1 and φ = (Tz)/ψ. Then ψ and φ are holomorphic function on D such that ψ doesn’t vanish at any point (cid:3) in D, φ(D) ⊆ D, and Tf = ψ · (f ◦ φ). This completes the proof.\\n\\n3. Kowalski-S lodkowski’s theorem for topological spaces\\n\\nIn this section, we shall prove an analogue of the KS theorem (Theorem 1.2) for\\n\\ntopological spaces of functions of several variables.'),\n",
       " Document(metadata={'source': '.\\\\data\\\\snehPaper.pdf', 'start_index': 16563}, page_content='3. Kowalski-S lodkowski’s theorem for topological spaces\\n\\nIn this section, we shall prove an analogue of the KS theorem (Theorem 1.2) for\\n\\ntopological spaces of functions of several variables.\\n\\nLet Z+(n) denote the set of n-tuples α = (α1,...,αn) of non-negative integers. For 1 zα2 n . For a Banach algebra A with 2\\n\\nα ∈ Z+(n) and z ∈ Cn, deﬁne zα := zα1 identity, let PA\\n\\n···zαn n denote the set of all A-valued polynomials in n variables, that is,\\n\\nn = \\uf8f1 PA \\uf8f2\\n\\np(z) =\\n\\nX |α|≤k\\n\\naαzα : aα ∈ A, z ∈ Cn and k is a non-negative integer\\uf8fc \\uf8fd\\n\\n\\uf8f3\\n\\nwhere |α| = α1 + α2 + ··· + αn. For convenience, we shall write Pn instead of PA n if A = C. Clearly, given any compact subset K of Cn, PA n can be viewed as a subalgebra of the Banach algebra C(K,A), the set of all continuous A-valued functions with the sup norm. We say z0 is zero of a polynomial p ∈ PA n if p(z0) = 0. For the rest of this section, let A represents a ﬁxed complex Banach algebra with identity e.'),\n",
       " Document(metadata={'source': '.\\\\data\\\\snehPaper.pdf', 'start_index': 17522}, page_content='The following result is integral to our version of the KS theorem for topological spaces (Theorem 3.2). We present it as an independent result as, apart from being interesting in its own right, it brings out the crux of the method used to prove Theorem\\n\\n\\uf8fe\\n\\n,\\n\\nA KS THEOREM IN SEVERAL VARIABLES\\n\\n7\\n\\n3.2 even more prominently. It characterizes multiplicative linear functionals on PA n as non-zero complex-valued functions on PA n that satisfy a condition very similar to the one assumed in the KS theorem. First, we recall the notion of a polynomial convex D of a bounded subset D of Cn is hull of a set in Cn. The polynomial convex hull consisting of all w ∈ Cn such that b |p(z)|\\n\\n|p(w)| ≤ sup z∈D\\n\\nfor all polynomials p ∈ Pn. Note that\\n\\nD is a closed set and D ⊆ b\\n\\nD. b\\n\\nn → C be a non-zero function with Λ(0) = 0. Suppose D is\\n\\nTheorem 3.1. Let Λ : PA a bounded subset of Cn such that for every p and q in PA\\n\\nn the polynomial\\n\\n(cid:0)\\n\\nΛ(p) − Λ(q)\\n\\ne − (p − q) (cid:1)'),\n",
       " Document(metadata={'source': '.\\\\data\\\\snehPaper.pdf', 'start_index': 18354}, page_content='Theorem 3.1. Let Λ : PA a bounded subset of Cn such that for every p and q in PA\\n\\nn the polynomial\\n\\n(cid:0)\\n\\nΛ(p) − Λ(q)\\n\\ne − (p − q) (cid:1)\\n\\nhas a zero in D. Then there exist w ∈ A such that\\n\\nD and a multiplicative linear functional φ on b Λ(p) = φ(p(w))\\n\\nfor all p ∈ PA n .\\n\\nMoreover, we assert w ∈ D whenever\\n\\n(i) n = 1; (ii) D = D1 × ··· × Dn for some bounded sets D1,...,Dn in C; (iii) D is an open or a closed Euclidean ball in Cn.\\n\\nProof. For every p, q ∈ PA q(wp,q). Λ(p)e = p(wp). This gives us\\n\\nn there exists wp,q ∈ D such that (Λ(p)−Λ(q))e = p(wp,q)− In particular, for each polynomial p, there is a point wp in D such that\\n\\nk(Λ(p) − Λ(q))ek = kp(wp,q) − q(wp,q)k ≤ sup z∈D\\n\\nkp(z) − q(z)k.\\n\\n(4)\\n\\nn denote the closure of PA\\n\\nLet PA let f be an element of PA converge to f, which, using Inequality (4), yields the existence of\\n\\nn with respect to the sup norm on C(D,A), and n . Then there is a sequence {pn}n of polynomials that Λ(pn). This\\n\\nlim n→∞\\n\\nn → C as Λ1(f) := lim n→∞'),\n",
       " Document(metadata={'source': '.\\\\data\\\\snehPaper.pdf', 'start_index': 19193}, page_content='n with respect to the sup norm on C(D,A), and n . Then there is a sequence {pn}n of polynomials that Λ(pn). This\\n\\nlim n→∞\\n\\nn → C as Λ1(f) := lim n→∞\\n\\nallows us to deﬁne a function Λ1 : PA PA It is easy to verify that Λ1 is a well-deﬁned function. Indeed, if there is another sequence {qn}n converging to f, then from Inequality (4), Λ(pn) = we get\\n\\nΛ(pn), where pn ∈\\n\\nn such that pn −→ f.\\n\\n≤ kpn − qnk∞, from where it follows that lim n→∞\\n\\ne (cid:13) (cid:13)\\n\\nΛ(pn) − Λ(qn) (cid:13) (cid:0) (cid:13) Λ(qn).\\n\\n(cid:1)\\n\\nlim n→∞\\n\\ne−(f −g) /∈ G(PA (cid:1) n . Suppose there are f and g in PA\\n\\nNow we want to show that\\n\\nΛ1(f)−Λ1(g) (cid:0)\\n\\nn ) (the set of invertible n such that n ). Let {pn}n and {qn}n be sequences of polynomials\\n\\nn ) for all f,g ∈ PA e−(f −g) ∈ G(PA (cid:1) n such that pn −→ f and qn −→ g in PA e − (pn − qn) −→\\n\\nelements of PA Λ1(f)−Λ1(g) (cid:0) in PA\\n\\nn . Then\\n\\nΛ1(pn) − Λ1(qn)\\n\\nΛ1(f) − Λ1(g)\\n\\ne − (f − g) (cid:1)\\n\\n(cid:1)\\n\\n(cid:0)\\n\\n(cid:0)'),\n",
       " Document(metadata={'source': '.\\\\data\\\\snehPaper.pdf', 'start_index': 20023}, page_content='elements of PA Λ1(f)−Λ1(g) (cid:0) in PA\\n\\nn . Then\\n\\nΛ1(pn) − Λ1(qn)\\n\\nΛ1(f) − Λ1(g)\\n\\ne − (f − g) (cid:1)\\n\\n(cid:1)\\n\\n(cid:0)\\n\\n(cid:0)\\n\\nin PA Λ1(pn) − Λ1(qn) (cid:0) Λ1(qN) So, (Λ1(f) − Λ1(g))e − (f − g) /∈ G(PA\\n\\nn as n −→ ∞. Since G(PA\\n\\nn ) is open, there exists a positive integer N such that Λ1(pN) − n ) for all n ≥ N. In particular, e−(pN −qN) can’t vanish on D. But this is a contradiction to the hypothesis. (cid:1)\\n\\ne − (pn − qn) ∈ G(PA\\n\\n(cid:1)\\n\\n(cid:0)\\n\\nn ) for all f,g in PA n .\\n\\n8\\n\\nJAIKISHAN, SNEH LATA, AND DINESH SINGH\\n\\nThen, by Theorem 1.2, Λ1 is multiplicative and linear. In particular, Λ is multi-\\n\\nplicative and linear on PA n .\\n\\nFor each 1 ≤ i ≤ n, deﬁne ri(z) := zie. Let w = (Λ(r1),Λ(r2),...,Λ(rn)). Since Λ n ) = wα. Now consider aαzα\\n\\nis multiplicative, we obtain Λ(zα) = Λ(ezα1 the map φ : A → C given by φ(a) = Λ(a). Then for any polynomial p(z) =\\n\\n1 )Λ(ezα2\\n\\n2 )···Λ(ezαn\\n\\nP|α|≤k\\n\\nin PA\\n\\nn , we have\\n\\nΛ(p) =\\n\\n=\\n\\nX |α|≤k\\n\\nX |α|≤k\\n\\nΛ(aαzα) =\\n\\nX |α|≤k φ(aα)Λ(ezα) =\\n\\nΛ(aα)Λ(ezα)'),\n",
       " Document(metadata={'source': '.\\\\data\\\\snehPaper.pdf', 'start_index': 20894}, page_content='1 )Λ(ezα2\\n\\n2 )···Λ(ezαn\\n\\nP|α|≤k\\n\\nin PA\\n\\nn , we have\\n\\nΛ(p) =\\n\\n=\\n\\nX |α|≤k\\n\\nX |α|≤k\\n\\nΛ(aαzα) =\\n\\nX |α|≤k φ(aα)Λ(ezα) =\\n\\nΛ(aα)Λ(ezα)\\n\\nX |α|≤k\\n\\nφ(aα)wα\\n\\n= φ\\uf8eb \\uf8ed\\n\\nX |α|≤k\\n\\naαwα\\uf8f6 \\uf8f8\\n\\n= φ(p(w))\\n\\nThis establishes Λ(p) = φ(p(w)) for all p ∈ PA n .\\n\\nTo prove w ∈\\n\\nD, let p be a polynomial in Pn. Then p1(z) = p(z)e is a polynomial b\\n\\nin PA\\n\\nn ; thus, Λ(p1) = φ(p1(w)) = p(w). This, using Inequality (4), implies that\\n\\n|p(w)| = |Λ(p1)| ≤ sup z∈D\\n\\n|p(z)| = sup z∈D\\n\\n|p(z)|.\\n\\nHence, w ∈\\n\\nD. b\\n\\nFinally, we will establish the assertions made in the moreover part. First, suppose n = 1, that is, we are in the one-variable situation. Take p(z) = ez, then Λ(p) = w. Also, as we noted at the beginning of the proof, there exists a point a ∈ D such that Λ(p)e = p(a) = ea, which implies that w = a ∈ D.'),\n",
       " Document(metadata={'source': '.\\\\data\\\\snehPaper.pdf', 'start_index': 21676}, page_content='We now turn to the general n case. Let D = D1 × ··· × Dn for some subsets D1,...,Dn of C. The idea here is very similar to case n = 1. Note that Λ(ri) = φ(ri(w)) = φ(wie) = wi. Additionally, as mentioned earlier, some a exists in D such that Λ(ri)e = ri(a) = eai. Thus wi = ai ∈ Di; hence, w ∈ D1 × ··· × Dn = D.\\n\\nLastly, let D = {z ∈ Cn : ||z −b||Cn < r} for some b ∈ Cn and positive real number\\n\\nr. Let p(z) =\\n\\nn i=1(wi − bi)e(zi − bie). Then P\\n\\nn\\n\\n|wi − bi|2 = ||w − b||2\\n\\nΛ(p) = φ(p(w)) =\\n\\nCn.\\n\\nX i=1 Also, there exists some a ∈ D such that Λ(p)e = p(a), which implies that ||w−b||2\\n\\nCn = n i=1(wi − bi)(ai−bi) = hw − b,a − biCn. Thus, using the Cauchy-Schwarz inequality, P we infer ||w − b||Cn ≤ ||a − b||Cn < r. Thus, w ∈ D. A similar set of arguments will (cid:3) work when D is a closed Euclidean ball in Cn. This completes the proof.'),\n",
       " Document(metadata={'source': '.\\\\data\\\\snehPaper.pdf', 'start_index': 22521}, page_content='We are ready to prove our version of the KS theorem for topological spaces of functions of several variables that take values in a ﬁxed complex Banach algebra with identity. Before we state our result, we ﬁrst ﬁx some notations for it. Recall that we have ﬁxed A for Banach algebra with identity e. Let D be a bounded subset of Cn and F(D,A) denotes the vector space of all A-valued functions deﬁned on D. We\\n\\nA KS THEOREM IN SEVERAL VARIABLES\\n\\nassume that when n ≥ 2, D is either a Cartesian product of n bounded subsets of C or an Euclidean ball in Cn.\\n\\nTheorem 3.2. Let X be a subset of F(D,A) equipped with a topology that satisﬁes the following properties:\\n\\n(i) for each z ∈ D, the evaluation map f 7→ f(z) is continuous; (ii) X contains the polynomial set PA\\n\\nn as a dense subset.\\n\\nLet Λ : X → C be a non-zero continuous function such that Λ(0) = 0 and for every p and q in PA\\n\\nn the polynomial'),\n",
       " Document(metadata={'source': '.\\\\data\\\\snehPaper.pdf', 'start_index': 23287}, page_content='n as a dense subset.\\n\\nLet Λ : X → C be a non-zero continuous function such that Λ(0) = 0 and for every p and q in PA\\n\\nn the polynomial\\n\\ne − (p − q) (cid:1) has a zero in D. Then there exist w ∈ D and a multiplicative linear functional φ on A such that\\n\\nΛ(p) − Λ(q)\\n\\n(cid:0)\\n\\nΛ(f) = φ(f(w))\\n\\nfor every f ∈ X.\\n\\nn −→ C satisﬁes the hypotheses of Theorem 3.1. Proof. Clearly, the restriction Λ : PA Then, using the moreover part of Theorem 3.1, there exist w ∈ D and a multiplicative linear functional φ on A such that Λ(p) = φ(p(w)) for every p ∈ PA n . Now the continuity of Λ and the denseness of PA\\n\\nn in X yield\\n\\nΛ(f) = φ(f(w))\\n\\nfor all f ∈ X.'),\n",
       " Document(metadata={'source': '.\\\\data\\\\snehPaper.pdf', 'start_index': 23887}, page_content='n in X yield\\n\\nΛ(f) = φ(f(w))\\n\\nfor all f ∈ X.\\n\\nRemark 3.3. The hypothesis “ e−(p−q) has a zero in D” in Theorems (cid:1) 3.1 and 3.2 for the case when n = 1,D = D and A = C assumes nothing but that the e − (p − q) does not belong to the class of polynomials that polynomials (cid:1) are outer functions. Consequently, our hypothesis is in line with the hypothesis of the analogues of the GKZ theorem and the KS theorem recorded in the Introduction.\\n\\nΛ(p)−Λ(q)\\n\\n(cid:0)\\n\\nΛ(p) − Λ(q) (cid:0)'),\n",
       " Document(metadata={'source': '.\\\\data\\\\snehPaper.pdf', 'start_index': 24336}, page_content='Λ(p)−Λ(q)\\n\\n(cid:0)\\n\\nΛ(p) − Λ(q) (cid:0)\\n\\nRemark 3.4. Note that Theorem 3.2 generalizes our earlier work (Theorem 1.5) from [3] in three ways. It extends Theorem 1.5 to topological spaces that are not nec- essarily vector spaces. In addition, it extends Theorem 1.5 to vector-valued functions of several variables. As a result, it generalizes Theorem 1.3—Mashreghi and Rans- ford’s version of the GKZ theorem for Hardy spaces—to vector-valued functions of several variables. Furthermore, it extends Theorem 1.7—the recent extension of the KS theorem—to vector-valued functions of several variables. It is worth noting that the methods employed in proving Theorem 3.2 are entirely independent of the ones used in proving Theorem 1.5.'),\n",
       " Document(metadata={'source': '.\\\\data\\\\snehPaper.pdf', 'start_index': 25069}, page_content='Remark 3.5. We would like to now compare Theorem 3.2 with Theorem 1.6 ([11, Theorem 1.4]) that also is a several variables analogue of the GKZ theorem for func- tion spaces. First, we note that Theorem 1.6 is for Banach spaces of scalar-valued functions, whereas Theorem 3.2 deals with topological spaces of vector-valued func- tions. Next, we compare the domains of the function spaces considered by the two theorems. Theorem 3.2, in the several variables case, is proved under the assumption that the domain is either a Euclidean ball or a Cartesian product. In contrast, it may seem that the domain of functions in Theorem 1.6 includes a big class of subsets of Cn. But, we want to point out that Theorem 1.6 assumes the domain to be a “maximal\\n\\n9\\n\\n(cid:3)\\n\\n10\\n\\nJAIKISHAN, SNEH LATA, AND DINESH SINGH'),\n",
       " Document(metadata={'source': '.\\\\data\\\\snehPaper.pdf', 'start_index': 25818}, page_content='9\\n\\n(cid:3)\\n\\n10\\n\\nJAIKISHAN, SNEH LATA, AND DINESH SINGH\\n\\ndomain” (hypothesis JS2 in Theorem 1.6), and if we assume the domain D in The- orem 3.2 to be a maximal domain instead of being a speciﬁc set such as a Euclidean ball or a Cartesian product (as done in Theorem 3.2), then indeed with the help of Theorem 3.1, for this case also we would obtain the map Λ to be a point evaluation for the scalar-valued case and composition of a multiplicative linear functional and a point evaluation for the vector-valued case. Moreover, Theorem 1.6 doesn’t cover Dirichlet spaces Dα for α > 1 as the maximal domain for functions in these Dirichlet spaces is Dn and not Dn. But, these are covered by Theorem 3.2 as they satisfy its hypotheses.\\n\\nThe following is a list of some well-known function spaces that satisfy the conditions of Theorem 3.2.\\n\\nThe vector-valued Hardy spaces Hp(Dn,Cm) for 0 < p ≤ ∞, where we consider the weak-start topology for p = ∞;'),\n",
       " Document(metadata={'source': '.\\\\data\\\\snehPaper.pdf', 'start_index': 26765}, page_content='the Drury-Arveson Space H2 n; • the Dirichlet-type spaces Dα for α ∈ R; • the polydisc algebra A(Dn); • the ball algebra A(Bn); • the Bergman spaces Ap • the little Bloch space B0(Bn); • the space VMOA of functions of vanishing mean oscillation deﬁned on Bn. Although we have already compared Theorem 3.2 with Theorems 1.6 and 1.7, only to bring out this comparison more prominently for the reader, we give below the particular case of Theorem 3.2 for X = Hp(Dn,Cm). For 0 < p ≤ ∞, let Hp(Dn,Cm) denote the Hardy space of Cm-valued functions on Dn. Recall that Cn with Euclidean norm is a Banach algebra with identity 1 = (1,...,1)T. Note that in Theorem 3.2 we do not require the norm of the unit element to be 1. Corollary 3.6. For n,m ∈ N and 0 < p ≤ ∞, let Λ : Hp(Dn,Cm) → C be a non-zero continuous (weak-star continuous for p = ∞) function such that Λ(0) = 0 and for polynomials p and q in PCm 1 − (p − q) has a zero in n (cid:1) Dn. Then there exist w ∈ Dn and 1 ≤ k ≤ m such that Λ(f) ='),\n",
       " Document(metadata={'source': '.\\\\data\\\\snehPaper.pdf', 'start_index': 27569}, page_content='(weak-star continuous for p = ∞) function such that Λ(0) = 0 and for polynomials p and q in PCm 1 − (p − q) has a zero in n (cid:1) Dn. Then there exist w ∈ Dn and 1 ≤ k ≤ m such that Λ(f) = hf(w),ekiCm for all f ∈ Hp(Dn,Cm), where {e1,...,em} is the standard orthonormal basis of Cm. In Theorem 3.2; hence in Corollary 3.6, we assume the function Λ to be continuous, whereas the comparative result, Theorem 1.7, which again is an analogue of the KS theorem for the Hardy spaces, do not assume the function to be continuous. With Example 3.7, we establish the necessity for it to obtain the desired conclusion. Theorem 1.6 is also a version of the GKZ for Hardy spaces on polydisc that assumes continuity, but the continuity assumption is never justiﬁed in [11], which could be because this paper is inspired by work in [5], which in turn is motivated by a problem in the area of geophysical imaging where the continuity assumption seems natural. Example 3.7. Let B be a Hamel basis for H2(D)'),\n",
       " Document(metadata={'source': '.\\\\data\\\\snehPaper.pdf', 'start_index': 28366}, page_content='is inspired by work in [5], which in turn is motivated by a problem in the area of geophysical imaging where the continuity assumption seems natural. Example 3.7. Let B be a Hamel basis for H2(D) obtained by extending the or- thonormal basis B1 = {zn : n ∈ N ∪ {0}}. Let f ∈ H2(D). Then there exist elements zr1,zr2,...,zrn in B1 and ft1,ft2,...,ftm in B\\\\B1, and scalars c1,c2,...cn,d1,d2,...,dm in C such that'),\n",
       " Document(metadata={'source': '.\\\\data\\\\snehPaper.pdf', 'start_index': 28778}, page_content='α(0 < p < ∞) deﬁned on the open unit ball Bn of Cn;\\n\\nA KS THEOREM IN SEVERAL VARIABLES\\n\\nn\\n\\nm\\n\\nwhere p =\\n\\nf =\\n\\nn i=1 cizri and g = P\\n\\ncizri +\\n\\ndifti = p + g\\n\\nX i=1\\n\\nX i=1 m i=1 difti. For a ﬁxed w ∈ D, deﬁne F at f by F(f) = p(w) + δ\\n\\nP\\n\\nwhere δ is a non-zero scalar. It is easy to see that F is well-deﬁned and satisﬁes the hypotheses of Theorem 3.2, but F is not linear. This implies F cannot be continuous because otherwise, given Theorem 3.2, F must be a point evaluation, which forces it to be linear.\\n\\nFinally, we conclude this section with the following characterization of weighted\\n\\ncomposition operators between two Hardy spaces. Theorem 3.8. For 0 < p,q ≤ ∞, let T : Hp(Dn) → Hq(Dm) be a continuous function, where we consider weak-start topology on Hp(Dn) when p = ∞. Suppose T(0) = 0, T(1)(w) 6= 0 for each w ∈ Dm. If given any pair p,q of complex-valued polynomials in n-variables and w ∈ Dm the polynomial'),\n",
       " Document(metadata={'source': '.\\\\data\\\\snehPaper.pdf', 'start_index': 29698}, page_content='1 − (cid:1) has a zero in Dn, then there exist ψ ∈ Hq(Dm) and an analytic function φ : Dm → Dn such that\\n\\nTp(w) − Tq(w)\\n\\nT1(w) (cid:0)\\n\\n(p − q) (cid:1)\\n\\n(cid:0)\\n\\nT(f) = ψ · (f ◦ φ)\\n\\nfor every f ∈ Hp(Dn). Proof. For each ﬁxed w ∈ Dm, deﬁne the map Tw : Hp(Dn) → C given by Tw(f) = (Tf)(w). It is easy to see that Tw/(T1)(w) satisﬁes all the conditions in Corollary 3.6, so there exists ζ ∈ Dn such that (Tf)(w) = (T1)(w)f(ζ) for all f ∈ Hp(Dn). By taking f = zi, the ith coordinate function, we get ζ = (Tz1(w),...,Tzn(w))/(T1)(w). Let ψ = T(1) and deﬁne φ(w) = (Tz1(w),...,Tzn(w))/ψ(w). Then φ(w) ∈ Dn and (cid:3) (Tf)(w) = ψ(w)f(φ(w)) for every f ∈ Hp(Dn). This completes the proof.\\n\\n4. A Multiplicative GKZ Theorem for Hardy spaces'),\n",
       " Document(metadata={'source': '.\\\\data\\\\snehPaper.pdf', 'start_index': 30383}, page_content='4. A Multiplicative GKZ Theorem for Hardy spaces\\n\\nIn this section, we shall investigate a multiplicative analogue of the GKZ theorem within the context of Hardy spaces. By a multiplicative analogue of the GKZ theorem, we mean a result that asserts the linearity of a complex-valued multiplicative function on an unital Banach algebra that assumes a value in the spectrum. The ﬁrst positive result concerning multiplicative maps taking values in the spectrum was obtained by Maouche [7]. Theorem 4.1 (Maouche). Let A be a unital Banach algebra and φ : A → C be a map satisfying\\n\\n(i) φ(x) ∈ σ(x), (ii) φ(xy) = φ(x)φ(y)\\n\\nfor all x,y ∈ A. Then there exists a unique character ψφ on A such that φ(x) = ψφ(x) for all x ∈ G1(A), where G1(A) is the connected component of G(A) containing the identity.\\n\\n11\\n\\n12\\n\\nJAIKISHAN, SNEH LATA, AND DINESH SINGH'),\n",
       " Document(metadata={'source': '.\\\\data\\\\snehPaper.pdf', 'start_index': 31178}, page_content='11\\n\\n12\\n\\nJAIKISHAN, SNEH LATA, AND DINESH SINGH\\n\\nIn the same paper [7], Maouche gave a concrete example to establish that even on the nicest Banach algebra, namely C[0,1], one can’t guarantee the linearity of φ on the entire Banach algebra. It is noteworthy that Maouche’s function was not continuous; hence, any hope of proving that φ itself is linear, therefore, a character would have to include the continuity of φ as an assumption.\\n\\nRecently, Tou´re and Brits, along with their other collaborators, have extensively studied multiplicative versions of the GKZ and its generalization–the KS theorem–on C∗-algebras; for their speciﬁc results refer to [1, 13, 14, 15]. In [1], they showed that a multiplicative continuous complex-valued function F on a C∗-algebra A satisfying F(a) ∈ σ(a) must be linear. However, the result for a general Banach algebra stays where Maouche left it.'),\n",
       " Document(metadata={'source': '.\\\\data\\\\snehPaper.pdf', 'start_index': 32062}, page_content='We study an analogous result for the Hardy spaces. Before we give the statement, we would like to note that, in light of Theorem 1.3, a non-zero continuous multiplica- tive linear functional on a Hardy space must be a point evaluation. Theorem 4.2. For 0 < p < ∞, let F : Hp(D) → C be a continuous function such that F(f) ∈ Im(f) and F(fg) = F(f)F(g), whenever f,g ∈ Hp(D) with fg ∈ Hp(D). Then there exists a point w ∈ D such that F(f) = f(w) for every nowhere-vanishing f ∈ Hp(D). Proof. We consider the restriction of the map F to the disc algebra A(D) (a subset of Hp(D) ). The restriction of the map F to A(D) (equipped with the sup-norm) satisﬁes the hypotheses of Theorem 4.1. As a result, there exists a character ψF on A(D) such that F(f) = ψF(f) for every f ∈ G1(A(D)), the connected component of the set of invertible functions in A(D) containing the constant function 1. But, G1(A(D)) equals the set of all invertible functions in A(D). Indeed, a simple adaptation of the arguments used'),\n",
       " Document(metadata={'source': '.\\\\data\\\\snehPaper.pdf', 'start_index': 32866}, page_content='of the set of invertible functions in A(D) containing the constant function 1. But, G1(A(D)) equals the set of all invertible functions in A(D). Indeed, a simple adaptation of the arguments used in [9, Lemma 3.5.14] can be used to establish this fact. Therefore, we conclude that F(f) = ψF(f) for each invertible function in A(D).'),\n",
       " Document(metadata={'source': '.\\\\data\\\\snehPaper.pdf', 'start_index': 33198}, page_content='Furthermore, the characters on the disc algebra are point evaluations, which implies that there exists a point w ∈ D such that F(f) = ψF(f) = f(w) for every invertible f ∈ A(D). Now, g(z) = z + 2 is an invertible function in A(D); therefore, F(g) = ψF(g) = w + 2. On the other hand, by the hypotheses, F(g) = a + 2 for some a ∈ D. Thus, we conclude that w = a ∈ D.'),\n",
       " Document(metadata={'source': '.\\\\data\\\\snehPaper.pdf', 'start_index': 33564}, page_content='Finally, let f ∈ Hp(D) with no zero in D. For 0 < r < 1, let us deﬁne fr(z) = f(rz), z ∈ D. Then each fr is in Hp(D) and fr → f in Hp(D) as r → 1. Since f is analytic on D and has no zero in D, each fr is an invertible function in A(D). Hence, F(fr) = ψF(fr) = fr(w) for every r. Lastly, the continuity of F yields F(f) = (cid:3) r→1− F(fr) = lim lim Acknowledgements. We thank the Mathematical Sciences Foundation, Delhi, for the support and facilities needed to complete the present work. The ﬁrst named author thanks the University Grants Commission(UGC), India, for the support, and the second named author thanks Shiv Nadar Institution of Eminence for partially supporting this research.\\n\\nr→1− fr(w) = f(w). This completes the proof.\\n\\nReferences\\n\\n[1] R. Brits, M. Mabrouk, and C. Tour´e. A multiplicative Gleason-Kahane-˙Zelazko theorem for\\n\\nC∗-algebras. Journal of Mathematical Analysis and Applications, 500(1):125089, 2021.\\n\\nA KS THEOREM IN SEVERAL VARIABLES'),\n",
       " Document(metadata={'source': '.\\\\data\\\\snehPaper.pdf', 'start_index': 34411}, page_content='C∗-algebras. Journal of Mathematical Analysis and Applications, 500(1):125089, 2021.\\n\\nA KS THEOREM IN SEVERAL VARIABLES\\n\\n[2] A. M. Gleason. A characterization of maximal ideals. Journal d’Analyse Math´ematique, 19:171–\\n\\n172, 1967.\\n\\n[3] Jaikishan, S. Lata, and D. Singh. Multiplicativity of linear functionals on function spaces on an\\n\\nopen disc. Archiv der Mathematik, 123:65–74, 2024.\\n\\n[4] J. Kahane and W. ˙Zelazko. A characterization of maximal ideals in commutative Banach alge-\\n\\nbras. Studia Mathematica, 29:339–343, 1968.\\n\\n[5] K. Kou and J. Liu. Which linear operators preserve outer functions? Indagationes Mathemati-\\n\\ncae, 28(6):1144–1156, 2017.\\n\\n[6] S. Kowalski and Z. S l odkowski. A characterization of multiplicative linear functionals in Banach\\n\\nalgebras. Studia Mathematica, 67:215–223, 1980.\\n\\n[7] A. Maouche. Formes multiplicatives `a valeurs dans le spectre. Colloquium Mathematicum,\\n\\n71(1):43–45, 1996.'),\n",
       " Document(metadata={'source': '.\\\\data\\\\snehPaper.pdf', 'start_index': 35170}, page_content='algebras. Studia Mathematica, 67:215–223, 1980.\\n\\n[7] A. Maouche. Formes multiplicatives `a valeurs dans le spectre. Colloquium Mathematicum,\\n\\n71(1):43–45, 1996.\\n\\n[8] J. Mashreghi and T. Ransford. A Gleason-Kahane-˙Zelazkotheorem for modules and applications to holomorphic function spaces. Bulletin of the London Mathematical Society, 47(6):1014–1020, 2015.\\n\\n[9] G. J. Murphy. C∗-algebras and operator theory. Academic Press, Inc., Boston, MA, 1990. [10] M. Roitman and Y. Sternfeld. When is a linear functional multiplicative? Transactions of the\\n\\nAmerican Mathematical Society, 267(1):111–124, 1981.\\n\\n[11] J. Sampat. Cyclicity preserving operators on spaces of analytic functions in Cn. Integral Equa-\\n\\ntions and Operator Theory, 93:1–20, 2021.\\n\\n[12] G. Sebastian and S. Daniel. A weaker Gleason-Kahane-˙Zelazko theorem for modules and appli-\\n\\ncations to Hardy spaces. Colloquium Mathematicum, 164(2):273–282, 2021.'),\n",
       " Document(metadata={'source': '.\\\\data\\\\snehPaper.pdf', 'start_index': 35918}, page_content='[12] G. Sebastian and S. Daniel. A weaker Gleason-Kahane-˙Zelazko theorem for modules and appli-\\n\\ncations to Hardy spaces. Colloquium Mathematicum, 164(2):273–282, 2021.\\n\\n[13] C. Tour´e, R. Brits, and G. Sebastian. A multiplicative Kowalski-S lodkowski theorem for C∗-\\n\\nalgebras. Canadian Mathematical Bulletin, 66(3):1–8, 2023.\\n\\n[14] C. Tour´e, F. Schulz, and R. Brits. Multiplicative maps into the spectrum. Studia Mathematica,\\n\\n239:55–66, 2017.\\n\\n[15] C. Tour´e, F. Schulz, and R. Brits. Some character generating functions on Banach algebras.\\n\\nJournal of Mathematical Analysis and Applications, 468(2):704–715, 2018.\\n\\n[16] W. ˙Zelazko. A characterization of multiplicative linear functionals in complex Banach algebras.\\n\\nStudia Mathematica, 30(1):83–85, 1968.\\n\\nDepartment Of Mathematics, School of Natural Sciences, Shiv Nadar Institution\\n\\nof Eminence, Gautam Buddha Nagar, Uttar Pradesh 201314, India\\n\\nEmail address: jk301@snu.edu.in'),\n",
       " Document(metadata={'source': '.\\\\data\\\\snehPaper.pdf', 'start_index': 36682}, page_content='Department Of Mathematics, School of Natural Sciences, Shiv Nadar Institution\\n\\nof Eminence, Gautam Buddha Nagar, Uttar Pradesh 201314, India\\n\\nEmail address: jk301@snu.edu.in\\n\\nDepartment Of Mathematics, School of Natural Sciences, Shiv Nadar Institution\\n\\nof Eminence, Gautam Buddha Nagar, Uttar Pradesh 201314, India\\n\\nEmail address: sneh.lata@snu.edu.in\\n\\nCentre For Digital Sciences, O. P. Jindal Global University, Sonipat, Haryana\\n\\n131001, India\\n\\nEmail address: dineshsingh1@gmail.com\\n\\n13')]"
      ]
     },
     "execution_count": 11,
     "metadata": {},
     "output_type": "execute_result"
    }
   ],
   "source": [
    "all_splits"
   ]
  },
  {
   "cell_type": "code",
   "execution_count": 24,
   "id": "69edec40",
   "metadata": {},
   "outputs": [],
   "source": [
    "#question = \"Tell me about Randheer Singh?\"\n",
    "question = \"What are the major contribution of this paper?\""
   ]
  },
  {
   "cell_type": "code",
   "execution_count": 25,
   "id": "56ffc470",
   "metadata": {},
   "outputs": [],
   "source": [
    "# extract chunks which matches with your query\n",
    "search_results = vector_store.similarity_search_with_score(question, k=10)\n",
    "\n",
    "# conbine text from differrent chunks into one long string\n",
    "doc_content = \"\\n\\n\".join(doc.page_content for (doc,score) in search_results)"
   ]
  },
  {
   "cell_type": "code",
   "execution_count": 26,
   "id": "d3fc42b1",
   "metadata": {},
   "outputs": [
    {
     "name": "stdout",
     "output_type": "stream",
     "text": [
      "The paper makes several significant contributions to the field of functional analysis, particularly in the study of multiplicative theorems within Hardy spaces and related function spaces. The major contributions can be summarized as follows:\n",
      "\n",
      "1. **Extension of the Kowalski-Slodkowski (KS) Theorem to Broader Function Spaces**:\n",
      "   - **Theorem 3.2** is a central advancement that generalizes the KS theorem beyond its traditional scope. It applies to a much wider class of topological spaces, including vector-valued Hardy spaces \\( H_p(\\mathbb{D}^n, \\mathbb{C}^m) \\), the Drury-Arveson space, Dirichlet-type spaces over the polydisc \\( \\mathbb{D}^n \\), and the polydisc algebra. This extends the applicability from scalar-valued to vector-valued functions and from single-variable to several-variable contexts.\n",
      "\n",
      "2. **Elementary Argumentation**:\n",
      "   - The authors employ elementary arguments to establish their results, contrasting with previous works like [11], which relied on complex function theory. This simplification not only makes the proofs more accessible but also broadens the potential applicability of the theorems to settings where complex analysis techniques may not be straightforward to apply.\n",
      "\n",
      "3. **Improvement of Existing Theorems**:\n",
      "   - **Theorem 2.1** enhances **Theorem 1.7** by showing that its hypotheses are sufficient to extend its conclusions to the entire Hardy space \\( H_p(\\mathbb{D}) \\), similar to the broader conclusions of **Theorem 1.3**. This addresses shortcomings in earlier results by ensuring behavior on unbounded functions within \\( H_p(\\mathbb{D}) \\).\n",
      "\n",
      "4. **Introduction of Continuity as an Essential Hypothesis**:\n",
      "   - In **Theorem 3.2**, an additional continuity assumption is introduced, which is demonstrated to be essential through **Example 3.7**. This contrasts with **Theorem 1.6**, where the necessity of continuity was not addressed, thereby refining the conditions under which the KS theorem can be applied effectively.\n",
      "\n",
      "5. **Generality Beyond Analytic Function Spaces**:\n",
      "   - Unlike **Theorems 1.6 and 1.7**, **Theorem 3.2** is not restricted to spaces of analytic functions. This broader applicability allows the theorem to be utilized in a wider range of function spaces, enhancing its utility and relevance.\n",
      "\n",
      "6. **Generalization of Previous Work**:\n",
      "   - The paper extends earlier work (**Theorem 1.5** from [3]) by incorporating non-vector spaces and vector-valued functions of several variables. This generalization includes topological spaces that are not necessarily vector spaces and extends to vector-valued functions, thereby broadening the theoretical framework established in previous studies.\n",
      "\n",
      "7. **Simplification Compared to Prior Methods**:\n",
      "   - The arguments used to prove **Theorem 3.2** are notably simpler than those employed in [12] for **Theorem 1.7**. This methodological improvement not only streamlines the proof process but also makes the results more accessible and easier to apply in various settings.\n",
      "\n",
      "8. **Comprehensive Comparison with Existing Literature**:\n",
      "   - Through remarks and comparisons (e.g., Remarks 3.4 and 3.5), the authors position their contributions relative to existing theorems, highlighting advancements and clarifying the extensions made. This contextualization underscores the novelty and importance of their work within the broader landscape of functional analysis research.\n",
      "\n",
      "In summary, the paper significantly advances the understanding and applicability of multiplicative theorems in functional analysis by:\n",
      "- Extending the KS theorem to more general and vector-valued function spaces.\n",
      "- Employing elementary and simplified arguments.\n",
      "- Introducing essential hypotheses like continuity.\n",
      "- Improving upon existing theorems to cover comprehensive cases.\n",
      "- Broadening applicability beyond analytic function spaces.\n",
      "\n",
      "These contributions collectively enhance the theoretical foundations and practical applications of multiplicative theorems in various function space contexts.\n"
     ]
    }
   ],
   "source": [
    "# RAG promt template\n",
    "prompt_template = \"\"\"You are an assistant to a Mathematiccian. Use the following pieces of retrieved context to answer the question. Use no more than 500 words to summerize your answer.\n",
    "Question: {question} \n",
    "Context: {context} \n",
    "Answer:\"\"\"\n",
    "\n",
    "# make the LLM read see the prompt, and analyse the retrieved document, and generate response\n",
    "\n",
    "from langchain.chat_models import init_chat_model\n",
    "llm = init_chat_model(\"o1-mini\", model_provider=\"openai\")\n",
    "\n",
    "response = llm.invoke(prompt_template.format(\n",
    "    context=doc_content,\n",
    "    question=question))\n",
    "    \n",
    "print(response.content)"
   ]
  },
  {
   "cell_type": "code",
   "execution_count": 27,
   "id": "93019940",
   "metadata": {},
   "outputs": [
    {
     "data": {
      "text/markdown": [
       "The paper makes several significant contributions to the field of functional analysis, particularly in the study of multiplicative theorems within Hardy spaces and related function spaces. The major contributions can be summarized as follows:\n",
       "\n",
       "1. **Extension of the Kowalski-Slodkowski (KS) Theorem to Broader Function Spaces**:\n",
       "   - **Theorem 3.2** is a central advancement that generalizes the KS theorem beyond its traditional scope. It applies to a much wider class of topological spaces, including vector-valued Hardy spaces \\( H_p(\\mathbb{D}^n, \\mathbb{C}^m) \\), the Drury-Arveson space, Dirichlet-type spaces over the polydisc \\( \\mathbb{D}^n \\), and the polydisc algebra. This extends the applicability from scalar-valued to vector-valued functions and from single-variable to several-variable contexts.\n",
       "\n",
       "2. **Elementary Argumentation**:\n",
       "   - The authors employ elementary arguments to establish their results, contrasting with previous works like [11], which relied on complex function theory. This simplification not only makes the proofs more accessible but also broadens the potential applicability of the theorems to settings where complex analysis techniques may not be straightforward to apply.\n",
       "\n",
       "3. **Improvement of Existing Theorems**:\n",
       "   - **Theorem 2.1** enhances **Theorem 1.7** by showing that its hypotheses are sufficient to extend its conclusions to the entire Hardy space \\( H_p(\\mathbb{D}) \\), similar to the broader conclusions of **Theorem 1.3**. This addresses shortcomings in earlier results by ensuring behavior on unbounded functions within \\( H_p(\\mathbb{D}) \\).\n",
       "\n",
       "4. **Introduction of Continuity as an Essential Hypothesis**:\n",
       "   - In **Theorem 3.2**, an additional continuity assumption is introduced, which is demonstrated to be essential through **Example 3.7**. This contrasts with **Theorem 1.6**, where the necessity of continuity was not addressed, thereby refining the conditions under which the KS theorem can be applied effectively.\n",
       "\n",
       "5. **Generality Beyond Analytic Function Spaces**:\n",
       "   - Unlike **Theorems 1.6 and 1.7**, **Theorem 3.2** is not restricted to spaces of analytic functions. This broader applicability allows the theorem to be utilized in a wider range of function spaces, enhancing its utility and relevance.\n",
       "\n",
       "6. **Generalization of Previous Work**:\n",
       "   - The paper extends earlier work (**Theorem 1.5** from [3]) by incorporating non-vector spaces and vector-valued functions of several variables. This generalization includes topological spaces that are not necessarily vector spaces and extends to vector-valued functions, thereby broadening the theoretical framework established in previous studies.\n",
       "\n",
       "7. **Simplification Compared to Prior Methods**:\n",
       "   - The arguments used to prove **Theorem 3.2** are notably simpler than those employed in [12] for **Theorem 1.7**. This methodological improvement not only streamlines the proof process but also makes the results more accessible and easier to apply in various settings.\n",
       "\n",
       "8. **Comprehensive Comparison with Existing Literature**:\n",
       "   - Through remarks and comparisons (e.g., Remarks 3.4 and 3.5), the authors position their contributions relative to existing theorems, highlighting advancements and clarifying the extensions made. This contextualization underscores the novelty and importance of their work within the broader landscape of functional analysis research.\n",
       "\n",
       "In summary, the paper significantly advances the understanding and applicability of multiplicative theorems in functional analysis by:\n",
       "- Extending the KS theorem to more general and vector-valued function spaces.\n",
       "- Employing elementary and simplified arguments.\n",
       "- Introducing essential hypotheses like continuity.\n",
       "- Improving upon existing theorems to cover comprehensive cases.\n",
       "- Broadening applicability beyond analytic function spaces.\n",
       "\n",
       "These contributions collectively enhance the theoretical foundations and practical applications of multiplicative theorems in various function space contexts."
      ],
      "text/plain": [
       "<IPython.core.display.Markdown object>"
      ]
     },
     "execution_count": 27,
     "metadata": {},
     "output_type": "execute_result"
    }
   ],
   "source": [
    "from IPython.display import Markdown\n",
    "Markdown(response.content)"
   ]
  },
  {
   "cell_type": "code",
   "execution_count": null,
   "id": "ad03a3ca",
   "metadata": {},
   "outputs": [],
   "source": []
  }
 ],
 "metadata": {
  "kernelspec": {
   "display_name": "langgraph-academy",
   "language": "python",
   "name": "python3"
  },
  "language_info": {
   "codemirror_mode": {
    "name": "ipython",
    "version": 3
   },
   "file_extension": ".py",
   "mimetype": "text/x-python",
   "name": "python",
   "nbconvert_exporter": "python",
   "pygments_lexer": "ipython3",
   "version": "3.11.11"
  }
 },
 "nbformat": 4,
 "nbformat_minor": 5
}
