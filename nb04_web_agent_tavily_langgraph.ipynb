{
 "cells": [
  {
   "cell_type": "code",
   "execution_count": 15,
   "id": "be367913",
   "metadata": {},
   "outputs": [],
   "source": [
    "import os\n",
    "from dotenv import load_dotenv\n",
    "load_dotenv()\n",
    "\n",
    "import operator\n",
    "from typing import Annotated\n",
    "from typing_extensions import TypedDict"
   ]
  },
  {
   "cell_type": "markdown",
   "id": "bdaa0a1d",
   "metadata": {},
   "source": [
    "# lets play with Tavily"
   ]
  },
  {
   "cell_type": "code",
   "execution_count": 9,
   "id": "27fd4f2a",
   "metadata": {},
   "outputs": [
    {
     "data": {
      "text/plain": [
       "[{'title': 'Delhi CM List: Chief Ministers of Delhi Party Names and ...',\n",
       "  'url': 'https://www.jagranjosh.com/general-knowledge/delhi-chief-ministers-cm-list-party-name-and-tenure-1726561886-1',\n",
       "  'content': \"Rekha Gupta of the Bharatiya Janata Party (BJP) has been declared the new Chief Minister of Delhi. This announcement on February 19, 2025, marks the BJP's return to power in Delhi after 27 years, with the party securing 48 out of 70 assembly seats.\\n\\nGupta, previously the General Secretary of the Delhi BJP and a former president of the Delhi University Students' Union, won the Shalimar Bagh constituency. Her swearing-in ceremony is scheduled for February 20, 2025, at Ramlila Maidan. [...] Delhi CM List: Chief Ministers of Delhi Party Names and Tenure (1952-2025)\\n\\nDelhi Chief Ministers:\\xa0Rekha Gupta is the 9th Chief Minister of Delhi, representing the Bharatiya Janata Party (BJP). The announcement was made on February 19, 2025, following the BJP's significant victory in the recent assembly elections, where they secured 48 out of 70 seats, marking their return to power in Delhi after 27 years. [...] Rekha Gupta is the newly-elect Chief Minister of Delhi, representing the Bharatiya Janata Party (BJP). The announcement was made on February 19, 2025. She is the 4th female chief minister of New Delhi.\\n\\nIf you are curious about the CMs of New Delhi from 1952 till now, this article provides a brief overview of the Chief Ministers who have served in New Delhi since its first state assembly elections. It highlights the democratic process and the changes in leadership over the years.\",\n",
       "  'score': 0.8969848},\n",
       " {'title': 'List of chief ministers of Delhi',\n",
       "  'url': 'https://en.wikipedia.org/wiki/List_of_chief_ministers_of_Delhi',\n",
       "  'content': \"November 1993[5] and Madan Lal Khurana of Bharatiya Janata Party was sworn in as the chief minister.[6] The longest-serving chief minister, Sheila Dikshit from the Indian National Congress party, held the office for over fifteen years.[7] On 28 December 2013, Arvind Kejriwal of Aam Aadmi Party sworn in as first state party chief minister of the national capital territory. There has been one instance of president's rule in the National Capital Territory of Delhi, most recently in 2015. In the [...] Chief Minister of National Capital Territory of Delhi\\nEmblem of the NCT of Delhi\\nIncumbentRekha Guptasince\\xa020 February 2025\\nGovernment of Delhi\\nType | Head of State Government\\nMember of | Delhi Legislative Assembly* Council of Ministers of Delhi\\nReports to | Lieutenant Governor of Delhi*Delhi Legislative Assembly\\nResidence | 6, Flagstaff Road,Civil Lines, Delhi\\nSeat | Old Secretariat, Vikram Nagar, Civil Lines,New Delhi\\nNominator | Members of theGovernment of DelhiinDelhi Legislative Assembly [...] No. | Name | Party | Length of term\\nLongest continuous term | Total years of chief ministership\\n1 | Sheila Dikshit | INC |  | 15 years, 25 days | 15 years, 25 days\\n2 | Arvind Kejriwal | AAP |  | 9 years, 218 days | 9 years, 266 days\\n3 | Brahm Parkash | INC |  | 2 years, 332 days | 2 years, 332 days\\n4 | Sahib Singh Verma | BJP |  | 2 years, 228 days | 2 years, 228 days\\n5 | Madan Lal Khurana | BJP |  | 2 years, 86 days | 2 years, 86 days\",\n",
       "  'score': 0.88564163},\n",
       " {'title': \"'This is Arvind Kejriwal's chair': Atishi takes charge as Delhi ...\",\n",
       "  'url': 'https://www.thehindu.com/news/national/this-is-arvind-kejriwals-chair-atishi-takes-charge-as-delhi-cm-with-an-empty-chair-beside-her/article68673103.ece',\n",
       "  'content': 'Aam Aadmi Party (AAP) leader Atishi took charge as the eighth Chief Minister of Delhi on Monday (September 23, 2024) after taking the oath of office on Saturday (September 21, 2024). Refusing to sit on the chair used by her predecessor Arvind Kejriwal, Ms. Atishi chose to sit on a different chair. “This is Delhi’s Chief Minister’s chair, this chair, is Arvind Kejriwal ji’s,“ she said after taking charge at the Delhi Secretariat. [...] The third and the youngest woman Chief Minister of Delhi, Ms. Atishi has retained the 13 portfolios she held in the Kejriwal government, including those of education, revenue, finance, power and PWD.\\n\\nAtishi takes charge as Delhi Chief Minister, leaving a chair empty for Arvind Kejriwal at her office in the Delhi Secretariat in New Delhi on September 23, 2024.\\n                                                            | Photo Credit: \\n                                Shashi Shekhar Kashyap [...] “I have full faith that in the election which is due in February, the people of Delhi will elect Arvind Kejriwal ji as Chief Minister again. Till then this chair will be in this room, in expectation of Arvind Kejriwal ji,” she said.\\n\\nIn her first interaction with the media, after being announced as the next CM, in the last week, she had called Mr. Kejriwal her “guru”. She said the media, “there is only one Chief Minister of Delhi and the CM’s name is Arvind Kejriwal”.',\n",
       "  'score': 0.8638634},\n",
       " {'title': 'Rekha Gupta Takes Oath As New CM As BJP Returns To ...',\n",
       "  'url': 'https://www.youtube.com/watch?v=SaJ1bNzo-Ac',\n",
       "  'content': \"Rekha Gupta took oath as the Chief Minister of Delhi on Thursday. This marked a historic moment for her party as it returned to power in the national capital after 27 years. She has now become the fourth woman Chief Minister of Delhi after she secured the Shalimar Bagh seat in the February 5 Delhi Assembly elections with over 29,000 votes. Along with Gupta, her council of ministers, Parvesh Verma, Ashish Sood, Pankaj Singh, Manjinder Singh Sirsa, Kapil Mishra, and Ravinder Indraj also took oath [...] ---\\n\\nDelhi Chief Minister | Delhi CM | Delhi New CM | Delhi New CM Face | BJP Delhi CM | Rekha Gupta | PM Modi | Narendra Modi | Delhi CM Oath Ceremony | Delhi Chief Minister | Delhi Chief Minister Oath Ceremony | Delhi CM Swearing In Ceremony | Rekha Gupta Swearing In Ceremony | Firstpost | News Live | World News | Latest News | Global News | International News | News | Trending News [...] at a grand ceremony at Ramlila Ground. Prime Minister Narendra Modi and other senior BJP leaders were also present at the event. Meanwhile, outgoing Delhi Chief Minister Atishi and AAP's national convenor, Arvind Kejriwal, were also invited.\",\n",
       "  'score': 0.8405867},\n",
       " {'title': \"Who is Rekha Gupta, Delhi's new Chief Minister?\",\n",
       "  'url': 'https://www.thehindu.com/news/cities/Delhi/rekha-gupta-delhi-new-chief-minister/article69239166.ece',\n",
       "  'content': 'The announcement comes nearly 10 days after the BJP returned to power in the national capital after 26 years,  winning 48 out of 70 seats in the Delhi Assembly election. The party is yet to announce its picks for ministerial berths. [...] Rekha Gupta, the debutante MLA from Shalimar Bagh, has been chosen to be Delhi’s next Chief Minister, the Bharatiya Janata Party said after a Delhi legislative party meeting at its national headquarters on Wednesday evening. Ms. Gupta, 50, will be the fourth woman to head the government in the State.\\n\\nDelhi CM oath-taking ceremony live updates - February 20, 2024 [...] Ms. Gupta is an active member of the Rashtriya Swayamsevak Sangh, and has completed three terms as a councillor in the Municipal Corporation of Delhi. She started her political journey with the Akhil Bharatiya Vidyarthi Parishad, the RSS student wing, and was president of the Delhi University Students Association in 1996. She will be the fourth woman Chief Minister of Delhi, following the BJP’s Sushma Swaraj, the Congress’s Sheila Dikshit, and the AAP’s Atishi.',\n",
       "  'score': 0.8399576},\n",
       " {'title': 'Atishi Delhi CM | Atishi Takes Charge As Chief Minister With ...',\n",
       "  'url': 'https://www.youtube.com/watch?v=TzVBp61W_ZQ',\n",
       "  'content': 'Atishi Delhi CM | Atishi Takes Charge As Chief Minister With Grand Gesture For Arvind Kejriwal \\n NDTV \\n 168 likes \\n 26031 views \\n 23 Sep 2024 \\n AAP leader Atishi officially took charge as the eighth Chief Minister of Delhi today, following the resignation of Arvind Kejriwal. Drawing a symbolic comparison to the Hindu epic Ramayana, Atishi said, \"My situation is like that of Bharat, when Lord Shri Rama went into exile, and Bharat had to govern in his absence.\" [...] For News in Shorts, click here: https://www.youtube.com/playlist?list=PLYSfYVdrOZvjJ8fhLPk_Fz4tFARkpG-Y-\\r\\n\\r\\nSubscribe to our channel to get latest news updates.\\r\\n\\r\\nFollow us on Social Media:\\r\\nLike us on Facebook: https://www.facebook.com/ndtv/\\r\\nFollow us on Twitter: https://twitter.com/ndtv/\\r\\nFollow us on Instagram: https://www.instagram.com/ndtv/\\r\\nFollow us on WhatsApp: https://whatsapp.com/channel/0029Va4lixw7z4kcvZI9JM12\\r\\nJoin NDTV on Telegram Messenger: https://t.me/NDTVbot/?start=hi',\n",
       "  'score': 0.79939574},\n",
       " {'title': 'Arvind Kejriwal',\n",
       "  'url': 'https://en.wikipedia.org/wiki/Arvind_Kejriwal',\n",
       "  'content': \"Political offices\\nPreceded\\xa0bySheila Dikshit | Chief Minister of Delhi28 December 2013\\xa0– 14 February 2014 | VacantPresident's ruleTitle next held byArvind Kejriwal\\nVacantPresident's ruleTitle last held byArvind Kejriwal | Chief Minister of Delhi14 February 2015–17 September 2024 | Succeeded\\xa0byAtishi Marlena Singh\\nAam Aadmi Partypolitical offices\\nNew political party | National Convener of AAP2012 – | Incumbent [...] September 2024, he resigned as Delhi Chief Minister saying he will only become CM again if he receives a public mandate.[9] [...] In 2012, he launched the AAP. In 2013, he assumed office as the Chief Minister of Delhi and resigned 49 days later over his inability to mobilise support for his proposed anti-corruption legislation. In the 2015 Delhi Legislative Assembly elections, the AAP registered an unprecedented majority. In subsequent 2020 elections, AAP re-emerged victorious and retained power in Delhi, following which, Kejriwal was sworn in as the Chief Minister of Delhi for the third time in a row. Outside Delhi, his\",\n",
       "  'score': 0.79901963},\n",
       " {'title': \"Atishi new chief minister of India's capital territory after ...\",\n",
       "  'url': 'https://www.aljazeera.com/news/2024/9/17/atishi-to-be-new-chief-minister-of-indias-capital-territory-delhi',\n",
       "  'content': 'Speaking to reporters after the announcement on Tuesday, Atishi said she will be the chief minister “for a few months till [state legislative assembly] elections”, which are due in February next year.\\n\\n“I will work with just one goal. We have to make Arvind Kejriwal the chief minister of Delhi once again,” she said, calling the outgoing leader her “guru” (mentor). [...] Atishi new chief minister of India’s capital territory after Kejriwal quits\\n\\nThe announcement was made by Aam Aadmi Party chief Arvind Kejriwal during a meeting with his party’s legislators in New Delhi.\\n\\nDelhi minister Atishi will take over as the new chief minister of India’s national capital territory after the resignation of incumbent Arvind Kejriwal, says the ruling Aam Aadmi Party (AAP). [...] A fierce Modi critic, Kejriwal is a former anticorruption crusader and had served as Delhi’s chief minister since 2015. His AAP party is a member of the Congress-led INDIA alliance.\\n\\nOn Friday, Kejriwal was granted bail by India’s Supreme Court, six months after being detained in relation to alleged irregularities in the capital city’s liquor policy.',\n",
       "  'score': 0.7892503}]"
      ]
     },
     "execution_count": 9,
     "metadata": {},
     "output_type": "execute_result"
    }
   ],
   "source": [
    "from langchain_community.tools import TavilySearchResults\n",
    "\n",
    "searchTool = TavilySearchResults(max_results=10)\n",
    "user_query = \"Who is the current Chief Minister of Delhi?\"\n",
    "search_results = searchTool.invoke(user_query)\n",
    "search_results"
   ]
  },
  {
   "cell_type": "code",
   "execution_count": 10,
   "id": "a631fcc1",
   "metadata": {},
   "outputs": [
    {
     "name": "stdout",
     "output_type": "stream",
     "text": [
      "<Document href=\"https://www.jagranjosh.com/general-knowledge/delhi-chief-ministers-cm-list-party-name-and-tenure-1726561886-1\">\n",
      "Rekha Gupta of the Bharatiya Janata Party (BJP) has been declared the new Chief Minister of Delhi. This announcement on February 19, 2025, marks the BJP's return to power in Delhi after 27 years, with the party securing 48 out of 70 assembly seats.\n",
      "\n",
      "Gupta, previously the General Secretary of the Delhi BJP and a former president of the Delhi University Students' Union, won the Shalimar Bagh constituency. Her swearing-in ceremony is scheduled for February 20, 2025, at Ramlila Maidan. [...] Delhi CM List: Chief Ministers of Delhi Party Names and Tenure (1952-2025)\n",
      "\n",
      "Delhi Chief Ministers: Rekha Gupta is the 9th Chief Minister of Delhi, representing the Bharatiya Janata Party (BJP). The announcement was made on February 19, 2025, following the BJP's significant victory in the recent assembly elections, where they secured 48 out of 70 seats, marking their return to power in Delhi after 27 years. [...] Rekha Gupta is the newly-elect Chief Minister of Delhi, representing the Bharatiya Janata Party (BJP). The announcement was made on February 19, 2025. She is the 4th female chief minister of New Delhi.\n",
      "\n",
      "If you are curious about the CMs of New Delhi from 1952 till now, this article provides a brief overview of the Chief Ministers who have served in New Delhi since its first state assembly elections. It highlights the democratic process and the changes in leadership over the years.\n",
      "</Document>\n",
      "\n",
      "---\n",
      "\n",
      "<Document href=\"https://en.wikipedia.org/wiki/List_of_chief_ministers_of_Delhi\">\n",
      "November 1993[5] and Madan Lal Khurana of Bharatiya Janata Party was sworn in as the chief minister.[6] The longest-serving chief minister, Sheila Dikshit from the Indian National Congress party, held the office for over fifteen years.[7] On 28 December 2013, Arvind Kejriwal of Aam Aadmi Party sworn in as first state party chief minister of the national capital territory. There has been one instance of president's rule in the National Capital Territory of Delhi, most recently in 2015. In the [...] Chief Minister of National Capital Territory of Delhi\n",
      "Emblem of the NCT of Delhi\n",
      "IncumbentRekha Guptasince 20 February 2025\n",
      "Government of Delhi\n",
      "Type | Head of State Government\n",
      "Member of | Delhi Legislative Assembly* Council of Ministers of Delhi\n",
      "Reports to | Lieutenant Governor of Delhi*Delhi Legislative Assembly\n",
      "Residence | 6, Flagstaff Road,Civil Lines, Delhi\n",
      "Seat | Old Secretariat, Vikram Nagar, Civil Lines,New Delhi\n",
      "Nominator | Members of theGovernment of DelhiinDelhi Legislative Assembly [...] No. | Name | Party | Length of term\n",
      "Longest continuous term | Total years of chief ministership\n",
      "1 | Sheila Dikshit | INC |  | 15 years, 25 days | 15 years, 25 days\n",
      "2 | Arvind Kejriwal | AAP |  | 9 years, 218 days | 9 years, 266 days\n",
      "3 | Brahm Parkash | INC |  | 2 years, 332 days | 2 years, 332 days\n",
      "4 | Sahib Singh Verma | BJP |  | 2 years, 228 days | 2 years, 228 days\n",
      "5 | Madan Lal Khurana | BJP |  | 2 years, 86 days | 2 years, 86 days\n",
      "</Document>\n",
      "\n",
      "---\n",
      "\n",
      "<Document href=\"https://www.thehindu.com/news/national/this-is-arvind-kejriwals-chair-atishi-takes-charge-as-delhi-cm-with-an-empty-chair-beside-her/article68673103.ece\">\n",
      "Aam Aadmi Party (AAP) leader Atishi took charge as the eighth Chief Minister of Delhi on Monday (September 23, 2024) after taking the oath of office on Saturday (September 21, 2024). Refusing to sit on the chair used by her predecessor Arvind Kejriwal, Ms. Atishi chose to sit on a different chair. “This is Delhi’s Chief Minister’s chair, this chair, is Arvind Kejriwal ji’s,“ she said after taking charge at the Delhi Secretariat. [...] The third and the youngest woman Chief Minister of Delhi, Ms. Atishi has retained the 13 portfolios she held in the Kejriwal government, including those of education, revenue, finance, power and PWD.\n",
      "\n",
      "Atishi takes charge as Delhi Chief Minister, leaving a chair empty for Arvind Kejriwal at her office in the Delhi Secretariat in New Delhi on September 23, 2024.\n",
      "                                                            | Photo Credit: \n",
      "                                Shashi Shekhar Kashyap [...] “I have full faith that in the election which is due in February, the people of Delhi will elect Arvind Kejriwal ji as Chief Minister again. Till then this chair will be in this room, in expectation of Arvind Kejriwal ji,” she said.\n",
      "\n",
      "In her first interaction with the media, after being announced as the next CM, in the last week, she had called Mr. Kejriwal her “guru”. She said the media, “there is only one Chief Minister of Delhi and the CM’s name is Arvind Kejriwal”.\n",
      "</Document>\n",
      "\n",
      "---\n",
      "\n",
      "<Document href=\"https://www.youtube.com/watch?v=SaJ1bNzo-Ac\">\n",
      "Rekha Gupta took oath as the Chief Minister of Delhi on Thursday. This marked a historic moment for her party as it returned to power in the national capital after 27 years. She has now become the fourth woman Chief Minister of Delhi after she secured the Shalimar Bagh seat in the February 5 Delhi Assembly elections with over 29,000 votes. Along with Gupta, her council of ministers, Parvesh Verma, Ashish Sood, Pankaj Singh, Manjinder Singh Sirsa, Kapil Mishra, and Ravinder Indraj also took oath [...] ---\n",
      "\n",
      "Delhi Chief Minister | Delhi CM | Delhi New CM | Delhi New CM Face | BJP Delhi CM | Rekha Gupta | PM Modi | Narendra Modi | Delhi CM Oath Ceremony | Delhi Chief Minister | Delhi Chief Minister Oath Ceremony | Delhi CM Swearing In Ceremony | Rekha Gupta Swearing In Ceremony | Firstpost | News Live | World News | Latest News | Global News | International News | News | Trending News [...] at a grand ceremony at Ramlila Ground. Prime Minister Narendra Modi and other senior BJP leaders were also present at the event. Meanwhile, outgoing Delhi Chief Minister Atishi and AAP's national convenor, Arvind Kejriwal, were also invited.\n",
      "</Document>\n",
      "\n",
      "---\n",
      "\n",
      "<Document href=\"https://www.thehindu.com/news/cities/Delhi/rekha-gupta-delhi-new-chief-minister/article69239166.ece\">\n",
      "The announcement comes nearly 10 days after the BJP returned to power in the national capital after 26 years,  winning 48 out of 70 seats in the Delhi Assembly election. The party is yet to announce its picks for ministerial berths. [...] Rekha Gupta, the debutante MLA from Shalimar Bagh, has been chosen to be Delhi’s next Chief Minister, the Bharatiya Janata Party said after a Delhi legislative party meeting at its national headquarters on Wednesday evening. Ms. Gupta, 50, will be the fourth woman to head the government in the State.\n",
      "\n",
      "Delhi CM oath-taking ceremony live updates - February 20, 2024 [...] Ms. Gupta is an active member of the Rashtriya Swayamsevak Sangh, and has completed three terms as a councillor in the Municipal Corporation of Delhi. She started her political journey with the Akhil Bharatiya Vidyarthi Parishad, the RSS student wing, and was president of the Delhi University Students Association in 1996. She will be the fourth woman Chief Minister of Delhi, following the BJP’s Sushma Swaraj, the Congress’s Sheila Dikshit, and the AAP’s Atishi.\n",
      "</Document>\n",
      "\n",
      "---\n",
      "\n",
      "<Document href=\"https://www.youtube.com/watch?v=TzVBp61W_ZQ\">\n",
      "Atishi Delhi CM | Atishi Takes Charge As Chief Minister With Grand Gesture For Arvind Kejriwal \n",
      " NDTV \n",
      " 168 likes \n",
      " 26031 views \n",
      " 23 Sep 2024 \n",
      " AAP leader Atishi officially took charge as the eighth Chief Minister of Delhi today, following the resignation of Arvind Kejriwal. Drawing a symbolic comparison to the Hindu epic Ramayana, Atishi said, \"My situation is like that of Bharat, when Lord Shri Rama went into exile, and Bharat had to govern in his absence.\" [...] For News in Shorts, click here: https://www.youtube.com/playlist?list=PLYSfYVdrOZvjJ8fhLPk_Fz4tFARkpG-Y-\n",
      "\n",
      "Subscribe to our channel to get latest news updates.\n",
      "\n",
      "Follow us on Social Media:\n",
      "Like us on Facebook: https://www.facebook.com/ndtv/\n",
      "Follow us on Twitter: https://twitter.com/ndtv/\n",
      "Follow us on Instagram: https://www.instagram.com/ndtv/\n",
      "Follow us on WhatsApp: https://whatsapp.com/channel/0029Va4lixw7z4kcvZI9JM12\n",
      "Join NDTV on Telegram Messenger: https://t.me/NDTVbot/?start=hi\n",
      "</Document>\n",
      "\n",
      "---\n",
      "\n",
      "<Document href=\"https://en.wikipedia.org/wiki/Arvind_Kejriwal\">\n",
      "Political offices\n",
      "Preceded bySheila Dikshit | Chief Minister of Delhi28 December 2013 – 14 February 2014 | VacantPresident's ruleTitle next held byArvind Kejriwal\n",
      "VacantPresident's ruleTitle last held byArvind Kejriwal | Chief Minister of Delhi14 February 2015–17 September 2024 | Succeeded byAtishi Marlena Singh\n",
      "Aam Aadmi Partypolitical offices\n",
      "New political party | National Convener of AAP2012 – | Incumbent [...] September 2024, he resigned as Delhi Chief Minister saying he will only become CM again if he receives a public mandate.[9] [...] In 2012, he launched the AAP. In 2013, he assumed office as the Chief Minister of Delhi and resigned 49 days later over his inability to mobilise support for his proposed anti-corruption legislation. In the 2015 Delhi Legislative Assembly elections, the AAP registered an unprecedented majority. In subsequent 2020 elections, AAP re-emerged victorious and retained power in Delhi, following which, Kejriwal was sworn in as the Chief Minister of Delhi for the third time in a row. Outside Delhi, his\n",
      "</Document>\n",
      "\n",
      "---\n",
      "\n",
      "<Document href=\"https://www.aljazeera.com/news/2024/9/17/atishi-to-be-new-chief-minister-of-indias-capital-territory-delhi\">\n",
      "Speaking to reporters after the announcement on Tuesday, Atishi said she will be the chief minister “for a few months till [state legislative assembly] elections”, which are due in February next year.\n",
      "\n",
      "“I will work with just one goal. We have to make Arvind Kejriwal the chief minister of Delhi once again,” she said, calling the outgoing leader her “guru” (mentor). [...] Atishi new chief minister of India’s capital territory after Kejriwal quits\n",
      "\n",
      "The announcement was made by Aam Aadmi Party chief Arvind Kejriwal during a meeting with his party’s legislators in New Delhi.\n",
      "\n",
      "Delhi minister Atishi will take over as the new chief minister of India’s national capital territory after the resignation of incumbent Arvind Kejriwal, says the ruling Aam Aadmi Party (AAP). [...] A fierce Modi critic, Kejriwal is a former anticorruption crusader and had served as Delhi’s chief minister since 2015. His AAP party is a member of the Congress-led INDIA alliance.\n",
      "\n",
      "On Friday, Kejriwal was granted bail by India’s Supreme Court, six months after being detained in relation to alleged irregularities in the capital city’s liquor policy.\n",
      "</Document>\n"
     ]
    }
   ],
   "source": [
    "# generally these resutls are passed on to LLMs after concatinating the results\n",
    "\n",
    "formatted_search_docs = \"\\n\\n---\\n\\n\".join(\n",
    "    [\n",
    "        f'<Document href=\"{doc[\"url\"]}\">\\n{doc[\"content\"]}\\n</Document>'\n",
    "        for doc in search_results\n",
    "    ]\n",
    ")\n",
    "\n",
    "print(formatted_search_docs)"
   ]
  },
  {
   "cell_type": "code",
   "execution_count": 11,
   "id": "ffc86bc1",
   "metadata": {},
   "outputs": [
    {
     "data": {
      "text/plain": [
       "AIMessage(content='The current Chief Minister of Delhi is Rekha Gupta, who took office on February 20, 2025.', additional_kwargs={'refusal': None}, response_metadata={'token_usage': {'completion_tokens': 23, 'prompt_tokens': 2654, 'total_tokens': 2677, 'completion_tokens_details': {'accepted_prediction_tokens': 0, 'audio_tokens': 0, 'reasoning_tokens': 0, 'rejected_prediction_tokens': 0}, 'prompt_tokens_details': {'audio_tokens': 0, 'cached_tokens': 0}}, 'model_name': 'gpt-4o-2024-08-06', 'system_fingerprint': 'fp_76544d79cb', 'id': 'chatcmpl-BZx2MJsalDj227kPzdXnCOttDsXlR', 'finish_reason': 'stop', 'logprobs': None}, id='run-e6a70338-dd74-4fcc-b5c8-1f1c50f14846-0', usage_metadata={'input_tokens': 2654, 'output_tokens': 23, 'total_tokens': 2677, 'input_token_details': {'audio': 0, 'cache_read': 0}, 'output_token_details': {'audio': 0, 'reasoning': 0}})"
      ]
     },
     "execution_count": 11,
     "metadata": {},
     "output_type": "execute_result"
    }
   ],
   "source": [
    "# then these formatted search results can be passed on to the LLM as context and it can be asked to retrieve information from this context. \n",
    "\n",
    "prompt_template = \"\"\"\n",
    "You are an assistant for question-answering tasks. Use the following pieces of retrieved context to answer the question. If you don't know the answer, just say that you don't know. Use three sentences maximum and keep the answer concise.\n",
    "Question: {question} \n",
    "Context: {context} \n",
    "Answer:\n",
    "\"\"\"\n",
    "\n",
    "from langchain_openai import ChatOpenAI\n",
    "llm = ChatOpenAI(model=\"gpt-4o\", temperature=0) \n",
    "\n",
    "prompt = prompt_template.format(context=formatted_search_docs, question=user_query)\n",
    "\n",
    "response = llm.invoke(prompt)\n",
    "response\n",
    "\n"
   ]
  },
  {
   "cell_type": "code",
   "execution_count": 14,
   "id": "9c5c3867",
   "metadata": {},
   "outputs": [
    {
     "data": {
      "text/plain": [
       "'The current Chief Minister of Delhi is Rekha Gupta, who took office on February 20, 2025.'"
      ]
     },
     "execution_count": 14,
     "metadata": {},
     "output_type": "execute_result"
    }
   ],
   "source": [
    "response.content"
   ]
  },
  {
   "cell_type": "code",
   "execution_count": 23,
   "id": "58ced8b0",
   "metadata": {},
   "outputs": [],
   "source": [
    "# create a node for tavily search\n",
    "\n",
    "class State(TypedDict):\n",
    "    question: str\n",
    "    answer: str\n",
    "    context: Annotated[list, operator.add]\n",
    "\n",
    "def search_web(state):\n",
    "    \n",
    "    \"\"\" Retrieve docs from web search \"\"\"\n",
    "\n",
    "    # Search\n",
    "    tavily_search = TavilySearchResults(max_results=5)\n",
    "    search_docs = tavily_search.invoke(state['question'])\n",
    "\n",
    "     # Format\n",
    "    formatted_search_docs = \"\\n\\n---\\n\\n\".join(\n",
    "        [\n",
    "            f'<Document href=\"{doc[\"url\"]}\">\\n{doc[\"content\"]}\\n</Document>'\n",
    "            for doc in search_docs\n",
    "        ]\n",
    "    )\n",
    "\n",
    "    return {\"context\": [formatted_search_docs]} "
   ]
  },
  {
   "cell_type": "code",
   "execution_count": 24,
   "id": "4d22d0ab",
   "metadata": {},
   "outputs": [
    {
     "data": {
      "text/plain": [
       "{'context': ['<Document href=\"https://www.bankbazaar.com/voter-id/chief-ministers-of-delhi.html\">\\nVacant (President’s rule)\\n\\n2014-2015\\n\\nNA\\n\\nNA\\n\\nArvind Kejriwal\\n\\n2015- 17 september 2024\\n\\nAam Aadmi Party\\n\\nNew Delhi\\n\\nAtishi Marlena Singh\\n\\n17 September 2024-Present\\n\\nAam Aadmi Party\\n\\nKalkaji\\n\\nCurrent Chief Minister of Delhi(DL):\\n\\nChief Minister of DL - Atishi Marlena singh\\n\\nBorn -\\xa0 8th June 1981,\\xa0Delhi\\n\\nPolitical Party -\\xa0Aam Aadmi Party\\n\\nConstituency -\\xa0Kalkaji\\n\\nSpouse -\\xa0Pravin Singh\\n\\nChildren - NA\\n\\nPolitical Parties in Delhi:\\n\\nAAP - Aam Aadmi Party\\n\\nBJP - Bharatiya Janata Party [...] CM name | Duration | Party | Constituency\\nBrahm Prakash(Current Chief Minister) | 1952-1955 | Indian National Congress | Nangloi Jat\\nGurmukh Nihar Singh | 1955-1956 | Indian National Congress | Daryaganj\\nMadan Lal Khurana | 1993-1956 | Bharatiya Janata Party | Moti Nagar\\nSahib Singh Verma | 1956-1998 | Bharatiya Janata Party | Shalimar Bagh\\nSushma Swaraj | 1998-1998 | Bharatiya Janata Party | NA\\nSheila Dikshit | 1998-2013 | Indian National Congress | New Delhi [...] Arvind Kejriwal | 2013-2014 | Aam Aadmi Party | New Delhi\\nVacant (President’s rule) | 2014-2015 | NA | NA\\nArvind Kejriwal | 2015- 17 september 2024 | Aam Aadmi Party | New Delhi\\nAtishi Marlena Singh | 17 September 2024-Present | Aam Aadmi Party | Kalkaji\\nCM name\\n</Document>\\n\\n---\\n\\n<Document href=\"https://www.jagranjosh.com/general-knowledge/delhi-chief-ministers-cm-list-party-name-and-tenure-1726561886-1\">\\nRekha Gupta of the Bharatiya Janata Party (BJP) has been declared the new Chief Minister of Delhi. This announcement on February 19, 2025, marks the BJP\\'s return to power in Delhi after 27 years, with the party securing 48 out of 70 assembly seats.\\n\\nGupta, previously the General Secretary of the Delhi BJP and a former president of the Delhi University Students\\' Union, won the Shalimar Bagh constituency. Her swearing-in ceremony is scheduled for February 20, 2025, at Ramlila Maidan. [...] Delhi CM List: Chief Ministers of Delhi Party Names and Tenure (1952-2025)\\n\\nDelhi Chief Ministers:\\xa0Rekha Gupta is the 9th Chief Minister of Delhi, representing the Bharatiya Janata Party (BJP). The announcement was made on February 19, 2025, following the BJP\\'s significant victory in the recent assembly elections, where they secured 48 out of 70 seats, marking their return to power in Delhi after 27 years. [...] Rekha Gupta is the newly-elect Chief Minister of Delhi, representing the Bharatiya Janata Party (BJP). The announcement was made on February 19, 2025. She is the 4th female chief minister of New Delhi.\\n\\nIf you are curious about the CMs of New Delhi from 1952 till now, this article provides a brief overview of the Chief Ministers who have served in New Delhi since its first state assembly elections. It highlights the democratic process and the changes in leadership over the years.\\n</Document>\\n\\n---\\n\\n<Document href=\"https://en.wikipedia.org/wiki/List_of_chief_ministers_of_Delhi\">\\nNovember 1993[5] and Madan Lal Khurana of Bharatiya Janata Party was sworn in as the chief minister.[6] The longest-serving chief minister, Sheila Dikshit from the Indian National Congress party, held the office for over fifteen years.[7] On 28 December 2013, Arvind Kejriwal of Aam Aadmi Party sworn in as first state party chief minister of the national capital territory. There has been one instance of president\\'s rule in the National Capital Territory of Delhi, most recently in 2015. In the [...] Chief Minister of National Capital Territory of Delhi\\nEmblem of the NCT of Delhi\\nIncumbentRekha Guptasince\\xa020 February 2025\\nGovernment of Delhi\\nType | Head of State Government\\nMember of | Delhi Legislative Assembly* Council of Ministers of Delhi\\nReports to | Lieutenant Governor of Delhi*Delhi Legislative Assembly\\nResidence | 6, Flagstaff Road,Civil Lines, Delhi\\nSeat | Old Secretariat, Vikram Nagar, Civil Lines,New Delhi\\nNominator | Members of theGovernment of DelhiinDelhi Legislative Assembly [...] No. | Name | Party | Length of term\\nLongest continuous term | Total years of chief ministership\\n1 | Sheila Dikshit | INC |  | 15 years, 25 days | 15 years, 25 days\\n2 | Arvind Kejriwal | AAP |  | 9 years, 218 days | 9 years, 266 days\\n3 | Brahm Parkash | INC |  | 2 years, 332 days | 2 years, 332 days\\n4 | Sahib Singh Verma | BJP |  | 2 years, 228 days | 2 years, 228 days\\n5 | Madan Lal Khurana | BJP |  | 2 years, 86 days | 2 years, 86 days\\n</Document>\\n\\n---\\n\\n<Document href=\"https://www.thehindu.com/news/national/this-is-arvind-kejriwals-chair-atishi-takes-charge-as-delhi-cm-with-an-empty-chair-beside-her/article68673103.ece\">\\nAam Aadmi Party (AAP) leader Atishi took charge as the eighth Chief Minister of Delhi on Monday (September 23, 2024) after taking the oath of office on Saturday (September 21, 2024). Refusing to sit on the chair used by her predecessor Arvind Kejriwal, Ms. Atishi chose to sit on a different chair. “This is Delhi’s Chief Minister’s chair, this chair, is Arvind Kejriwal ji’s,“ she said after taking charge at the Delhi Secretariat. [...] “I have full faith that in the election which is due in February, the people of Delhi will elect Arvind Kejriwal ji as Chief Minister again. Till then this chair will be in this room, in expectation of Arvind Kejriwal ji,” she said.\\n\\nIn her first interaction with the media, after being announced as the next CM, in the last week, she had called Mr. Kejriwal her “guru”. She said the media, “there is only one Chief Minister of Delhi and the CM’s name is Arvind Kejriwal”. [...] The third and the youngest woman Chief Minister of Delhi, Ms. Atishi has retained the 13 portfolios she held in the Kejriwal government, including those of education, revenue, finance, power and PWD.\\n\\nAtishi takes charge as Delhi Chief Minister, leaving a chair empty for Arvind Kejriwal at her office in the Delhi Secretariat in New Delhi on September 23, 2024.\\n                                                            | Photo Credit: \\n                                Shashi Shekhar Kashyap\\n</Document>\\n\\n---\\n\\n<Document href=\"https://www.thehindu.com/news/cities/Delhi/rekha-gupta-delhi-new-chief-minister/article69239166.ece\">\\nRekha Gupta, the debutante MLA from Shalimar Bagh, has been chosen to be Delhi’s next Chief Minister, the Bharatiya Janata Party said after a Delhi legislative party meeting at its national headquarters on Wednesday evening. Ms. Gupta, 50, will be the fourth woman to head the government in the State.\\n\\nDelhi CM oath-taking ceremony live updates - February 20, 2024 [...] The announcement comes nearly 10 days after the BJP returned to power in the national capital after 26 years,  winning 48 out of 70 seats in the Delhi Assembly election. The party is yet to announce its picks for ministerial berths. [...] Ms. Gupta is an active member of the Rashtriya Swayamsevak Sangh, and has completed three terms as a councillor in the Municipal Corporation of Delhi. She started her political journey with the Akhil Bharatiya Vidyarthi Parishad, the RSS student wing, and was president of the Delhi University Students Association in 1996. She will be the fourth woman Chief Minister of Delhi, following the BJP’s Sushma Swaraj, the Congress’s Sheila Dikshit, and the AAP’s Atishi.\\n</Document>']}"
      ]
     },
     "execution_count": 24,
     "metadata": {},
     "output_type": "execute_result"
    }
   ],
   "source": [
    "# invoke it as a function\n",
    "\n",
    "state = {\"question\": \"Who is the current CM of Delhi?\"}\n",
    "state = search_web(state)\n",
    "\n",
    "state\n"
   ]
  },
  {
   "cell_type": "code",
   "execution_count": 26,
   "id": "a9a0dec6",
   "metadata": {},
   "outputs": [
    {
     "data": {
      "image/png": "[encoded data removed]",
      "text/plain": [
       "<IPython.core.display.Image object>"
      ]
     },
     "metadata": {},
     "output_type": "display_data"
    }
   ],
   "source": [
    "#invoke it as a graph\n",
    "from IPython.display import Image, display\n",
    "\n",
    "from typing import Any\n",
    "from typing_extensions import TypedDict\n",
    "\n",
    "from langgraph.graph import StateGraph, START, END\n",
    "\n",
    "\n",
    "# Add nodes\n",
    "builder = StateGraph(State)\n",
    "\n",
    "# Initialize each node with node_secret \n",
    "builder.add_node(\"tavily_search\", search_web)\n",
    "\n",
    "# Flow\n",
    "builder.add_edge(START, \"tavily_search\")\n",
    "builder.add_edge(\"tavily_search\", END)\n",
    "graph = builder.compile()\n",
    "\n",
    "display(Image(graph.get_graph().draw_mermaid_png()))"
   ]
  },
  {
   "cell_type": "code",
   "execution_count": 27,
   "id": "3aea95e4",
   "metadata": {},
   "outputs": [
    {
     "data": {
      "text/plain": [
       "{'question': 'Who is the current CM of Delhi?',\n",
       " 'context': ['<Document href=\"https://www.bankbazaar.com/voter-id/chief-ministers-of-delhi.html\">\\nVacant (President’s rule)\\n\\n2014-2015\\n\\nNA\\n\\nNA\\n\\nArvind Kejriwal\\n\\n2015- 17 september 2024\\n\\nAam Aadmi Party\\n\\nNew Delhi\\n\\nAtishi Marlena Singh\\n\\n17 September 2024-Present\\n\\nAam Aadmi Party\\n\\nKalkaji\\n\\nCurrent Chief Minister of Delhi(DL):\\n\\nChief Minister of DL - Atishi Marlena singh\\n\\nBorn -\\xa0 8th June 1981,\\xa0Delhi\\n\\nPolitical Party -\\xa0Aam Aadmi Party\\n\\nConstituency -\\xa0Kalkaji\\n\\nSpouse -\\xa0Pravin Singh\\n\\nChildren - NA\\n\\nPolitical Parties in Delhi:\\n\\nAAP - Aam Aadmi Party\\n\\nBJP - Bharatiya Janata Party [...] Arvind Kejriwal | 2013-2014 | Aam Aadmi Party | New Delhi\\nVacant (President’s rule) | 2014-2015 | NA | NA\\nArvind Kejriwal | 2015- 17 september 2024 | Aam Aadmi Party | New Delhi\\nAtishi Marlena Singh | 17 September 2024-Present | Aam Aadmi Party | Kalkaji\\nCM name [...] CM name | Duration | Party | Constituency\\nBrahm Prakash(Current Chief Minister) | 1952-1955 | Indian National Congress | Nangloi Jat\\nGurmukh Nihar Singh | 1955-1956 | Indian National Congress | Daryaganj\\nMadan Lal Khurana | 1993-1956 | Bharatiya Janata Party | Moti Nagar\\nSahib Singh Verma | 1956-1998 | Bharatiya Janata Party | Shalimar Bagh\\nSushma Swaraj | 1998-1998 | Bharatiya Janata Party | NA\\nSheila Dikshit | 1998-2013 | Indian National Congress | New Delhi\\n</Document>\\n\\n---\\n\\n<Document href=\"https://www.jagranjosh.com/general-knowledge/rekha-gupta-delhi-cm-facts-you-need-to-know-1740034755-1\">\\nRekha Gupta, a seasoned Indian politician from the Bharatiya Janata Party (BJP), is set to serve as the 9th Chief Minister of Delhi from February 20, 2025. She will be the fourth woman to hold this position after Atishi Singh, Sushma Swaraj, and Sheila Dikshit. Rekha Gupta currently represents the Shalimar Bagh constituency in the Delhi Legislative Assembly. She has previously held significant roles in BJP\\'s Delhi unit, including General Secretary and Member of the National Executive. [...] Vision as Delhi’s Chief Minister\\n\\nAs she will assume office on February 20, Rekha Gupta has outlined her governance priorities, focusing on:\\n\\nContact and Engagement\\n\\nRekha Gupta’s journey is a testament to perseverance and dedication in public service. Her leadership continues to inspire and impact lives across Delhi and beyond.\\n\\nContent Writer [...] 13 Facts You Need to Know About Rekha Gupta - Current CM of Delhi\\n\\nRekha Gupta, a seasoned BJP leader, will be the 9th Chief Minister of Delhi, marking a significant milestone in her political journey. From her tenure as DUSU President to her contributions in women’s welfare, urban development, and governance, her leadership aims to bring progressive reforms, infrastructure advancements, and economic stability. Here is 13 Facts about Rekha Gupta that you should know.\\n</Document>\\n\\n---\\n\\n<Document href=\"https://en.wikipedia.org/wiki/List_of_chief_ministers_of_Delhi\">\\nNovember 1993[5] and Madan Lal Khurana of Bharatiya Janata Party was sworn in as the chief minister.[6] The longest-serving chief minister, Sheila Dikshit from the Indian National Congress party, held the office for over fifteen years.[7] On 28 December 2013, Arvind Kejriwal of Aam Aadmi Party sworn in as first state party chief minister of the national capital territory. There has been one instance of president\\'s rule in the National Capital Territory of Delhi, most recently in 2015. In the [...] Chief Minister of National Capital Territory of Delhi\\nEmblem of the NCT of Delhi\\nIncumbentRekha Guptasince\\xa020 February 2025\\nGovernment of Delhi\\nType | Head of State Government\\nMember of | Delhi Legislative Assembly* Council of Ministers of Delhi\\nReports to | Lieutenant Governor of Delhi*Delhi Legislative Assembly\\nResidence | 6, Flagstaff Road,Civil Lines, Delhi\\nSeat | Old Secretariat, Vikram Nagar, Civil Lines,New Delhi\\nNominator | Members of theGovernment of DelhiinDelhi Legislative Assembly\\n</Document>\\n\\n---\\n\\n<Document href=\"https://www.thehindu.com/news/national/this-is-arvind-kejriwals-chair-atishi-takes-charge-as-delhi-cm-with-an-empty-chair-beside-her/article68673103.ece\">\\nAam Aadmi Party (AAP) leader Atishi took charge as the eighth Chief Minister of Delhi on Monday (September 23, 2024) after taking the oath of office on Saturday (September 21, 2024). Refusing to sit on the chair used by her predecessor Arvind Kejriwal, Ms. Atishi chose to sit on a different chair. “This is Delhi’s Chief Minister’s chair, this chair, is Arvind Kejriwal ji’s,“ she said after taking charge at the Delhi Secretariat. [...] The third and the youngest woman Chief Minister of Delhi, Ms. Atishi has retained the 13 portfolios she held in the Kejriwal government, including those of education, revenue, finance, power and PWD.\\n\\nAtishi takes charge as Delhi Chief Minister, leaving a chair empty for Arvind Kejriwal at her office in the Delhi Secretariat in New Delhi on September 23, 2024.\\n                                                            | Photo Credit: \\n                                Shashi Shekhar Kashyap [...] “I have full faith that in the election which is due in February, the people of Delhi will elect Arvind Kejriwal ji as Chief Minister again. Till then this chair will be in this room, in expectation of Arvind Kejriwal ji,” she said.\\n\\nIn her first interaction with the media, after being announced as the next CM, in the last week, she had called Mr. Kejriwal her “guru”. She said the media, “there is only one Chief Minister of Delhi and the CM’s name is Arvind Kejriwal”.\\n</Document>\\n\\n---\\n\\n<Document href=\"https://www.youtube.com/watch?v=SaJ1bNzo-Ac\">\\n---\\n\\nDelhi Chief Minister | Delhi CM | Delhi New CM | Delhi New CM Face | BJP Delhi CM | Rekha Gupta | PM Modi | Narendra Modi | Delhi CM Oath Ceremony | Delhi Chief Minister | Delhi Chief Minister Oath Ceremony | Delhi CM Swearing In Ceremony | Rekha Gupta Swearing In Ceremony | Firstpost | News Live | World News | Latest News | Global News | International News | News | Trending News [...] Rekha Gupta took oath as the Chief Minister of Delhi on Thursday. This marked a historic moment for her party as it returned to power in the national capital after 27 years. She has now become the fourth woman Chief Minister of Delhi after she secured the Shalimar Bagh seat in the February 5 Delhi Assembly elections with over 29,000 votes. Along with Gupta, her council of ministers, Parvesh Verma, Ashish Sood, Pankaj Singh, Manjinder Singh Sirsa, Kapil Mishra, and Ravinder Indraj also took oath [...] #delhicm #chiefminister #delhichiefminister #rekhagupta #bjp #rekhaguptaswearingin #narendramodi #delhicm #delhicmoath #rekhaguptaoath #firstpost #newslive #worldnews #latestnews #globalnews #news #internationalnews #trendingnews\\n\\nFirstpost is an Indian news and media website. Get all the incisive opinions, in-depth analyses and other visual stories that matter to you and the world right here on this channel.\\n</Document>']}"
      ]
     },
     "execution_count": 27,
     "metadata": {},
     "output_type": "execute_result"
    }
   ],
   "source": [
    "state = {\"question\": \"Who is the current CM of Delhi?\"}\n",
    "state = graph.invoke(state)\n",
    "\n",
    "state"
   ]
  },
  {
   "cell_type": "markdown",
   "id": "09e7499f",
   "metadata": {},
   "source": [
    "**Observe:** The graph just updates the search result in the state. Lets add a summary node for using an LLM"
   ]
  },
  {
   "cell_type": "code",
   "execution_count": 28,
   "id": "c097eb29",
   "metadata": {},
   "outputs": [
    {
     "data": {
      "image/png": "[encoded data removed]",
      "text/plain": [
       "<IPython.core.display.Image object>"
      ]
     },
     "metadata": {},
     "output_type": "display_data"
    }
   ],
   "source": [
    "\n",
    "# create a node for tavily search\n",
    "\n",
    "class State(TypedDict):\n",
    "    question: str\n",
    "    answer: str\n",
    "    context: Annotated[list, operator.add]\n",
    "\n",
    "def search_web(state):\n",
    "    \n",
    "    \"\"\" Retrieve docs from web search \"\"\"\n",
    "\n",
    "    # Search\n",
    "    tavily_search = TavilySearchResults(max_results=5)\n",
    "    search_docs = tavily_search.invoke(state['question'])\n",
    "\n",
    "     # Format\n",
    "    formatted_search_docs = \"\\n\\n---\\n\\n\".join(\n",
    "        [\n",
    "            f'<Document href=\"{doc[\"url\"]}\">\\n{doc[\"content\"]}\\n</Document>'\n",
    "            for doc in search_docs\n",
    "        ]\n",
    "    )\n",
    "\n",
    "    return {\"context\": [formatted_search_docs]} \n",
    "\n",
    "\n",
    "def generate_answer(state):\n",
    "    \n",
    "    \"\"\" Node to answer a question \"\"\"\n",
    "\n",
    "    # Get state\n",
    "    context = state[\"context\"]\n",
    "    question = state[\"question\"]\n",
    "    \n",
    "    prompt_template = \"\"\"\n",
    "    You are an assistant for question-answering tasks. Use the following pieces of retrieved context to answer the question. If you don't know the answer, just say that you don't know. Use three sentences maximum and keep the answer concise.\n",
    "    Question: {question} \n",
    "    Context: {context} \n",
    "    Answer:\n",
    "    \"\"\"\n",
    "\n",
    "    prompt = prompt_template.format(question=question, context=context)    \n",
    "    \n",
    "    # Answer\n",
    "    llm_response = llm.invoke(prompt)\n",
    "      \n",
    "    # Append it to state\n",
    "    return {\"answer\": llm_response.content}\n",
    "\n",
    "\n",
    "#build graph\n",
    "#invoke it as a graph\n",
    "from IPython.display import Image, display\n",
    "\n",
    "from typing import Any\n",
    "from typing_extensions import TypedDict\n",
    "\n",
    "from langgraph.graph import StateGraph, START, END\n",
    "\n",
    "\n",
    "# Add nodes\n",
    "builder = StateGraph(State)\n",
    "\n",
    "# Initialize each node with node_secret \n",
    "builder.add_node(\"tavily_search\", search_web)\n",
    "builder.add_node(\"summarize_search_results\", generate_answer)\n",
    "\n",
    "\n",
    "# Flow\n",
    "builder.add_edge(START, \"tavily_search\")\n",
    "builder.add_edge(\"tavily_search\", \"summarize_search_results\")\n",
    "builder.add_edge(\"summarize_search_results\",END)\n",
    "graph = builder.compile()\n",
    "\n",
    "display(Image(graph.get_graph().draw_mermaid_png()))"
   ]
  },
  {
   "cell_type": "code",
   "execution_count": 29,
   "id": "f84dc49e",
   "metadata": {},
   "outputs": [
    {
     "data": {
      "text/plain": [
       "{'question': 'Who is the current CM of Delhi?',\n",
       " 'answer': 'The current Chief Minister of Delhi is Rekha Gupta, representing the Bharatiya Janata Party (BJP), as of February 20, 2025.',\n",
       " 'context': ['<Document href=\"https://www.bankbazaar.com/voter-id/chief-ministers-of-delhi.html\">\\nVacant (President’s rule)\\n\\n2014-2015\\n\\nNA\\n\\nNA\\n\\nArvind Kejriwal\\n\\n2015- 17 september 2024\\n\\nAam Aadmi Party\\n\\nNew Delhi\\n\\nAtishi Marlena Singh\\n\\n17 September 2024-Present\\n\\nAam Aadmi Party\\n\\nKalkaji\\n\\nCurrent Chief Minister of Delhi(DL):\\n\\nChief Minister of DL - Atishi Marlena singh\\n\\nBorn -\\xa0 8th June 1981,\\xa0Delhi\\n\\nPolitical Party -\\xa0Aam Aadmi Party\\n\\nConstituency -\\xa0Kalkaji\\n\\nSpouse -\\xa0Pravin Singh\\n\\nChildren - NA\\n\\nPolitical Parties in Delhi:\\n\\nAAP - Aam Aadmi Party\\n\\nBJP - Bharatiya Janata Party [...] CM name | Duration | Party | Constituency\\nBrahm Prakash(Current Chief Minister) | 1952-1955 | Indian National Congress | Nangloi Jat\\nGurmukh Nihar Singh | 1955-1956 | Indian National Congress | Daryaganj\\nMadan Lal Khurana | 1993-1956 | Bharatiya Janata Party | Moti Nagar\\nSahib Singh Verma | 1956-1998 | Bharatiya Janata Party | Shalimar Bagh\\nSushma Swaraj | 1998-1998 | Bharatiya Janata Party | NA\\nSheila Dikshit | 1998-2013 | Indian National Congress | New Delhi [...] Arvind Kejriwal | 2013-2014 | Aam Aadmi Party | New Delhi\\nVacant (President’s rule) | 2014-2015 | NA | NA\\nArvind Kejriwal | 2015- 17 september 2024 | Aam Aadmi Party | New Delhi\\nAtishi Marlena Singh | 17 September 2024-Present | Aam Aadmi Party | Kalkaji\\nCM name\\n</Document>\\n\\n---\\n\\n<Document href=\"https://www.jagranjosh.com/general-knowledge/delhi-chief-ministers-cm-list-party-name-and-tenure-1726561886-1\">\\nRekha Gupta of the Bharatiya Janata Party (BJP) has been declared the new Chief Minister of Delhi. This announcement on February 19, 2025, marks the BJP\\'s return to power in Delhi after 27 years, with the party securing 48 out of 70 assembly seats.\\n\\nGupta, previously the General Secretary of the Delhi BJP and a former president of the Delhi University Students\\' Union, won the Shalimar Bagh constituency. Her swearing-in ceremony is scheduled for February 20, 2025, at Ramlila Maidan. [...] Delhi CM List: Chief Ministers of Delhi Party Names and Tenure (1952-2025)\\n\\nDelhi Chief Ministers:\\xa0Rekha Gupta is the 9th Chief Minister of Delhi, representing the Bharatiya Janata Party (BJP). The announcement was made on February 19, 2025, following the BJP\\'s significant victory in the recent assembly elections, where they secured 48 out of 70 seats, marking their return to power in Delhi after 27 years. [...] Rekha Gupta is the newly-elect Chief Minister of Delhi, representing the Bharatiya Janata Party (BJP). The announcement was made on February 19, 2025. She is the 4th female chief minister of New Delhi.\\n\\nIf you are curious about the CMs of New Delhi from 1952 till now, this article provides a brief overview of the Chief Ministers who have served in New Delhi since its first state assembly elections. It highlights the democratic process and the changes in leadership over the years.\\n</Document>\\n\\n---\\n\\n<Document href=\"https://en.wikipedia.org/wiki/List_of_chief_ministers_of_Delhi\">\\nNovember 1993[5] and Madan Lal Khurana of Bharatiya Janata Party was sworn in as the chief minister.[6] The longest-serving chief minister, Sheila Dikshit from the Indian National Congress party, held the office for over fifteen years.[7] On 28 December 2013, Arvind Kejriwal of Aam Aadmi Party sworn in as first state party chief minister of the national capital territory. There has been one instance of president\\'s rule in the National Capital Territory of Delhi, most recently in 2015. In the [...] Chief Minister of National Capital Territory of Delhi\\nEmblem of the NCT of Delhi\\nIncumbentRekha Guptasince\\xa020 February 2025\\nGovernment of Delhi\\nType | Head of State Government\\nMember of | Delhi Legislative Assembly* Council of Ministers of Delhi\\nReports to | Lieutenant Governor of Delhi*Delhi Legislative Assembly\\nResidence | 6, Flagstaff Road,Civil Lines, Delhi\\nSeat | Old Secretariat, Vikram Nagar, Civil Lines,New Delhi\\nNominator | Members of theGovernment of DelhiinDelhi Legislative Assembly [...] No. | Name | Party | Length of term\\nLongest continuous term | Total years of chief ministership\\n1 | Sheila Dikshit | INC |  | 15 years, 25 days | 15 years, 25 days\\n2 | Arvind Kejriwal | AAP |  | 9 years, 218 days | 9 years, 266 days\\n3 | Brahm Parkash | INC |  | 2 years, 332 days | 2 years, 332 days\\n4 | Sahib Singh Verma | BJP |  | 2 years, 228 days | 2 years, 228 days\\n5 | Madan Lal Khurana | BJP |  | 2 years, 86 days | 2 years, 86 days\\n</Document>\\n\\n---\\n\\n<Document href=\"https://www.thehindu.com/news/national/this-is-arvind-kejriwals-chair-atishi-takes-charge-as-delhi-cm-with-an-empty-chair-beside-her/article68673103.ece\">\\nAam Aadmi Party (AAP) leader Atishi took charge as the eighth Chief Minister of Delhi on Monday (September 23, 2024) after taking the oath of office on Saturday (September 21, 2024). Refusing to sit on the chair used by her predecessor Arvind Kejriwal, Ms. Atishi chose to sit on a different chair. “This is Delhi’s Chief Minister’s chair, this chair, is Arvind Kejriwal ji’s,“ she said after taking charge at the Delhi Secretariat. [...] “I have full faith that in the election which is due in February, the people of Delhi will elect Arvind Kejriwal ji as Chief Minister again. Till then this chair will be in this room, in expectation of Arvind Kejriwal ji,” she said.\\n\\nIn her first interaction with the media, after being announced as the next CM, in the last week, she had called Mr. Kejriwal her “guru”. She said the media, “there is only one Chief Minister of Delhi and the CM’s name is Arvind Kejriwal”. [...] The third and the youngest woman Chief Minister of Delhi, Ms. Atishi has retained the 13 portfolios she held in the Kejriwal government, including those of education, revenue, finance, power and PWD.\\n\\nAtishi takes charge as Delhi Chief Minister, leaving a chair empty for Arvind Kejriwal at her office in the Delhi Secretariat in New Delhi on September 23, 2024.\\n                                                            | Photo Credit: \\n                                Shashi Shekhar Kashyap\\n</Document>\\n\\n---\\n\\n<Document href=\"https://www.thehindu.com/news/cities/Delhi/rekha-gupta-delhi-new-chief-minister/article69239166.ece\">\\nRekha Gupta, the debutante MLA from Shalimar Bagh, has been chosen to be Delhi’s next Chief Minister, the Bharatiya Janata Party said after a Delhi legislative party meeting at its national headquarters on Wednesday evening. Ms. Gupta, 50, will be the fourth woman to head the government in the State.\\n\\nDelhi CM oath-taking ceremony live updates - February 20, 2024 [...] The announcement comes nearly 10 days after the BJP returned to power in the national capital after 26 years,  winning 48 out of 70 seats in the Delhi Assembly election. The party is yet to announce its picks for ministerial berths. [...] Ms. Gupta is an active member of the Rashtriya Swayamsevak Sangh, and has completed three terms as a councillor in the Municipal Corporation of Delhi. She started her political journey with the Akhil Bharatiya Vidyarthi Parishad, the RSS student wing, and was president of the Delhi University Students Association in 1996. She will be the fourth woman Chief Minister of Delhi, following the BJP’s Sushma Swaraj, the Congress’s Sheila Dikshit, and the AAP’s Atishi.\\n</Document>']}"
      ]
     },
     "execution_count": 29,
     "metadata": {},
     "output_type": "execute_result"
    }
   ],
   "source": [
    "# lets invoke the graph\n",
    "state = {\"question\": \"Who is the current CM of Delhi?\"}\n",
    "state = graph.invoke(state)\n",
    "\n",
    "state\n"
   ]
  },
  {
   "cell_type": "code",
   "execution_count": null,
   "id": "d444c966",
   "metadata": {},
   "outputs": [],
   "source": []
  }
 ],
 "metadata": {
  "kernelspec": {
   "display_name": "langgraph-academy",
   "language": "python",
   "name": "python3"
  },
  "language_info": {
   "codemirror_mode": {
    "name": "ipython",
    "version": 3
   },
   "file_extension": ".py",
   "mimetype": "text/x-python",
   "name": "python",
   "nbconvert_exporter": "python",
   "pygments_lexer": "ipython3",
   "version": "3.11.11"
  }
 },
 "nbformat": 4,
 "nbformat_minor": 5
}
